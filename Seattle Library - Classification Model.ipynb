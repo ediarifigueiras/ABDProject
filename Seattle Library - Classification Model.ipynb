{
 "cells": [
  {
   "cell_type": "markdown",
   "id": "stock-ozone",
   "metadata": {},
   "source": [
    "# Seattle Library Classification Problem"
   ]
  },
  {
   "cell_type": "markdown",
   "id": "statistical-newfoundland",
   "metadata": {},
   "source": [
    "This dataset includes monthly snapshot of all of the physical items in the Seattle Public Library’s collection. Consistent monthly data begins with a snapshot taken August1, 2016, continuing to the present. Additionally, this dataset contains snapshots taken on: January 1 in the years 2012, 2013, 2014, and 2016."
   ]
  },
  {
   "cell_type": "markdown",
   "id": "damaged-decimal",
   "metadata": {},
   "source": [
    "## Data Schema"
   ]
  },
  {
   "cell_type": "markdown",
   "id": "composite-pharmacology",
   "metadata": {},
   "source": [
    "Initial state of the datasets (with inferSchema):"
   ]
  },
  {
   "cell_type": "markdown",
   "id": "greenhouse-crime",
   "metadata": {},
   "source": [
    "**Seattle Library Dataframe Column Description**\n",
    "\n",
    "\n",
    "| Column     | Type       | Description |\n",
    "|--------  |---------  |: --------- |\n",
    "| **BibNum** | Integer | The unique identifier for a cataloged item within the Library's Integrated Library System (ILS). |\n",
    "| **Title** | String | The full title of an item. |\n",
    "| **Author** | String | The name of the first author of the title, if applicable. |\n",
    "| **ISBN** | String | Comma-delimited list of ISBN(s) for this title. |\n",
    "| **PublicationYear** | String | Date (year) of publication. |\n",
    "| **Publisher** | String | The name of the publishing company for this item. |\n",
    "| **Subjects** | String | A comma-separated list of the subject authority records associated with the title, including Motion Pictures, Computer Programming, etc. Typically these are highly specific. |\n",
    "| **ItemType** | String | Horizon item type. Look up value descriptions in HorizonCodes using CodeType \"ItemType\". |\n",
    "| **ItemCollection** | String | Collection code for this item. Look up value descriptions in: Integrated Library System (ILS) Data Dictionary |\n",
    "| **FloatingItem** | String | Label that indicates if an item floats - Floating collections do not assign items to \"owning\" locations and instead allows those itemsto move around the library system based on where patrons are checking them out from and returning them to |\n",
    "| **ItemLocation** | String | Location that owned the item at the time of snapshot. 3-letter code. Note: as of 2017, some items are \"FLOATING\" which means they don't necessarily belong to a specific branch. Location of given copy could change based on where the item is returned. |\n",
    "| **ReportDate** | String | The date when this item count was collected from the ILS (Horizon). |\n",
    "| **ItemCount** | String | The number of items in this location, collection, item type, and item status as of the report date. |\n",
    "\n"
   ]
  },
  {
   "cell_type": "markdown",
   "id": "exposed-treaty",
   "metadata": {},
   "source": [
    "**ItemCollection Dataframe Column Description** (an auxiliary dataset)\n",
    "\n",
    "\n",
    "| Column     | Type       \n",
    "|--------  |---------  |\n",
    "| **CodeType** | String |\n",
    "| **Code** | String | \n",
    "| **Description** | String |\n",
    "| **CollectionInventoryIncluded** | String | \n",
    "| **FormatGroup** | String | \n",
    "| **FormatSubgroup** | String | \n",
    "| **CategoryGroup** | String | \n",
    "| **CategorySubgroup** | String | \n",
    "| **AgeGroup** | String | "
   ]
  },
  {
   "cell_type": "markdown",
   "id": "forty-trunk",
   "metadata": {},
   "source": [
    "Needed imports to implement the solution:"
   ]
  },
  {
   "cell_type": "code",
   "execution_count": 64,
   "id": "productive-custody",
   "metadata": {},
   "outputs": [],
   "source": [
    "import os\n",
    "\n",
    "import pandas as pd\n",
    "import scipy as sc\n",
    "import seaborn as sb\n",
    "import numpy as np\n",
    "import matplotlib.pyplot as plt\n",
    "\n",
    "from pyspark.ml import Pipeline\n",
    "from pyspark.ml.stat import Correlation\n",
    "from pyspark.ml.feature import StringIndexer, VectorAssembler, OneHotEncoder, VectorIndexer, CountVectorizer, RFormula, RegexTokenizer, StopWordsRemover, Tokenizer, HashingTF, IDF\n",
    "from pyspark.ml.classification import NaiveBayes, DecisionTreeClassifier, RandomForestClassifier\n",
    "from pyspark.ml.evaluation import MulticlassClassificationEvaluator\n",
    "\n",
    "from pyspark.sql.types import *\n",
    "from pyspark.sql.functions import isnan, when, count, col, countDistinct, split, expr, array_sort, concat_ws\n",
    "\n",
    "import warnings\n",
    "warnings.filterwarnings(\"ignore\")"
   ]
  },
  {
   "cell_type": "markdown",
   "id": "coordinate-philip",
   "metadata": {},
   "source": [
    "## Useful functions"
   ]
  },
  {
   "cell_type": "code",
   "execution_count": 2,
   "id": "speaking-peninsula",
   "metadata": {},
   "outputs": [],
   "source": [
    "def ScatterPlot(df, width, height):\n",
    "    plt.figure(figsize=(width, height))\n",
    "    plt.pcolor(df)\n",
    "    plt.yticks(np.arange(0.5, len(df.index), 1), df.index)\n",
    "    plt.xticks(np.arange(0.5, len(df.columns), 1), df.columns)\n",
    "    plt.show()"
   ]
  },
  {
   "cell_type": "code",
   "execution_count": 3,
   "id": "subsequent-government",
   "metadata": {},
   "outputs": [
    {
     "name": "stdout",
     "output_type": "stream",
     "text": [
      "/home/big/Desktop/ABD Project\n",
      "total 15569352\n",
      "drwxrwxr-x 7 big big        4096 mai 22 03:57  .\n",
      "drwxr-xr-x 5 big big        4096 mai 15 19:58  ..\n",
      "-rw-rw-r-- 1 big big  4051295256 mai 11 04:07  archive.zip\n",
      "drwxr-xr-x 2 big big        4096 mai 16 18:14  cleaned-library-dataset\n",
      "drwxr-xr-x 2 big big        4096 mai 22 03:13  clean-library-final-dataset\n",
      "-rw-rw-r-- 1 big big       37147 dez  1  2019  CollectionInventory_Codes_EXCLUDED_INCLUDED.xlsx\n",
      "-rw-rw-r-- 1 big big        6959 mai 19 23:33  Exercising.ipynb\n",
      "drwxrwxr-x 8 big big        4096 mai 21 19:33  .git\n",
      "-rw-rw-r-- 1 big big         108 mai 21 19:31  .gitignore\n",
      "-rw-rw-r-- 1 big big       41917 mai 12 21:46  Integrated_Library_System__ILS__Data_Dictionary.csv\n",
      "drwxrwxr-x 2 big big        4096 mai 20 16:37  .ipynb_checkpoints\n",
      "-rw-rw-r-- 1 big big       34175 mai 16 15:10  ItemCollection.csv\n",
      "-rw-rw-r-- 1 big big        8120 mai 16 15:10  ItemType.csv\n",
      "-rw-rw-r-- 1 big big 11764863851 dez  1  2019  library-collection-inventory.csv\n",
      "-rw-rw-r-- 1 big big      298859 dez  1  2019 'Library Collection Inventory FAQs.pdf'\n",
      "-rw-r--r-- 1 big big   117819461 mai 12 22:42  library-collection-inventory-sample.csv\n",
      "drwxr-xr-x 2 big big        4096 mai 13 00:49  library-sample.csv\n",
      "-rw-rw-r-- 1 big big      179461 mai 22 03:57 'Seattle Library - Classification Model.ipynb'\n",
      "-rw-rw-r-- 1 big big      235821 mai 20 14:41 'Seattle Library - Data Cleansing.ipynb'\n",
      "-rw-rw-r-- 1 big big      141765 mai 16 11:50 'Seattle Library - Exploratory Data Analysis (EDA).ipynb'\n",
      "-rw-rw-r-- 1 big big     7953101 mai 13 00:40 'Seattle Library - Split Dataset.ipynb'\n",
      "-rw-rw-r-- 1 big big       22131 dez  1  2019  socrata_metadata.json\n",
      "-rw-rw-r-- 1 big big          20 mai 17 03:34  tee\n",
      "4750,\"My maternal ancestry : Dean, Matlock, Hale, Gahr families (in Tennessee and Missouri) / by Melba Wood.\",\"Wood, Melba, 1913-\",\"\",[1968]-1987.,\"M. Wood,\",Hale family,arbk,caref,NA,cen,2017-09-01T00:00:00.000,1\n",
      "3493257,A dog's promise / W. Bruce Cameron.,\"Cameron, W. Bruce\",\"125016351X, 1250266750, 9781250163516, 9781250266750\",2019.,\"Forge,\",\"Mutts Dogs Fiction, Dogs Fiction, Families Fiction, Human animal relationships Fiction, Humorous fiction\",acbk,nafic,NA,rbe,2019-11-01T00:00:00.000,1\n"
     ]
    }
   ],
   "source": [
    "! pwd\n",
    "! ls -la\n",
    "! head -n 1 library-collection-inventory-sample.csv\n",
    "! tail -n 1 library-collection-inventory-sample.csv"
   ]
  },
  {
   "cell_type": "markdown",
   "id": "dress-wichita",
   "metadata": {},
   "source": [
    "## Data Ingestion"
   ]
  },
  {
   "cell_type": "markdown",
   "id": "numerical-today",
   "metadata": {},
   "source": [
    "We will provide the specification for the schema of the main data frame (based on the table at the beginning of the notebook)."
   ]
  },
  {
   "cell_type": "code",
   "execution_count": 4,
   "id": "interested-distributor",
   "metadata": {},
   "outputs": [],
   "source": [
    "customSchema = StructType([\n",
    "  StructField(\"BibNum\", IntegerType(), True),\n",
    "  StructField(\"Title\", StringType(), True),\n",
    "  StructField(\"Author\", StringType(), True),\n",
    "  StructField(\"ISBN\", StringType(), True),\n",
    "  StructField(\"PublicationYear\", StringType(), True),\n",
    "  StructField(\"Publisher\", StringType(), True),\n",
    "  StructField(\"Subjects\", StringType(), True),\n",
    "  StructField(\"ItemType\", StringType(), True),\n",
    "  StructField(\"ItemCollection\", StringType(), True),\n",
    "  StructField(\"FloatingItem\", StringType(), True),\n",
    "  StructField(\"ItemLocation\", StringType(), True),\n",
    "  StructField(\"ReportDate\", StringType(), True),\n",
    "  StructField(\"ItemCount\", StringType(), True)]\n",
    ")"
   ]
  },
  {
   "cell_type": "markdown",
   "id": "skilled-martial",
   "metadata": {},
   "source": [
    "Read the csv files, of the two needed datasets to a spark dataframe"
   ]
  },
  {
   "cell_type": "code",
   "execution_count": 5,
   "id": "extra-station",
   "metadata": {},
   "outputs": [],
   "source": [
    "library_collection_filepath = \"library-collection-inventory-sample.csv\"\n",
    "item_collection_filepath = \"ItemCollection.csv\"\n",
    "library_collection_dfraw = spark.read.csv(library_collection_filepath, schema=customSchema)\n",
    "item_collection_dfraw = spark.read.csv(item_collection_filepath, header=\"true\", inferSchema=\"true\")"
   ]
  },
  {
   "cell_type": "markdown",
   "id": "limiting-queen",
   "metadata": {},
   "source": [
    "## Exploratory Data Analysis"
   ]
  },
  {
   "cell_type": "markdown",
   "id": "prescription-transport",
   "metadata": {},
   "source": [
    "Let us get some insight from data."
   ]
  },
  {
   "cell_type": "code",
   "execution_count": 6,
   "id": "dedicated-fountain",
   "metadata": {},
   "outputs": [
    {
     "name": "stdout",
     "output_type": "stream",
     "text": [
      "root\n",
      " |-- BibNum: integer (nullable = true)\n",
      " |-- Title: string (nullable = true)\n",
      " |-- Author: string (nullable = true)\n",
      " |-- ISBN: string (nullable = true)\n",
      " |-- PublicationYear: string (nullable = true)\n",
      " |-- Publisher: string (nullable = true)\n",
      " |-- Subjects: string (nullable = true)\n",
      " |-- ItemType: string (nullable = true)\n",
      " |-- ItemCollection: string (nullable = true)\n",
      " |-- FloatingItem: string (nullable = true)\n",
      " |-- ItemLocation: string (nullable = true)\n",
      " |-- ReportDate: string (nullable = true)\n",
      " |-- ItemCount: string (nullable = true)\n",
      "\n",
      "['BibNum', 'Title', 'Author', 'ISBN', 'PublicationYear', 'Publisher', 'Subjects', 'ItemType', 'ItemCollection', 'FloatingItem', 'ItemLocation', 'ReportDate', 'ItemCount']\n"
     ]
    },
    {
     "data": {
      "text/plain": [
       "355807"
      ]
     },
     "execution_count": 6,
     "metadata": {},
     "output_type": "execute_result"
    }
   ],
   "source": [
    "library_collection_rawcols = library_collection_dfraw.columns\n",
    "library_collection_dfraw.printSchema()\n",
    "print(library_collection_rawcols)\n",
    "library_collection_dfraw.count()"
   ]
  },
  {
   "cell_type": "code",
   "execution_count": 7,
   "id": "signal-bracket",
   "metadata": {},
   "outputs": [
    {
     "name": "stdout",
     "output_type": "stream",
     "text": [
      "+------+--------------------+--------------------+----------+---------------+--------------------+--------------------+--------+--------------+------------+------------+--------------------+---------+\n",
      "|BibNum|               Title|              Author|      ISBN|PublicationYear|           Publisher|            Subjects|ItemType|ItemCollection|FloatingItem|ItemLocation|          ReportDate|ItemCount|\n",
      "+------+--------------------+--------------------+----------+---------------+--------------------+--------------------+--------+--------------+------------+------------+--------------------+---------+\n",
      "|  4750|My maternal ances...|  Wood, Melba, 1913-|      null|   [1968]-1987.|            M. Wood,|         Hale family|    arbk|         caref|          NA|         cen|2017-09-01T00:00:...|        1|\n",
      "|  6720|The White House m...|      Feiffer, Jules|      null|         [1970]|         Grove Press|                null|    acbk|          canf|          NA|         cen|2017-09-01T00:00:...|        1|\n",
      "|  6845|Autumn of glory; ...|Connelly, Thomas ...|0807104450|         [1971]|Louisiana State U...|Confederate State...|    acbk|          canf|          NA|         cen|2017-09-01T00:00:...|        1|\n",
      "+------+--------------------+--------------------+----------+---------------+--------------------+--------------------+--------+--------------+------------+------------+--------------------+---------+\n",
      "only showing top 3 rows\n",
      "\n"
     ]
    }
   ],
   "source": [
    "library_collection_dfraw.show(3)"
   ]
  },
  {
   "cell_type": "code",
   "execution_count": 8,
   "id": "passing-barrel",
   "metadata": {},
   "outputs": [
    {
     "name": "stdout",
     "output_type": "stream",
     "text": [
      "root\n",
      " |-- CodeType: string (nullable = true)\n",
      " |-- Code: string (nullable = true)\n",
      " |-- Description: string (nullable = true)\n",
      " |-- CollectionInventoryIncluded: string (nullable = true)\n",
      " |-- FormatGroup: string (nullable = true)\n",
      " |-- FormatSubgroup: string (nullable = true)\n",
      " |-- CategoryGroup: string (nullable = true)\n",
      " |-- CategorySubgroup: string (nullable = true)\n",
      " |-- AgeGroup: string (nullable = true)\n",
      "\n",
      "['CodeType', 'Code', 'Description', 'CollectionInventoryIncluded', 'FormatGroup', 'FormatSubgroup', 'CategoryGroup', 'CategorySubgroup', 'AgeGroup']\n"
     ]
    },
    {
     "data": {
      "text/plain": [
       "429"
      ]
     },
     "execution_count": 8,
     "metadata": {},
     "output_type": "execute_result"
    }
   ],
   "source": [
    "item_collection_rawcols = item_collection_dfraw.columns\n",
    "item_collection_dfraw.printSchema()\n",
    "print(item_collection_rawcols)\n",
    "item_collection_dfraw.count()"
   ]
  },
  {
   "cell_type": "code",
   "execution_count": 9,
   "id": "chicken-documentation",
   "metadata": {},
   "outputs": [
    {
     "name": "stdout",
     "output_type": "stream",
     "text": [
      "+------+--------------------+--------------------+----------+---------------+--------------------+--------------------+--------+--------------+------------+------------+--------------------+---------+\n",
      "|BibNum|               Title|              Author|      ISBN|PublicationYear|           Publisher|            Subjects|ItemType|ItemCollection|FloatingItem|ItemLocation|          ReportDate|ItemCount|\n",
      "+------+--------------------+--------------------+----------+---------------+--------------------+--------------------+--------+--------------+------------+------------+--------------------+---------+\n",
      "|  4750|My maternal ances...|  Wood, Melba, 1913-|      null|   [1968]-1987.|            M. Wood,|         Hale family|    arbk|         caref|          NA|         cen|2017-09-01T00:00:...|        1|\n",
      "|  6720|The White House m...|      Feiffer, Jules|      null|         [1970]|         Grove Press|                null|    acbk|          canf|          NA|         cen|2017-09-01T00:00:...|        1|\n",
      "|  6845|Autumn of glory; ...|Connelly, Thomas ...|0807104450|         [1971]|Louisiana State U...|Confederate State...|    acbk|          canf|          NA|         cen|2017-09-01T00:00:...|        1|\n",
      "+------+--------------------+--------------------+----------+---------------+--------------------+--------------------+--------+--------------+------------+------------+--------------------+---------+\n",
      "only showing top 3 rows\n",
      "\n"
     ]
    }
   ],
   "source": [
    "library_collection_dfraw.show(3)"
   ]
  },
  {
   "cell_type": "markdown",
   "id": "abroad-bridge",
   "metadata": {},
   "source": [
    "## Data of Interest"
   ]
  },
  {
   "cell_type": "markdown",
   "id": "regular-binary",
   "metadata": {},
   "source": [
    "We may just want to deal with some certain columns of the data."
   ]
  },
  {
   "cell_type": "code",
   "execution_count": 10,
   "id": "tired-correspondence",
   "metadata": {},
   "outputs": [
    {
     "name": "stdout",
     "output_type": "stream",
     "text": [
      "+------+\n",
      "|BibNum|\n",
      "+------+\n",
      "|  4750|\n",
      "|  6720|\n",
      "|  6845|\n",
      "|  7118|\n",
      "|  7886|\n",
      "+------+\n",
      "only showing top 5 rows\n",
      "\n",
      "+--------------------+\n",
      "|               Title|\n",
      "+--------------------+\n",
      "|My maternal ances...|\n",
      "|The White House m...|\n",
      "|Autumn of glory; ...|\n",
      "|Variety music cav...|\n",
      "|A bibliography of...|\n",
      "+--------------------+\n",
      "only showing top 5 rows\n",
      "\n",
      "+--------------------+\n",
      "|              Author|\n",
      "+--------------------+\n",
      "|  Wood, Melba, 1913-|\n",
      "|      Feiffer, Jules|\n",
      "|Connelly, Thomas ...|\n",
      "|Mattfeld, Julius,...|\n",
      "|Van Derhoof, Jack...|\n",
      "+--------------------+\n",
      "only showing top 5 rows\n",
      "\n",
      "+----------+\n",
      "|      ISBN|\n",
      "+----------+\n",
      "|      null|\n",
      "|      null|\n",
      "|0807104450|\n",
      "|0139407189|\n",
      "|087875007X|\n",
      "+----------+\n",
      "only showing top 5 rows\n",
      "\n",
      "+---------------+\n",
      "|PublicationYear|\n",
      "+---------------+\n",
      "|   [1968]-1987.|\n",
      "|         [1970]|\n",
      "|         [1971]|\n",
      "|         [1971]|\n",
      "|          1971.|\n",
      "+---------------+\n",
      "only showing top 5 rows\n",
      "\n",
      "+--------------------+\n",
      "|           Publisher|\n",
      "+--------------------+\n",
      "|            M. Wood,|\n",
      "|         Grove Press|\n",
      "|Louisiana State U...|\n",
      "|       Prentice-Hall|\n",
      "|  Whitston Pub. Co.,|\n",
      "+--------------------+\n",
      "only showing top 5 rows\n",
      "\n",
      "+--------------------+\n",
      "|            Subjects|\n",
      "+--------------------+\n",
      "|         Hale family|\n",
      "|                null|\n",
      "|Confederate State...|\n",
      "|Popular music Uni...|\n",
      "|Historical fictio...|\n",
      "+--------------------+\n",
      "only showing top 5 rows\n",
      "\n",
      "+--------+\n",
      "|ItemType|\n",
      "+--------+\n",
      "|    arbk|\n",
      "|    acbk|\n",
      "|    acbk|\n",
      "|    arbk|\n",
      "|    arbk|\n",
      "+--------+\n",
      "only showing top 5 rows\n",
      "\n",
      "+--------------+\n",
      "|ItemCollection|\n",
      "+--------------+\n",
      "|         caref|\n",
      "|          canf|\n",
      "|          canf|\n",
      "|         caref|\n",
      "|          cs8r|\n",
      "+--------------+\n",
      "only showing top 5 rows\n",
      "\n",
      "+------------+\n",
      "|FloatingItem|\n",
      "+------------+\n",
      "|          NA|\n",
      "|          NA|\n",
      "|          NA|\n",
      "|          NA|\n",
      "|          NA|\n",
      "+------------+\n",
      "only showing top 5 rows\n",
      "\n",
      "+------------+\n",
      "|ItemLocation|\n",
      "+------------+\n",
      "|         cen|\n",
      "|         cen|\n",
      "|         cen|\n",
      "|         cen|\n",
      "|         cen|\n",
      "+------------+\n",
      "only showing top 5 rows\n",
      "\n",
      "+--------------------+\n",
      "|          ReportDate|\n",
      "+--------------------+\n",
      "|2017-09-01T00:00:...|\n",
      "|2017-09-01T00:00:...|\n",
      "|2017-09-01T00:00:...|\n",
      "|2017-09-01T00:00:...|\n",
      "|2017-09-01T00:00:...|\n",
      "+--------------------+\n",
      "only showing top 5 rows\n",
      "\n",
      "+---------+\n",
      "|ItemCount|\n",
      "+---------+\n",
      "|        1|\n",
      "|        1|\n",
      "|        1|\n",
      "|        1|\n",
      "|        2|\n",
      "+---------+\n",
      "only showing top 5 rows\n",
      "\n"
     ]
    }
   ],
   "source": [
    "for col in library_collection_rawcols:\n",
    "    library_collection_dfraw.select(col).show(5)"
   ]
  },
  {
   "cell_type": "code",
   "execution_count": 11,
   "id": "micro-computer",
   "metadata": {},
   "outputs": [
    {
     "name": "stdout",
     "output_type": "stream",
     "text": [
      "+--------------+\n",
      "|      CodeType|\n",
      "+--------------+\n",
      "|ItemCollection|\n",
      "|ItemCollection|\n",
      "|ItemCollection|\n",
      "|ItemCollection|\n",
      "|ItemCollection|\n",
      "+--------------+\n",
      "only showing top 5 rows\n",
      "\n",
      "+-------+\n",
      "|   Code|\n",
      "+-------+\n",
      "| caaero|\n",
      "|caaeroc|\n",
      "|caaeroo|\n",
      "|caaerop|\n",
      "|caaerov|\n",
      "+-------+\n",
      "only showing top 5 rows\n",
      "\n",
      "+--------------------+\n",
      "|         Description|\n",
      "+--------------------+\n",
      "|  Cs9-AERO Reference|\n",
      "|     Cs9-AERO Valmat|\n",
      "|   Cs9-AERO Oversize|\n",
      "|Cs9-AERO Periodicals|\n",
      "|Cs9-AERO Valmat O...|\n",
      "+--------------------+\n",
      "only showing top 5 rows\n",
      "\n",
      "+---------------------------+\n",
      "|CollectionInventoryIncluded|\n",
      "+---------------------------+\n",
      "|                        YES|\n",
      "|                        YES|\n",
      "|                        YES|\n",
      "|                        YES|\n",
      "|                        YES|\n",
      "+---------------------------+\n",
      "only showing top 5 rows\n",
      "\n",
      "+-----------+\n",
      "|FormatGroup|\n",
      "+-----------+\n",
      "|      Print|\n",
      "|      Print|\n",
      "|      Print|\n",
      "|      Print|\n",
      "|      Print|\n",
      "+-----------+\n",
      "only showing top 5 rows\n",
      "\n",
      "+--------------+\n",
      "|FormatSubgroup|\n",
      "+--------------+\n",
      "|          Book|\n",
      "|          Book|\n",
      "|          Book|\n",
      "|          Book|\n",
      "|          Book|\n",
      "+--------------+\n",
      "only showing top 5 rows\n",
      "\n",
      "+-------------+\n",
      "|CategoryGroup|\n",
      "+-------------+\n",
      "|    Reference|\n",
      "|   Nonfiction|\n",
      "|   Nonfiction|\n",
      "|   Nonfiction|\n",
      "|   Nonfiction|\n",
      "+-------------+\n",
      "only showing top 5 rows\n",
      "\n",
      "+----------------+\n",
      "|CategorySubgroup|\n",
      "+----------------+\n",
      "|            null|\n",
      "|            null|\n",
      "|            null|\n",
      "|            null|\n",
      "|            null|\n",
      "+----------------+\n",
      "only showing top 5 rows\n",
      "\n",
      "+--------+\n",
      "|AgeGroup|\n",
      "+--------+\n",
      "|   Adult|\n",
      "|   Adult|\n",
      "|   Adult|\n",
      "|   Adult|\n",
      "|   Adult|\n",
      "+--------+\n",
      "only showing top 5 rows\n",
      "\n"
     ]
    }
   ],
   "source": [
    "for col in item_collection_rawcols:\n",
    "    item_collection_dfraw.select(col).show(5)"
   ]
  },
  {
   "cell_type": "markdown",
   "id": "falling-morgan",
   "metadata": {},
   "source": [
    "Distinct values per column in the library collection dataset"
   ]
  },
  {
   "cell_type": "code",
   "execution_count": 14,
   "id": "selective-nylon",
   "metadata": {},
   "outputs": [
    {
     "data": {
      "text/html": [
       "<div>\n",
       "<style scoped>\n",
       "    .dataframe tbody tr th:only-of-type {\n",
       "        vertical-align: middle;\n",
       "    }\n",
       "\n",
       "    .dataframe tbody tr th {\n",
       "        vertical-align: top;\n",
       "    }\n",
       "\n",
       "    .dataframe thead th {\n",
       "        text-align: right;\n",
       "    }\n",
       "</style>\n",
       "<table border=\"1\" class=\"dataframe\">\n",
       "  <thead>\n",
       "    <tr style=\"text-align: right;\">\n",
       "      <th></th>\n",
       "      <th>BibNum</th>\n",
       "      <th>Title</th>\n",
       "      <th>Author</th>\n",
       "      <th>ISBN</th>\n",
       "      <th>PublicationYear</th>\n",
       "      <th>Publisher</th>\n",
       "      <th>Subjects</th>\n",
       "      <th>ItemType</th>\n",
       "      <th>ItemCollection</th>\n",
       "      <th>FloatingItem</th>\n",
       "      <th>ItemLocation</th>\n",
       "      <th>ReportDate</th>\n",
       "      <th>ItemCount</th>\n",
       "    </tr>\n",
       "  </thead>\n",
       "  <tbody>\n",
       "    <tr>\n",
       "      <th>0</th>\n",
       "      <td>229187</td>\n",
       "      <td>226493</td>\n",
       "      <td>103386</td>\n",
       "      <td>168474</td>\n",
       "      <td>5321</td>\n",
       "      <td>43060</td>\n",
       "      <td>197065</td>\n",
       "      <td>674</td>\n",
       "      <td>594</td>\n",
       "      <td>277</td>\n",
       "      <td>207</td>\n",
       "      <td>165</td>\n",
       "      <td>222</td>\n",
       "    </tr>\n",
       "  </tbody>\n",
       "</table>\n",
       "</div>"
      ],
      "text/plain": [
       "   BibNum   Title  Author    ISBN  PublicationYear  Publisher  Subjects  \\\n",
       "0  229187  226493  103386  168474             5321      43060    197065   \n",
       "\n",
       "   ItemType  ItemCollection  FloatingItem  ItemLocation  ReportDate  ItemCount  \n",
       "0       674             594           277           207         165        222  "
      ]
     },
     "execution_count": 14,
     "metadata": {},
     "output_type": "execute_result"
    }
   ],
   "source": [
    "df_aux_distinct=library_collection_dfraw.agg(*(countDistinct(col(c)).alias(c) for c in library_collection_dfraw.columns))\n",
    "pd.set_option('display.max_columns', None)\n",
    "pd_df=pd.DataFrame(df_aux_distinct.take(1), columns=library_collection_dfraw.columns)\n",
    "pd_df"
   ]
  },
  {
   "cell_type": "code",
   "execution_count": 15,
   "id": "absolute-summary",
   "metadata": {},
   "outputs": [
    {
     "data": {
      "text/plain": [
       "<AxesSubplot:title={'center':'Distinct values for each column'}>"
      ]
     },
     "execution_count": 15,
     "metadata": {},
     "output_type": "execute_result"
    },
    {
     "data": {
      "image/png": "[encoded data removed]",
      "text/plain": [
       "<Figure size 432x288 with 1 Axes>"
      ]
     },
     "metadata": {
      "needs_background": "light"
     },
     "output_type": "display_data"
    }
   ],
   "source": [
    "pd_df.plot(kind=\"bar\", title=\"Distinct values for each column\")"
   ]
  },
  {
   "cell_type": "markdown",
   "id": "aware-columbus",
   "metadata": {},
   "source": [
    "Distinct values per column in the item collection dataset"
   ]
  },
  {
   "cell_type": "code",
   "execution_count": 16,
   "id": "cardiovascular-earth",
   "metadata": {},
   "outputs": [
    {
     "data": {
      "text/html": [
       "<div>\n",
       "<style scoped>\n",
       "    .dataframe tbody tr th:only-of-type {\n",
       "        vertical-align: middle;\n",
       "    }\n",
       "\n",
       "    .dataframe tbody tr th {\n",
       "        vertical-align: top;\n",
       "    }\n",
       "\n",
       "    .dataframe thead th {\n",
       "        text-align: right;\n",
       "    }\n",
       "</style>\n",
       "<table border=\"1\" class=\"dataframe\">\n",
       "  <thead>\n",
       "    <tr style=\"text-align: right;\">\n",
       "      <th></th>\n",
       "      <th>CodeType</th>\n",
       "      <th>Code</th>\n",
       "      <th>Description</th>\n",
       "      <th>CollectionInventoryIncluded</th>\n",
       "      <th>FormatGroup</th>\n",
       "      <th>FormatSubgroup</th>\n",
       "      <th>CategoryGroup</th>\n",
       "      <th>CategorySubgroup</th>\n",
       "      <th>AgeGroup</th>\n",
       "    </tr>\n",
       "  </thead>\n",
       "  <tbody>\n",
       "    <tr>\n",
       "      <th>0</th>\n",
       "      <td>1</td>\n",
       "      <td>429</td>\n",
       "      <td>424</td>\n",
       "      <td>2</td>\n",
       "      <td>5</td>\n",
       "      <td>15</td>\n",
       "      <td>10</td>\n",
       "      <td>7</td>\n",
       "      <td>3</td>\n",
       "    </tr>\n",
       "  </tbody>\n",
       "</table>\n",
       "</div>"
      ],
      "text/plain": [
       "   CodeType  Code  Description  CollectionInventoryIncluded  FormatGroup  \\\n",
       "0         1   429          424                            2            5   \n",
       "\n",
       "   FormatSubgroup  CategoryGroup  CategorySubgroup  AgeGroup  \n",
       "0              15             10                 7         3  "
      ]
     },
     "execution_count": 16,
     "metadata": {},
     "output_type": "execute_result"
    }
   ],
   "source": [
    "df_aux_distinct=item_collection_dfraw.agg(*(countDistinct(col(c)).alias(c) for c in item_collection_dfraw.columns))\n",
    "pd.set_option('display.max_columns', None)\n",
    "pd_df=pd.DataFrame(df_aux_distinct.take(1), columns=item_collection_dfraw.columns)\n",
    "pd_df"
   ]
  },
  {
   "cell_type": "code",
   "execution_count": 17,
   "id": "outdoor-translator",
   "metadata": {},
   "outputs": [
    {
     "data": {
      "text/plain": [
       "<AxesSubplot:title={'center':'Distinct values for each column'}>"
      ]
     },
     "execution_count": 17,
     "metadata": {},
     "output_type": "execute_result"
    },
    {
     "data": {
      "image/png": "[encoded data removed]",
      "text/plain": [
       "<Figure size 432x288 with 1 Axes>"
      ]
     },
     "metadata": {
      "needs_background": "light"
     },
     "output_type": "display_data"
    }
   ],
   "source": [
    "pd_df.plot(kind=\"bar\", title=\"Distinct values for each column\")"
   ]
  },
  {
   "cell_type": "markdown",
   "id": "bizarre-english",
   "metadata": {},
   "source": [
    "Number of nulls and missing values per columns in the library collection dataset"
   ]
  },
  {
   "cell_type": "code",
   "execution_count": 18,
   "id": "altered-midnight",
   "metadata": {},
   "outputs": [
    {
     "data": {
      "text/html": [
       "<div>\n",
       "<style scoped>\n",
       "    .dataframe tbody tr th:only-of-type {\n",
       "        vertical-align: middle;\n",
       "    }\n",
       "\n",
       "    .dataframe tbody tr th {\n",
       "        vertical-align: top;\n",
       "    }\n",
       "\n",
       "    .dataframe thead th {\n",
       "        text-align: right;\n",
       "    }\n",
       "</style>\n",
       "<table border=\"1\" class=\"dataframe\">\n",
       "  <thead>\n",
       "    <tr style=\"text-align: right;\">\n",
       "      <th></th>\n",
       "      <th>BibNum</th>\n",
       "      <th>Title</th>\n",
       "      <th>Author</th>\n",
       "      <th>ISBN</th>\n",
       "      <th>PublicationYear</th>\n",
       "      <th>Publisher</th>\n",
       "      <th>Subjects</th>\n",
       "      <th>ItemType</th>\n",
       "      <th>ItemCollection</th>\n",
       "      <th>FloatingItem</th>\n",
       "      <th>ItemLocation</th>\n",
       "      <th>ReportDate</th>\n",
       "      <th>ItemCount</th>\n",
       "    </tr>\n",
       "  </thead>\n",
       "  <tbody>\n",
       "    <tr>\n",
       "      <th>0</th>\n",
       "      <td>0</td>\n",
       "      <td>1843</td>\n",
       "      <td>54965</td>\n",
       "      <td>80225</td>\n",
       "      <td>4477</td>\n",
       "      <td>2954</td>\n",
       "      <td>8322</td>\n",
       "      <td>125</td>\n",
       "      <td>118</td>\n",
       "      <td>114</td>\n",
       "      <td>109</td>\n",
       "      <td>111</td>\n",
       "      <td>112</td>\n",
       "    </tr>\n",
       "  </tbody>\n",
       "</table>\n",
       "</div>"
      ],
      "text/plain": [
       "   BibNum  Title  Author   ISBN  PublicationYear  Publisher  Subjects  \\\n",
       "0       0   1843   54965  80225             4477       2954      8322   \n",
       "\n",
       "   ItemType  ItemCollection  FloatingItem  ItemLocation  ReportDate  ItemCount  \n",
       "0       125             118           114           109         111        112  "
      ]
     },
     "execution_count": 18,
     "metadata": {},
     "output_type": "execute_result"
    }
   ],
   "source": [
    "df_aux_nulls=library_collection_dfraw.select([count(when(isnan(c) | col(c).isNull(), c)).alias(c) for c in library_collection_dfraw.columns])\n",
    "pd.set_option('display.max_columns', None)\n",
    "pd.DataFrame(df_aux_nulls.take(5), columns=library_collection_dfraw.columns)"
   ]
  },
  {
   "cell_type": "markdown",
   "id": "contained-mexico",
   "metadata": {},
   "source": [
    "Number of nulls and missing values per columns in the item collection dataset"
   ]
  },
  {
   "cell_type": "code",
   "execution_count": 19,
   "id": "mature-arrival",
   "metadata": {},
   "outputs": [
    {
     "data": {
      "text/html": [
       "<div>\n",
       "<style scoped>\n",
       "    .dataframe tbody tr th:only-of-type {\n",
       "        vertical-align: middle;\n",
       "    }\n",
       "\n",
       "    .dataframe tbody tr th {\n",
       "        vertical-align: top;\n",
       "    }\n",
       "\n",
       "    .dataframe thead th {\n",
       "        text-align: right;\n",
       "    }\n",
       "</style>\n",
       "<table border=\"1\" class=\"dataframe\">\n",
       "  <thead>\n",
       "    <tr style=\"text-align: right;\">\n",
       "      <th></th>\n",
       "      <th>CodeType</th>\n",
       "      <th>Code</th>\n",
       "      <th>Description</th>\n",
       "      <th>CollectionInventoryIncluded</th>\n",
       "      <th>FormatGroup</th>\n",
       "      <th>FormatSubgroup</th>\n",
       "      <th>CategoryGroup</th>\n",
       "      <th>CategorySubgroup</th>\n",
       "      <th>AgeGroup</th>\n",
       "    </tr>\n",
       "  </thead>\n",
       "  <tbody>\n",
       "    <tr>\n",
       "      <th>0</th>\n",
       "      <td>0</td>\n",
       "      <td>0</td>\n",
       "      <td>0</td>\n",
       "      <td>0</td>\n",
       "      <td>0</td>\n",
       "      <td>28</td>\n",
       "      <td>0</td>\n",
       "      <td>385</td>\n",
       "      <td>0</td>\n",
       "    </tr>\n",
       "  </tbody>\n",
       "</table>\n",
       "</div>"
      ],
      "text/plain": [
       "   CodeType  Code  Description  CollectionInventoryIncluded  FormatGroup  \\\n",
       "0         0     0            0                            0            0   \n",
       "\n",
       "   FormatSubgroup  CategoryGroup  CategorySubgroup  AgeGroup  \n",
       "0              28              0               385         0  "
      ]
     },
     "execution_count": 19,
     "metadata": {},
     "output_type": "execute_result"
    }
   ],
   "source": [
    "df_aux_nulls=item_collection_dfraw.select([count(when(isnan(c) | col(c).isNull(), c)).alias(c) for c in item_collection_dfraw.columns])\n",
    "pd.set_option('display.max_columns', None)\n",
    "pd.DataFrame(df_aux_nulls.take(5), columns=item_collection_dfraw.columns)"
   ]
  },
  {
   "cell_type": "code",
   "execution_count": 20,
   "id": "light-contrast",
   "metadata": {},
   "outputs": [
    {
     "data": {
      "text/plain": [
       "['Author', 'Publisher', 'Subjects', 'ItemType', 'ItemCollection']"
      ]
     },
     "execution_count": 20,
     "metadata": {},
     "output_type": "execute_result"
    }
   ],
   "source": [
    "library_collection_cols_to_drop = [\"BibNum\", \"Title\", \"ISBN\", \"PublicationYear\", \"FloatingItem\", \"ItemLocation\", \"ReportDate\", \"ItemCount\"] \n",
    "library_collection_cols_of_interest = [x for x in library_collection_rawcols if x not in library_collection_cols_to_drop]\n",
    "library_collection_cols_of_interest"
   ]
  },
  {
   "cell_type": "code",
   "execution_count": 21,
   "id": "romance-progressive",
   "metadata": {},
   "outputs": [
    {
     "name": "stdout",
     "output_type": "stream",
     "text": [
      "+-----------+\n",
      "|FormatGroup|\n",
      "+-----------+\n",
      "|  Equipment|\n",
      "|      Media|\n",
      "|      Other|\n",
      "|      Print|\n",
      "| Electronic|\n",
      "+-----------+\n",
      "\n"
     ]
    }
   ],
   "source": [
    "item_collection_dfraw.select(\"FormatGroup\").distinct().show()"
   ]
  },
  {
   "cell_type": "code",
   "execution_count": 22,
   "id": "straight-spectacular",
   "metadata": {},
   "outputs": [
    {
     "name": "stdout",
     "output_type": "stream",
     "text": [
      "+--------------+\n",
      "|FormatSubgroup|\n",
      "+--------------+\n",
      "|    Periodical|\n",
      "|           Kit|\n",
      "|           Art|\n",
      "|          null|\n",
      "|Audiobook Tape|\n",
      "|          Book|\n",
      "|          Film|\n",
      "|      Document|\n",
      "|     Data Disc|\n",
      "|    Audio Tape|\n",
      "|Audiobook Disc|\n",
      "|    Video Disc|\n",
      "|        Folder|\n",
      "|    Video Tape|\n",
      "|    Audio Disc|\n",
      "|   Music Score|\n",
      "+--------------+\n",
      "\n"
     ]
    }
   ],
   "source": [
    "item_collection_dfraw.select(\"FormatSubgroup\").distinct().show()"
   ]
  },
  {
   "cell_type": "code",
   "execution_count": 23,
   "id": "little-extra",
   "metadata": {},
   "outputs": [
    {
     "data": {
      "text/plain": [
       "['Code', 'Description', 'FormatSubgroup', 'CategoryGroup', 'AgeGroup']"
      ]
     },
     "execution_count": 23,
     "metadata": {},
     "output_type": "execute_result"
    }
   ],
   "source": [
    "item_collection_cols_to_drop = [\"CodeType\", \"CollectionInventoryIncluded\", \"CategorySubgroup\", \"FormatGroup\"] \n",
    "item_collection_cols_of_interest = [x for x in item_collection_rawcols if x not in item_collection_cols_to_drop]\n",
    "item_collection_cols_of_interest"
   ]
  },
  {
   "cell_type": "code",
   "execution_count": 24,
   "id": "rapid-magic",
   "metadata": {},
   "outputs": [
    {
     "name": "stdout",
     "output_type": "stream",
     "text": [
      "root\n",
      " |-- Author: string (nullable = true)\n",
      " |-- Publisher: string (nullable = true)\n",
      " |-- Subjects: string (nullable = true)\n",
      " |-- ItemType: string (nullable = true)\n",
      " |-- ItemCollection: string (nullable = true)\n",
      "\n",
      "+--------------------+--------------------+--------------------+--------+--------------+\n",
      "|              Author|           Publisher|            Subjects|ItemType|ItemCollection|\n",
      "+--------------------+--------------------+--------------------+--------+--------------+\n",
      "|  Wood, Melba, 1913-|            M. Wood,|         Hale family|    arbk|         caref|\n",
      "|      Feiffer, Jules|         Grove Press|                null|    acbk|          canf|\n",
      "|Connelly, Thomas ...|Louisiana State U...|Confederate State...|    acbk|          canf|\n",
      "|Mattfeld, Julius,...|       Prentice-Hall|Popular music Uni...|    arbk|         caref|\n",
      "|Van Derhoof, Jack...|  Whitston Pub. Co.,|Historical fictio...|    arbk|          cs8r|\n",
      "|United States. Co...|[For sale by the ...|Erotica, Obscenit...|    acbk|          canf|\n",
      "|   Freeman, Roger L.|Cambridge Univers...|Electronics Dicti...|    arbk|         caref|\n",
      "|Solzheni︠t︡syn, A...|Farrar, Straus an...|Tannenberg Battle...|    acbk|        cs3fic|\n",
      "|Barnes, Albert, 1...| Negro History Press|Slavery United St...|    acbk|        naaanf|\n",
      "|Symposium on Paly...|Geological Societ...|Palynology United...|    arbk|          cs7r|\n",
      "|Palandri, Angela ...|University of Cal...|Chinese poetry Tr...|    acbk|          canf|\n",
      "|      Rueff, Jacques|          Macmillan,|Money, Foreign ex...|    arbk|          cs6r|\n",
      "|          Seuss, Dr.|       Random House,|Fantasy, Stories ...|    jcbk|         ncpic|\n",
      "|          Seuss, Dr.|       Random House,|Circus Poetry, St...|    jcbk|         ncpic|\n",
      "|         Wall, C. C.|                null|Winlock Wash History|    arbk|          cs9r|\n",
      "|Geological Survey...|Idaho Dept. of Wa...|Water resources d...|    arbk|          cs7r|\n",
      "|Desani, G. V. (Go...|Farrar, Straus an...|                null|    acbk|        cs3fic|\n",
      "|      Williams, Brad|          Doubleday,|National Airlines...|    arbk|        caaero|\n",
      "|  Appelo, Carlton E.|             Appelo,|Knappton Wash His...|    arbk|         caref|\n",
      "|    Jones, Thomas C.|J. G. Ferguson Pu...|English literatur...|    acbk|          canf|\n",
      "+--------------------+--------------------+--------------------+--------+--------------+\n",
      "only showing top 20 rows\n",
      "\n"
     ]
    }
   ],
   "source": [
    "library_collection_dfraw_interest = library_collection_dfraw.select(library_collection_cols_of_interest)\n",
    "library_collection_dfraw_interest.printSchema()\n",
    "library_collection_dfraw_interest.show()"
   ]
  },
  {
   "cell_type": "code",
   "execution_count": 25,
   "id": "average-sheep",
   "metadata": {},
   "outputs": [
    {
     "name": "stdout",
     "output_type": "stream",
     "text": [
      "root\n",
      " |-- Code: string (nullable = true)\n",
      " |-- Description: string (nullable = true)\n",
      " |-- FormatSubgroup: string (nullable = true)\n",
      " |-- CategoryGroup: string (nullable = true)\n",
      " |-- AgeGroup: string (nullable = true)\n",
      "\n",
      "+-------+--------------------+--------------+-------------+--------+\n",
      "|   Code|         Description|FormatSubgroup|CategoryGroup|AgeGroup|\n",
      "+-------+--------------------+--------------+-------------+--------+\n",
      "| caaero|  Cs9-AERO Reference|          Book|    Reference|   Adult|\n",
      "|caaeroc|     Cs9-AERO Valmat|          Book|   Nonfiction|   Adult|\n",
      "|caaeroo|   Cs9-AERO Oversize|          Book|   Nonfiction|   Adult|\n",
      "|caaerop|Cs9-AERO Periodicals|          Book|   Nonfiction|   Adult|\n",
      "|caaerov|Cs9-AERO Valmat O...|          Book|   Nonfiction|   Adult|\n",
      "|caatlas|         CA9-Atlases|          Book|   Nonfiction|   Adult|\n",
      "|    cab|       CA9-Biography|          Book|   Nonfiction|   Adult|\n",
      "|  cabob|   CA-Books on Bikes|          Book|Miscellaneous|   Adult|\n",
      "| cabocd|CA7-Books on CD, ...|Audiobook Disc|      Fiction|   Adult|\n",
      "|  cabot|CA3-Books on Tape...|Audiobook Tape|      Fiction|   Adult|\n",
      "|   cabr| CA9-Biography - Ref|          Book|    Reference|   Adult|\n",
      "|cacasnf|CA7-Cassettes, No...|    Audio Tape|   Nonfiction|   Adult|\n",
      "|   cacd|        CA8-Music CD|    Audio Disc|   Nonfiction|   Adult|\n",
      "| cacdnf|CA7-Books on CD, ...|Audiobook Disc|   Nonfiction|   Adult|\n",
      "|  cacdr|CA7-CDROM, Nonfic...|     Data Disc|   Nonfiction|   Adult|\n",
      "| cacdrr|CS 6-CDROM, Refer...|     Data Disc|    Reference|   Adult|\n",
      "|cacomic|  CA3-Graphic Novels|          Book|      Fiction|   Adult|\n",
      "|  cacon|    CA7-Ref-Consumer|          Book|    Reference|   Adult|\n",
      "|cadesk3|  CS 3 - Ref Fiction|          Book|    Reference|   Adult|\n",
      "|cadesk5|    CA5-RefDesk, GRS|          Book|    Reference|   Adult|\n",
      "+-------+--------------------+--------------+-------------+--------+\n",
      "only showing top 20 rows\n",
      "\n"
     ]
    }
   ],
   "source": [
    "item_collection_dfraw_interest = item_collection_dfraw.select(item_collection_cols_of_interest)\n",
    "item_collection_dfraw_interest.printSchema()\n",
    "item_collection_dfraw_interest.show()"
   ]
  },
  {
   "cell_type": "markdown",
   "id": "thermal-allocation",
   "metadata": {},
   "source": [
    "In the auxiliary dataset we can drop filter by FormatSubgroup. We only want to classify books, so:"
   ]
  },
  {
   "cell_type": "code",
   "execution_count": 26,
   "id": "packed-governor",
   "metadata": {},
   "outputs": [],
   "source": [
    "item_collection_dfraw_interest = item_collection_dfraw_interest \\\n",
    "            .filter(item_collection_dfraw_interest.FormatSubgroup == \"Book\")"
   ]
  },
  {
   "cell_type": "code",
   "execution_count": 27,
   "id": "blessed-probe",
   "metadata": {},
   "outputs": [
    {
     "name": "stdout",
     "output_type": "stream",
     "text": [
      "+--------------+\n",
      "|FormatSubgroup|\n",
      "+--------------+\n",
      "|          Book|\n",
      "+--------------+\n",
      "\n"
     ]
    }
   ],
   "source": [
    "item_collection_dfraw_interest.select(\"FormatSubgroup\").distinct().show()"
   ]
  },
  {
   "cell_type": "markdown",
   "id": "important-consistency",
   "metadata": {},
   "source": [
    "Now we can exclude the \"FormatSubgroup\" column:"
   ]
  },
  {
   "cell_type": "code",
   "execution_count": 28,
   "id": "aboriginal-berry",
   "metadata": {},
   "outputs": [],
   "source": [
    "item_collection_cols_of_interest = [x for x in item_collection_dfraw_interest.columns if x not in [\"FormatSubgroup\"]]\n",
    "item_collection_dfraw_interest=item_collection_dfraw_interest.select(item_collection_cols_of_interest)"
   ]
  },
  {
   "cell_type": "code",
   "execution_count": 29,
   "id": "endangered-beauty",
   "metadata": {},
   "outputs": [
    {
     "name": "stdout",
     "output_type": "stream",
     "text": [
      "root\n",
      " |-- Code: string (nullable = true)\n",
      " |-- Description: string (nullable = true)\n",
      " |-- CategoryGroup: string (nullable = true)\n",
      " |-- AgeGroup: string (nullable = true)\n",
      "\n"
     ]
    }
   ],
   "source": [
    "item_collection_dfraw_interest.printSchema()"
   ]
  },
  {
   "cell_type": "code",
   "execution_count": 30,
   "id": "australian-marijuana",
   "metadata": {},
   "outputs": [
    {
     "data": {
      "text/plain": [
       "289"
      ]
     },
     "execution_count": 30,
     "metadata": {},
     "output_type": "execute_result"
    }
   ],
   "source": [
    "item_collection_dfraw_interest.count()"
   ]
  },
  {
   "cell_type": "markdown",
   "id": "talented-monaco",
   "metadata": {},
   "source": [
    "## Data Cleansing "
   ]
  },
  {
   "cell_type": "markdown",
   "id": "leading-wheat",
   "metadata": {},
   "source": [
    "Once data of interest is established, the goal now is to get a clean dataset so we can proceed with our analysis."
   ]
  },
  {
   "cell_type": "markdown",
   "id": "first-wisdom",
   "metadata": {},
   "source": [
    "### Nulls"
   ]
  },
  {
   "cell_type": "markdown",
   "id": "standing-steam",
   "metadata": {},
   "source": [
    "drop nulls in the library collection dataframe"
   ]
  },
  {
   "cell_type": "code",
   "execution_count": 31,
   "id": "russian-gates",
   "metadata": {},
   "outputs": [],
   "source": [
    "library_collection_dfraw_interest_clean1=library_collection_dfraw_interest.dropna()"
   ]
  },
  {
   "cell_type": "code",
   "execution_count": 32,
   "id": "registered-retail",
   "metadata": {},
   "outputs": [
    {
     "data": {
      "text/plain": [
       "294230"
      ]
     },
     "execution_count": 32,
     "metadata": {},
     "output_type": "execute_result"
    }
   ],
   "source": [
    "library_collection_dfraw_interest_clean1.count()"
   ]
  },
  {
   "cell_type": "code",
   "execution_count": 33,
   "id": "herbal-length",
   "metadata": {},
   "outputs": [
    {
     "data": {
      "text/html": [
       "<div>\n",
       "<style scoped>\n",
       "    .dataframe tbody tr th:only-of-type {\n",
       "        vertical-align: middle;\n",
       "    }\n",
       "\n",
       "    .dataframe tbody tr th {\n",
       "        vertical-align: top;\n",
       "    }\n",
       "\n",
       "    .dataframe thead th {\n",
       "        text-align: right;\n",
       "    }\n",
       "</style>\n",
       "<table border=\"1\" class=\"dataframe\">\n",
       "  <thead>\n",
       "    <tr style=\"text-align: right;\">\n",
       "      <th></th>\n",
       "      <th>Author</th>\n",
       "      <th>Publisher</th>\n",
       "      <th>Subjects</th>\n",
       "      <th>ItemType</th>\n",
       "      <th>ItemCollection</th>\n",
       "    </tr>\n",
       "  </thead>\n",
       "  <tbody>\n",
       "    <tr>\n",
       "      <th>0</th>\n",
       "      <td>0</td>\n",
       "      <td>0</td>\n",
       "      <td>0</td>\n",
       "      <td>0</td>\n",
       "      <td>0</td>\n",
       "    </tr>\n",
       "  </tbody>\n",
       "</table>\n",
       "</div>"
      ],
      "text/plain": [
       "   Author  Publisher  Subjects  ItemType  ItemCollection\n",
       "0       0          0         0         0               0"
      ]
     },
     "execution_count": 33,
     "metadata": {},
     "output_type": "execute_result"
    }
   ],
   "source": [
    "df_aux_nulls2=library_collection_dfraw_interest_clean1.select([count(when(isnan(c) | col(c).isNull(), c)).alias(c) for c in library_collection_dfraw_interest_clean1.columns])\n",
    "pd.set_option('display.max_columns', None)\n",
    "pd.DataFrame(df_aux_nulls2.take(5), columns=library_collection_dfraw_interest_clean1.columns)"
   ]
  },
  {
   "cell_type": "markdown",
   "id": "express-durham",
   "metadata": {},
   "source": [
    "drop nulls in the item collection dataframe"
   ]
  },
  {
   "cell_type": "code",
   "execution_count": 34,
   "id": "floating-gardening",
   "metadata": {},
   "outputs": [],
   "source": [
    "item_collection_dfraw_interest_clean1=item_collection_dfraw_interest.dropna()"
   ]
  },
  {
   "cell_type": "code",
   "execution_count": 35,
   "id": "alive-investment",
   "metadata": {},
   "outputs": [
    {
     "data": {
      "text/plain": [
       "289"
      ]
     },
     "execution_count": 35,
     "metadata": {},
     "output_type": "execute_result"
    }
   ],
   "source": [
    "item_collection_dfraw_interest_clean1.count()"
   ]
  },
  {
   "cell_type": "code",
   "execution_count": 36,
   "id": "danish-overview",
   "metadata": {},
   "outputs": [
    {
     "data": {
      "text/html": [
       "<div>\n",
       "<style scoped>\n",
       "    .dataframe tbody tr th:only-of-type {\n",
       "        vertical-align: middle;\n",
       "    }\n",
       "\n",
       "    .dataframe tbody tr th {\n",
       "        vertical-align: top;\n",
       "    }\n",
       "\n",
       "    .dataframe thead th {\n",
       "        text-align: right;\n",
       "    }\n",
       "</style>\n",
       "<table border=\"1\" class=\"dataframe\">\n",
       "  <thead>\n",
       "    <tr style=\"text-align: right;\">\n",
       "      <th></th>\n",
       "      <th>Code</th>\n",
       "      <th>Description</th>\n",
       "      <th>CategoryGroup</th>\n",
       "      <th>AgeGroup</th>\n",
       "    </tr>\n",
       "  </thead>\n",
       "  <tbody>\n",
       "    <tr>\n",
       "      <th>0</th>\n",
       "      <td>0</td>\n",
       "      <td>0</td>\n",
       "      <td>0</td>\n",
       "      <td>0</td>\n",
       "    </tr>\n",
       "  </tbody>\n",
       "</table>\n",
       "</div>"
      ],
      "text/plain": [
       "   Code  Description  CategoryGroup  AgeGroup\n",
       "0     0            0              0         0"
      ]
     },
     "execution_count": 36,
     "metadata": {},
     "output_type": "execute_result"
    }
   ],
   "source": [
    "df_aux_nulls3=item_collection_dfraw_interest_clean1.select([count(when(isnan(c) | col(c).isNull(), c)).alias(c) for c in item_collection_dfraw_interest_clean1.columns])\n",
    "pd.set_option('display.max_columns', None)\n",
    "pd.DataFrame(df_aux_nulls3.take(5), columns=item_collection_dfraw_interest_clean1.columns)"
   ]
  },
  {
   "cell_type": "markdown",
   "id": "disabled-western",
   "metadata": {},
   "source": [
    "### Joining the dataframes"
   ]
  },
  {
   "cell_type": "markdown",
   "id": "weighted-canadian",
   "metadata": {},
   "source": [
    "To cross all the information we will join both dataframes through the item collection code:"
   ]
  },
  {
   "cell_type": "code",
   "execution_count": 37,
   "id": "interested-commercial",
   "metadata": {},
   "outputs": [],
   "source": [
    "df_main = library_collection_dfraw_interest_clean1.join(item_collection_dfraw_interest_clean1, library_collection_dfraw_interest_clean1.ItemCollection==item_collection_dfraw_interest_clean1.Code)"
   ]
  },
  {
   "cell_type": "markdown",
   "id": "fifty-soundtrack",
   "metadata": {},
   "source": [
    "Now we're going to work with the df_main dataframe"
   ]
  },
  {
   "cell_type": "code",
   "execution_count": 38,
   "id": "superior-better",
   "metadata": {},
   "outputs": [
    {
     "name": "stdout",
     "output_type": "stream",
     "text": [
      "root\n",
      " |-- Author: string (nullable = true)\n",
      " |-- Publisher: string (nullable = true)\n",
      " |-- Subjects: string (nullable = true)\n",
      " |-- ItemType: string (nullable = true)\n",
      " |-- ItemCollection: string (nullable = true)\n",
      " |-- Code: string (nullable = true)\n",
      " |-- Description: string (nullable = true)\n",
      " |-- CategoryGroup: string (nullable = true)\n",
      " |-- AgeGroup: string (nullable = true)\n",
      "\n",
      "+--------------------+--------------------+--------------------+--------+--------------+------+--------------------+-------------+--------+\n",
      "|              Author|           Publisher|            Subjects|ItemType|ItemCollection|  Code|         Description|CategoryGroup|AgeGroup|\n",
      "+--------------------+--------------------+--------------------+--------+--------------+------+--------------------+-------------+--------+\n",
      "|  Wood, Melba, 1913-|            M. Wood,|         Hale family|    arbk|         caref| caref|        CA-Reference|    Reference|   Adult|\n",
      "|Connelly, Thomas ...|Louisiana State U...|Confederate State...|    acbk|          canf|  canf|       CA-Nonfiction|   Nonfiction|   Adult|\n",
      "|Mattfeld, Julius,...|       Prentice-Hall|Popular music Uni...|    arbk|         caref| caref|        CA-Reference|    Reference|   Adult|\n",
      "|Van Derhoof, Jack...|  Whitston Pub. Co.,|Historical fictio...|    arbk|          cs8r|  cs8r|    CS 8 - Reference|    Reference|   Adult|\n",
      "|United States. Co...|[For sale by the ...|Erotica, Obscenit...|    acbk|          canf|  canf|       CA-Nonfiction|   Nonfiction|   Adult|\n",
      "|   Freeman, Roger L.|Cambridge Univers...|Electronics Dicti...|    arbk|         caref| caref|        CA-Reference|    Reference|   Adult|\n",
      "|Solzheni︠t︡syn, A...|Farrar, Straus an...|Tannenberg Battle...|    acbk|        cs3fic|cs3fic|      CS 3 - Fiction|      Fiction|   Adult|\n",
      "|Barnes, Albert, 1...| Negro History Press|Slavery United St...|    acbk|        naaanf|naaanf|           AfAm - Nf|   Nonfiction|   Adult|\n",
      "|Symposium on Paly...|Geological Societ...|Palynology United...|    arbk|          cs7r|  cs7r|          CS 7 - Ref|    Reference|   Adult|\n",
      "|Palandri, Angela ...|University of Cal...|Chinese poetry Tr...|    acbk|          canf|  canf|       CA-Nonfiction|   Nonfiction|   Adult|\n",
      "|      Rueff, Jacques|          Macmillan,|Money, Foreign ex...|    arbk|          cs6r|  cs6r|          CS 6 - Ref|    Reference|   Adult|\n",
      "|          Seuss, Dr.|       Random House,|Fantasy, Stories ...|    jcbk|         ncpic| ncpic|NC--Children's Pi...|      Fiction|Juvenile|\n",
      "|          Seuss, Dr.|       Random House,|Circus Poetry, St...|    jcbk|         ncpic| ncpic|NC--Children's Pi...|      Fiction|Juvenile|\n",
      "|Geological Survey...|Idaho Dept. of Wa...|Water resources d...|    arbk|          cs7r|  cs7r|          CS 7 - Ref|    Reference|   Adult|\n",
      "|      Williams, Brad|          Doubleday,|National Airlines...|    arbk|        caaero|caaero|  Cs9-AERO Reference|    Reference|   Adult|\n",
      "|  Appelo, Carlton E.|             Appelo,|Knappton Wash His...|    arbk|         caref| caref|        CA-Reference|    Reference|   Adult|\n",
      "|    Jones, Thomas C.|J. G. Ferguson Pu...|English literatur...|    acbk|          canf|  canf|       CA-Nonfiction|   Nonfiction|   Adult|\n",
      "|      Kertesz, G. A.|       Clarendon P.,|Europe History 17...|    arbk|         caref| caref|        CA-Reference|    Reference|   Adult|\n",
      "|Horgan, Paul, 190...|Farrar, Straus an...|Lamy John Baptist...|    acbk|           cab|   cab|       CA9-Biography|   Nonfiction|   Adult|\n",
      "|Sullivan, Rosemar...|University of Was...|Roethke Theodore ...|    acbk|          canf|  canf|       CA-Nonfiction|   Nonfiction|   Adult|\n",
      "+--------------------+--------------------+--------------------+--------+--------------+------+--------------------+-------------+--------+\n",
      "only showing top 20 rows\n",
      "\n"
     ]
    }
   ],
   "source": [
    "df_main.printSchema()\n",
    "df_main.show()"
   ]
  },
  {
   "cell_type": "markdown",
   "id": "necessary-trail",
   "metadata": {},
   "source": [
    "### Data types & Feature transformation"
   ]
  },
  {
   "cell_type": "markdown",
   "id": "successful-springer",
   "metadata": {},
   "source": [
    "A lot of work in a machine learning project comes down to it. Whether we like it or not we spend 95% of our time on generating that feature vector that will bring out the best in our data."
   ]
  },
  {
   "cell_type": "code",
   "execution_count": 39,
   "id": "weighted-capitol",
   "metadata": {},
   "outputs": [
    {
     "name": "stdout",
     "output_type": "stream",
     "text": [
      "+--------------------+\n",
      "|              Author|\n",
      "+--------------------+\n",
      "|  Wood, Melba, 1913-|\n",
      "|Connelly, Thomas ...|\n",
      "|Mattfeld, Julius,...|\n",
      "|Van Derhoof, Jack...|\n",
      "|United States. Co...|\n",
      "+--------------------+\n",
      "only showing top 5 rows\n",
      "\n",
      "+--------------------+\n",
      "|           Publisher|\n",
      "+--------------------+\n",
      "|            M. Wood,|\n",
      "|Louisiana State U...|\n",
      "|       Prentice-Hall|\n",
      "|  Whitston Pub. Co.,|\n",
      "|[For sale by the ...|\n",
      "+--------------------+\n",
      "only showing top 5 rows\n",
      "\n",
      "+--------------------+\n",
      "|            Subjects|\n",
      "+--------------------+\n",
      "|         Hale family|\n",
      "|Confederate State...|\n",
      "|Popular music Uni...|\n",
      "|Historical fictio...|\n",
      "|Erotica, Obscenit...|\n",
      "+--------------------+\n",
      "only showing top 5 rows\n",
      "\n",
      "+--------+\n",
      "|ItemType|\n",
      "+--------+\n",
      "|    arbk|\n",
      "|    acbk|\n",
      "|    arbk|\n",
      "|    arbk|\n",
      "|    acbk|\n",
      "+--------+\n",
      "only showing top 5 rows\n",
      "\n",
      "+--------------+\n",
      "|ItemCollection|\n",
      "+--------------+\n",
      "|         caref|\n",
      "|          canf|\n",
      "|         caref|\n",
      "|          cs8r|\n",
      "|          canf|\n",
      "+--------------+\n",
      "only showing top 5 rows\n",
      "\n",
      "+-----+\n",
      "| Code|\n",
      "+-----+\n",
      "|caref|\n",
      "| canf|\n",
      "|caref|\n",
      "| cs8r|\n",
      "| canf|\n",
      "+-----+\n",
      "only showing top 5 rows\n",
      "\n",
      "+----------------+\n",
      "|     Description|\n",
      "+----------------+\n",
      "|    CA-Reference|\n",
      "|   CA-Nonfiction|\n",
      "|    CA-Reference|\n",
      "|CS 8 - Reference|\n",
      "|   CA-Nonfiction|\n",
      "+----------------+\n",
      "only showing top 5 rows\n",
      "\n",
      "+-------------+\n",
      "|CategoryGroup|\n",
      "+-------------+\n",
      "|    Reference|\n",
      "|   Nonfiction|\n",
      "|    Reference|\n",
      "|    Reference|\n",
      "|   Nonfiction|\n",
      "+-------------+\n",
      "only showing top 5 rows\n",
      "\n",
      "+--------+\n",
      "|AgeGroup|\n",
      "+--------+\n",
      "|   Adult|\n",
      "|   Adult|\n",
      "|   Adult|\n",
      "|   Adult|\n",
      "|   Adult|\n",
      "+--------+\n",
      "only showing top 5 rows\n",
      "\n"
     ]
    }
   ],
   "source": [
    "for col in df_main.columns:\n",
    "    df_main.select(col).show(5)"
   ]
  },
  {
   "cell_type": "code",
   "execution_count": 42,
   "id": "bizarre-threat",
   "metadata": {},
   "outputs": [
    {
     "name": "stdout",
     "output_type": "stream",
     "text": [
      "Total registers: 263914\n",
      "Distincts:\n"
     ]
    },
    {
     "data": {
      "text/html": [
       "<div>\n",
       "<style scoped>\n",
       "    .dataframe tbody tr th:only-of-type {\n",
       "        vertical-align: middle;\n",
       "    }\n",
       "\n",
       "    .dataframe tbody tr th {\n",
       "        vertical-align: top;\n",
       "    }\n",
       "\n",
       "    .dataframe thead th {\n",
       "        text-align: right;\n",
       "    }\n",
       "</style>\n",
       "<table border=\"1\" class=\"dataframe\">\n",
       "  <thead>\n",
       "    <tr style=\"text-align: right;\">\n",
       "      <th></th>\n",
       "      <th>Author</th>\n",
       "      <th>Publisher</th>\n",
       "      <th>Subjects</th>\n",
       "      <th>ItemType</th>\n",
       "      <th>ItemCollection</th>\n",
       "      <th>Code</th>\n",
       "      <th>Description</th>\n",
       "      <th>CategoryGroup</th>\n",
       "      <th>AgeGroup</th>\n",
       "    </tr>\n",
       "  </thead>\n",
       "  <tbody>\n",
       "    <tr>\n",
       "      <th>0</th>\n",
       "      <td>92871</td>\n",
       "      <td>28297</td>\n",
       "      <td>153138</td>\n",
       "      <td>29</td>\n",
       "      <td>183</td>\n",
       "      <td>183</td>\n",
       "      <td>183</td>\n",
       "      <td>6</td>\n",
       "      <td>3</td>\n",
       "    </tr>\n",
       "  </tbody>\n",
       "</table>\n",
       "</div>"
      ],
      "text/plain": [
       "   Author  Publisher  Subjects  ItemType  ItemCollection  Code  Description  \\\n",
       "0   92871      28297    153138        29             183   183          183   \n",
       "\n",
       "   CategoryGroup  AgeGroup  \n",
       "0              6         3  "
      ]
     },
     "execution_count": 42,
     "metadata": {},
     "output_type": "execute_result"
    }
   ],
   "source": [
    "print(\"Total registers: \" + str(df_main.count()))\n",
    "print(\"Distincts:\")\n",
    "df_main_distinct=df_main.agg(*(countDistinct(col(c)).alias(c) for c in df_main.columns))\n",
    "pd.set_option('display.max_columns', None)\n",
    "pd.DataFrame(df_main_distinct.take(1), columns=df_main_distinct.columns)"
   ]
  },
  {
   "cell_type": "markdown",
   "id": "automotive-receiver",
   "metadata": {},
   "source": [
    "Code and description should be the same we can exclude it now. One of the join factors can be excluded two, since they're the same."
   ]
  },
  {
   "cell_type": "code",
   "execution_count": 43,
   "id": "subsequent-appeal",
   "metadata": {},
   "outputs": [],
   "source": [
    "df_main_columns = [\"Author\", \"Publisher\", \"Subjects\", \"ItemType\", \"ItemCollection\", \"CategoryGroup\", \"AgeGroup\"]\n",
    "df_main=df_main.select(df_main_columns)"
   ]
  },
  {
   "cell_type": "code",
   "execution_count": 44,
   "id": "historical-brunei",
   "metadata": {},
   "outputs": [
    {
     "name": "stdout",
     "output_type": "stream",
     "text": [
      "root\n",
      " |-- Author: string (nullable = true)\n",
      " |-- Publisher: string (nullable = true)\n",
      " |-- Subjects: string (nullable = true)\n",
      " |-- ItemType: string (nullable = true)\n",
      " |-- ItemCollection: string (nullable = true)\n",
      " |-- CategoryGroup: string (nullable = true)\n",
      " |-- AgeGroup: string (nullable = true)\n",
      "\n"
     ]
    }
   ],
   "source": [
    "df_main.printSchema()"
   ]
  },
  {
   "cell_type": "code",
   "execution_count": 45,
   "id": "alleged-identity",
   "metadata": {},
   "outputs": [],
   "source": [
    "df_main=df_main.withColumn(\"Subjects\",split(col(\"Subjects\"), \",\\s*\").cast(ArrayType(StringType())).alias(\"Subjects\"))"
   ]
  },
  {
   "cell_type": "code",
   "execution_count": 46,
   "id": "suffering-chair",
   "metadata": {},
   "outputs": [
    {
     "name": "stdout",
     "output_type": "stream",
     "text": [
      "root\n",
      " |-- Author: string (nullable = true)\n",
      " |-- Publisher: string (nullable = true)\n",
      " |-- Subjects: array (nullable = true)\n",
      " |    |-- element: string (containsNull = true)\n",
      " |-- ItemType: string (nullable = true)\n",
      " |-- ItemCollection: string (nullable = true)\n",
      " |-- CategoryGroup: string (nullable = true)\n",
      " |-- AgeGroup: string (nullable = true)\n",
      "\n"
     ]
    }
   ],
   "source": [
    "df_main.printSchema()"
   ]
  },
  {
   "cell_type": "code",
   "execution_count": 47,
   "id": "precious-protection",
   "metadata": {},
   "outputs": [
    {
     "data": {
      "text/plain": [
       "[Row(Author='McBratney, Sam', Publisher='Shui di wen hua,', Subjects=['Death Juvenile fiction', 'Grief Juvenile fiction', 'Mothers Death Juvenile fiction', 'Bereavement Juvenile fiction', 'Picture books for children', 'Chinese language materials'], ItemType='jcbk', ItemCollection='ncln', CategoryGroup='Language', AgeGroup='Juvenile'),\n",
       " Row(Author='Reedy, Brad M.', Publisher='Regan Arts,', Subjects=['Child rearing'], ItemType='acbk', ItemCollection='canf', CategoryGroup='Nonfiction', AgeGroup='Adult'),\n",
       " Row(Author='Ḥārithī, Jūkhah', Publisher='Catapult,', Subjects=['Sisters Oman Fiction', 'Oman Social life and customs Fiction', 'Historical fiction', 'Domestic fiction'], ItemType='acbk', ItemCollection='nafic', CategoryGroup='Fiction', AgeGroup='Adult'),\n",
       " Row(Author='Corr, Christopher', Publisher=\"Frances Lincoln Children's Books,\", Subjects=['Fir Juvenile fiction', 'Christmas tree Juvenile fiction', 'Christmas fiction', 'Picture books'], ItemType='jcbk', ItemCollection='nchol', CategoryGroup='Fiction', AgeGroup='Juvenile'),\n",
       " Row(Author='Cameron, W. Bruce', Publisher='Forge,', Subjects=['Mutts Dogs Fiction', 'Dogs Fiction', 'Families Fiction', 'Human animal relationships Fiction', 'Humorous fiction'], ItemType='acbk', ItemCollection='nafic', CategoryGroup='Fiction', AgeGroup='Adult')]"
      ]
     },
     "execution_count": 47,
     "metadata": {},
     "output_type": "execute_result"
    }
   ],
   "source": [
    "df_main.tail(5)"
   ]
  },
  {
   "cell_type": "markdown",
   "id": "fifty-partner",
   "metadata": {},
   "source": [
    "Order the arrays of strings inside the Subjects column:"
   ]
  },
  {
   "cell_type": "code",
   "execution_count": 52,
   "id": "existing-launch",
   "metadata": {},
   "outputs": [
    {
     "data": {
      "text/plain": [
       "[Row(Author='McBratney, Sam', Publisher='Shui di wen hua,', Subjects=['Bereavement Juvenile fiction', 'Chinese language materials', 'Death Juvenile fiction', 'Grief Juvenile fiction', 'Mothers Death Juvenile fiction', 'Picture books for children'], ItemType='jcbk', ItemCollection='ncln', CategoryGroup='Language', AgeGroup='Juvenile'),\n",
       " Row(Author='Reedy, Brad M.', Publisher='Regan Arts,', Subjects=['Child rearing'], ItemType='acbk', ItemCollection='canf', CategoryGroup='Nonfiction', AgeGroup='Adult'),\n",
       " Row(Author='Ḥārithī, Jūkhah', Publisher='Catapult,', Subjects=['Domestic fiction', 'Historical fiction', 'Oman Social life and customs Fiction', 'Sisters Oman Fiction'], ItemType='acbk', ItemCollection='nafic', CategoryGroup='Fiction', AgeGroup='Adult'),\n",
       " Row(Author='Corr, Christopher', Publisher=\"Frances Lincoln Children's Books,\", Subjects=['Christmas fiction', 'Christmas tree Juvenile fiction', 'Fir Juvenile fiction', 'Picture books'], ItemType='jcbk', ItemCollection='nchol', CategoryGroup='Fiction', AgeGroup='Juvenile'),\n",
       " Row(Author='Cameron, W. Bruce', Publisher='Forge,', Subjects=['Dogs Fiction', 'Families Fiction', 'Human animal relationships Fiction', 'Humorous fiction', 'Mutts Dogs Fiction'], ItemType='acbk', ItemCollection='nafic', CategoryGroup='Fiction', AgeGroup='Adult')]"
      ]
     },
     "execution_count": 52,
     "metadata": {},
     "output_type": "execute_result"
    }
   ],
   "source": [
    "df_main=df_main.withColumn(\"Subjects\",array_sort(col(\"Subjects\")))\n",
    "df_main.tail(5)"
   ]
  },
  {
   "cell_type": "code",
   "execution_count": 53,
   "id": "built-ranch",
   "metadata": {},
   "outputs": [
    {
     "name": "stdout",
     "output_type": "stream",
     "text": [
      "root\n",
      " |-- Author: string (nullable = true)\n",
      " |-- Publisher: string (nullable = true)\n",
      " |-- Subjects: array (nullable = true)\n",
      " |    |-- element: string (containsNull = true)\n",
      " |-- ItemType: string (nullable = true)\n",
      " |-- ItemCollection: string (nullable = true)\n",
      " |-- CategoryGroup: string (nullable = true)\n",
      " |-- AgeGroup: string (nullable = true)\n",
      "\n"
     ]
    }
   ],
   "source": [
    "df_main.printSchema()"
   ]
  },
  {
   "cell_type": "markdown",
   "id": "standard-participant",
   "metadata": {},
   "source": [
    "Convert the subjects column back to StringType"
   ]
  },
  {
   "cell_type": "code",
   "execution_count": 56,
   "id": "extraordinary-navigator",
   "metadata": {},
   "outputs": [],
   "source": [
    "df_main=df_main.withColumn(\"Subjects\", concat_ws(\",\",col(\"Subjects\")))"
   ]
  },
  {
   "cell_type": "code",
   "execution_count": 57,
   "id": "russian-messenger",
   "metadata": {},
   "outputs": [
    {
     "data": {
      "text/plain": [
       "[Row(Author='McBratney, Sam', Publisher='Shui di wen hua,', Subjects='Bereavement Juvenile fiction,Chinese language materials,Death Juvenile fiction,Grief Juvenile fiction,Mothers Death Juvenile fiction,Picture books for children', ItemType='jcbk', ItemCollection='ncln', CategoryGroup='Language', AgeGroup='Juvenile'),\n",
       " Row(Author='Reedy, Brad M.', Publisher='Regan Arts,', Subjects='Child rearing', ItemType='acbk', ItemCollection='canf', CategoryGroup='Nonfiction', AgeGroup='Adult'),\n",
       " Row(Author='Ḥārithī, Jūkhah', Publisher='Catapult,', Subjects='Domestic fiction,Historical fiction,Oman Social life and customs Fiction,Sisters Oman Fiction', ItemType='acbk', ItemCollection='nafic', CategoryGroup='Fiction', AgeGroup='Adult'),\n",
       " Row(Author='Corr, Christopher', Publisher=\"Frances Lincoln Children's Books,\", Subjects='Christmas fiction,Christmas tree Juvenile fiction,Fir Juvenile fiction,Picture books', ItemType='jcbk', ItemCollection='nchol', CategoryGroup='Fiction', AgeGroup='Juvenile'),\n",
       " Row(Author='Cameron, W. Bruce', Publisher='Forge,', Subjects='Dogs Fiction,Families Fiction,Human animal relationships Fiction,Humorous fiction,Mutts Dogs Fiction', ItemType='acbk', ItemCollection='nafic', CategoryGroup='Fiction', AgeGroup='Adult')]"
      ]
     },
     "execution_count": 57,
     "metadata": {},
     "output_type": "execute_result"
    }
   ],
   "source": [
    "df_main.tail(5)"
   ]
  },
  {
   "cell_type": "code",
   "execution_count": 58,
   "id": "ranging-cooking",
   "metadata": {},
   "outputs": [
    {
     "name": "stdout",
     "output_type": "stream",
     "text": [
      "root\n",
      " |-- Author: string (nullable = true)\n",
      " |-- Publisher: string (nullable = true)\n",
      " |-- Subjects: string (nullable = false)\n",
      " |-- ItemType: string (nullable = true)\n",
      " |-- ItemCollection: string (nullable = true)\n",
      " |-- CategoryGroup: string (nullable = true)\n",
      " |-- AgeGroup: string (nullable = true)\n",
      "\n"
     ]
    }
   ],
   "source": [
    "df_main.printSchema()"
   ]
  },
  {
   "cell_type": "code",
   "execution_count": 59,
   "id": "previous-horse",
   "metadata": {},
   "outputs": [
    {
     "data": {
      "text/html": [
       "<div>\n",
       "<style scoped>\n",
       "    .dataframe tbody tr th:only-of-type {\n",
       "        vertical-align: middle;\n",
       "    }\n",
       "\n",
       "    .dataframe tbody tr th {\n",
       "        vertical-align: top;\n",
       "    }\n",
       "\n",
       "    .dataframe thead th {\n",
       "        text-align: right;\n",
       "    }\n",
       "</style>\n",
       "<table border=\"1\" class=\"dataframe\">\n",
       "  <thead>\n",
       "    <tr style=\"text-align: right;\">\n",
       "      <th></th>\n",
       "      <th>Author</th>\n",
       "      <th>Publisher</th>\n",
       "      <th>Subjects</th>\n",
       "      <th>ItemType</th>\n",
       "      <th>ItemCollection</th>\n",
       "      <th>CategoryGroup</th>\n",
       "      <th>AgeGroup</th>\n",
       "    </tr>\n",
       "  </thead>\n",
       "  <tbody>\n",
       "    <tr>\n",
       "      <th>0</th>\n",
       "      <td>92871</td>\n",
       "      <td>28297</td>\n",
       "      <td>150654</td>\n",
       "      <td>29</td>\n",
       "      <td>183</td>\n",
       "      <td>6</td>\n",
       "      <td>3</td>\n",
       "    </tr>\n",
       "  </tbody>\n",
       "</table>\n",
       "</div>"
      ],
      "text/plain": [
       "   Author  Publisher  Subjects  ItemType  ItemCollection  CategoryGroup  \\\n",
       "0   92871      28297    150654        29             183              6   \n",
       "\n",
       "   AgeGroup  \n",
       "0         3  "
      ]
     },
     "execution_count": 59,
     "metadata": {},
     "output_type": "execute_result"
    }
   ],
   "source": [
    "df_main_distinct=df_main.agg(*(countDistinct(col(c)).alias(c) for c in df_main.columns))\n",
    "pd.set_option('display.max_columns', None)\n",
    "pd.DataFrame(df_main_distinct.take(1), columns=df_main_distinct.columns)"
   ]
  },
  {
   "cell_type": "markdown",
   "id": "current-shelf",
   "metadata": {},
   "source": [
    "As we can see we were able to reduce the distinct values in the \"Subjects\" column"
   ]
  },
  {
   "cell_type": "markdown",
   "id": "laden-depth",
   "metadata": {},
   "source": [
    "#### RegexTokenizer & StopWordsRemover"
   ]
  },
  {
   "cell_type": "code",
   "execution_count": 60,
   "id": "trying-median",
   "metadata": {},
   "outputs": [],
   "source": [
    "for col in df_main_columns:\n",
    "    tk = RegexTokenizer(pattern=\"[a-zA-Z]+\", inputCol=col, outputCol=\"temp1\", gaps=False)\n",
    "    sw = StopWordsRemover(inputCol=\"temp1\", outputCol=\"temp2\")\n",
    "    pipeline = Pipeline(stages=[tk, sw])\n",
    "    df_main = pipeline.fit(df_main).transform(df_main) \\\n",
    "        .withColumn(col, expr('concat_ws(\" \", array_distinct(temp2))')) \\\n",
    "        .drop(\"temp1\", \"temp2\")"
   ]
  },
  {
   "cell_type": "code",
   "execution_count": 61,
   "id": "mediterranean-owner",
   "metadata": {},
   "outputs": [
    {
     "data": {
      "text/html": [
       "<div>\n",
       "<style scoped>\n",
       "    .dataframe tbody tr th:only-of-type {\n",
       "        vertical-align: middle;\n",
       "    }\n",
       "\n",
       "    .dataframe tbody tr th {\n",
       "        vertical-align: top;\n",
       "    }\n",
       "\n",
       "    .dataframe thead th {\n",
       "        text-align: right;\n",
       "    }\n",
       "</style>\n",
       "<table border=\"1\" class=\"dataframe\">\n",
       "  <thead>\n",
       "    <tr style=\"text-align: right;\">\n",
       "      <th></th>\n",
       "      <th>Author</th>\n",
       "      <th>Publisher</th>\n",
       "      <th>Subjects</th>\n",
       "      <th>ItemType</th>\n",
       "      <th>ItemCollection</th>\n",
       "      <th>CategoryGroup</th>\n",
       "      <th>AgeGroup</th>\n",
       "    </tr>\n",
       "  </thead>\n",
       "  <tbody>\n",
       "    <tr>\n",
       "      <th>0</th>\n",
       "      <td>wood melba</td>\n",
       "      <td>m wood</td>\n",
       "      <td>hale family</td>\n",
       "      <td>arbk</td>\n",
       "      <td>caref</td>\n",
       "      <td>reference</td>\n",
       "      <td>adult</td>\n",
       "    </tr>\n",
       "    <tr>\n",
       "      <th>1</th>\n",
       "      <td>connelly thomas lawrence</td>\n",
       "      <td>louisiana state university press</td>\n",
       "      <td>confederate states america army department ten...</td>\n",
       "      <td>acbk</td>\n",
       "      <td>canf</td>\n",
       "      <td>nonfiction</td>\n",
       "      <td>adult</td>\n",
       "    </tr>\n",
       "    <tr>\n",
       "      <th>2</th>\n",
       "      <td>mattfeld julius</td>\n",
       "      <td>prentice hall</td>\n",
       "      <td>music united states chronology popular bibliog...</td>\n",
       "      <td>arbk</td>\n",
       "      <td>caref</td>\n",
       "      <td>reference</td>\n",
       "      <td>adult</td>\n",
       "    </tr>\n",
       "    <tr>\n",
       "      <th>3</th>\n",
       "      <td>van derhoof jack warner</td>\n",
       "      <td>whitston pub co</td>\n",
       "      <td>historical fiction american bibliography engli...</td>\n",
       "      <td>arbk</td>\n",
       "      <td>cs r</td>\n",
       "      <td>reference</td>\n",
       "      <td>adult</td>\n",
       "    </tr>\n",
       "    <tr>\n",
       "      <th>4</th>\n",
       "      <td>united states commission obscenity pornography</td>\n",
       "      <td>sale supt docs u govt print</td>\n",
       "      <td>erotica obscenity law united states pornograph...</td>\n",
       "      <td>acbk</td>\n",
       "      <td>canf</td>\n",
       "      <td>nonfiction</td>\n",
       "      <td>adult</td>\n",
       "    </tr>\n",
       "  </tbody>\n",
       "</table>\n",
       "</div>"
      ],
      "text/plain": [
       "                                           Author  \\\n",
       "0                                      wood melba   \n",
       "1                        connelly thomas lawrence   \n",
       "2                                 mattfeld julius   \n",
       "3                         van derhoof jack warner   \n",
       "4  united states commission obscenity pornography   \n",
       "\n",
       "                          Publisher  \\\n",
       "0                            m wood   \n",
       "1  louisiana state university press   \n",
       "2                     prentice hall   \n",
       "3                   whitston pub co   \n",
       "4       sale supt docs u govt print   \n",
       "\n",
       "                                            Subjects ItemType ItemCollection  \\\n",
       "0                                        hale family     arbk          caref   \n",
       "1  confederate states america army department ten...     acbk           canf   \n",
       "2  music united states chronology popular bibliog...     arbk          caref   \n",
       "3  historical fiction american bibliography engli...     arbk           cs r   \n",
       "4  erotica obscenity law united states pornograph...     acbk           canf   \n",
       "\n",
       "  CategoryGroup AgeGroup  \n",
       "0     reference    adult  \n",
       "1    nonfiction    adult  \n",
       "2     reference    adult  \n",
       "3     reference    adult  \n",
       "4    nonfiction    adult  "
      ]
     },
     "execution_count": 61,
     "metadata": {},
     "output_type": "execute_result"
    }
   ],
   "source": [
    "pd.set_option('display.max_columns', None)\n",
    "pd.DataFrame(df_main.take(5), columns=df_main_columns)"
   ]
  },
  {
   "cell_type": "code",
   "execution_count": 65,
   "id": "flexible-healthcare",
   "metadata": {},
   "outputs": [],
   "source": [
    "df_main=df_main.select([when(col(c)==\"\",None).otherwise(col(c)).alias(c) for c in df_main.columns])"
   ]
  },
  {
   "cell_type": "code",
   "execution_count": 67,
   "id": "joined-updating",
   "metadata": {},
   "outputs": [],
   "source": [
    "df_main=df_main.dropna()"
   ]
  },
  {
   "cell_type": "code",
   "execution_count": 68,
   "id": "confident-collector",
   "metadata": {},
   "outputs": [
    {
     "name": "stdout",
     "output_type": "stream",
     "text": [
      "Total registers: 263890\n",
      "Distincts:\n"
     ]
    },
    {
     "data": {
      "text/html": [
       "<div>\n",
       "<style scoped>\n",
       "    .dataframe tbody tr th:only-of-type {\n",
       "        vertical-align: middle;\n",
       "    }\n",
       "\n",
       "    .dataframe tbody tr th {\n",
       "        vertical-align: top;\n",
       "    }\n",
       "\n",
       "    .dataframe thead th {\n",
       "        text-align: right;\n",
       "    }\n",
       "</style>\n",
       "<table border=\"1\" class=\"dataframe\">\n",
       "  <thead>\n",
       "    <tr style=\"text-align: right;\">\n",
       "      <th></th>\n",
       "      <th>Author</th>\n",
       "      <th>Publisher</th>\n",
       "      <th>Subjects</th>\n",
       "      <th>ItemType</th>\n",
       "      <th>ItemCollection</th>\n",
       "      <th>CategoryGroup</th>\n",
       "      <th>AgeGroup</th>\n",
       "    </tr>\n",
       "  </thead>\n",
       "  <tbody>\n",
       "    <tr>\n",
       "      <th>0</th>\n",
       "      <td>90399</td>\n",
       "      <td>24097</td>\n",
       "      <td>147795</td>\n",
       "      <td>29</td>\n",
       "      <td>164</td>\n",
       "      <td>6</td>\n",
       "      <td>3</td>\n",
       "    </tr>\n",
       "  </tbody>\n",
       "</table>\n",
       "</div>"
      ],
      "text/plain": [
       "   Author  Publisher  Subjects  ItemType  ItemCollection  CategoryGroup  \\\n",
       "0   90399      24097    147795        29             164              6   \n",
       "\n",
       "   AgeGroup  \n",
       "0         3  "
      ]
     },
     "execution_count": 68,
     "metadata": {},
     "output_type": "execute_result"
    }
   ],
   "source": [
    "print(\"Total registers: \" + str(df_main.count()))\n",
    "print(\"Distincts:\")\n",
    "df_main_distinct=df_main.agg(*(countDistinct(col(c)).alias(c) for c in df_main.columns))\n",
    "pd.set_option('display.max_columns', None)\n",
    "pd.DataFrame(df_main_distinct.take(5), columns=df_main_distinct.columns)"
   ]
  },
  {
   "cell_type": "markdown",
   "id": "special-tuning",
   "metadata": {},
   "source": [
    "### Saving the clean dataset"
   ]
  },
  {
   "cell_type": "code",
   "execution_count": 69,
   "id": "surgical-juvenile",
   "metadata": {},
   "outputs": [],
   "source": [
    "cleanfilename = \"clean-library-final-dataset\"\n",
    "df_main.write.mode(\"overwrite\").parquet(cleanfilename)\n",
    "#later we can use spark.read.parquet()"
   ]
  },
  {
   "cell_type": "code",
   "execution_count": 70,
   "id": "owned-advocate",
   "metadata": {},
   "outputs": [
    {
     "name": "stdout",
     "output_type": "stream",
     "text": [
      "total 13240\r\n",
      "drwxr-xr-x 2 big big    4096 mai 22 04:06 .\r\n",
      "drwxrwxr-x 7 big big    4096 mai 22 04:06 ..\r\n",
      "-rw-r--r-- 1 big big 3462923 mai 22 04:06 part-00000-89c86db7-ab35-4165-8f84-b5c492f5efa1-c000.snappy.parquet\r\n",
      "-rw-r--r-- 1 big big   27064 mai 22 04:06 .part-00000-89c86db7-ab35-4165-8f84-b5c492f5efa1-c000.snappy.parquet.crc\r\n",
      "-rw-r--r-- 1 big big 3509121 mai 22 04:06 part-00001-89c86db7-ab35-4165-8f84-b5c492f5efa1-c000.snappy.parquet\r\n",
      "-rw-r--r-- 1 big big   27424 mai 22 04:06 .part-00001-89c86db7-ab35-4165-8f84-b5c492f5efa1-c000.snappy.parquet.crc\r\n",
      "-rw-r--r-- 1 big big 3539546 mai 22 04:06 part-00002-89c86db7-ab35-4165-8f84-b5c492f5efa1-c000.snappy.parquet\r\n",
      "-rw-r--r-- 1 big big   27664 mai 22 04:06 .part-00002-89c86db7-ab35-4165-8f84-b5c492f5efa1-c000.snappy.parquet.crc\r\n",
      "-rw-r--r-- 1 big big 2913100 mai 22 04:06 part-00003-89c86db7-ab35-4165-8f84-b5c492f5efa1-c000.snappy.parquet\r\n",
      "-rw-r--r-- 1 big big   22768 mai 22 04:06 .part-00003-89c86db7-ab35-4165-8f84-b5c492f5efa1-c000.snappy.parquet.crc\r\n",
      "-rw-r--r-- 1 big big       0 mai 22 04:06 _SUCCESS\r\n",
      "-rw-r--r-- 1 big big       8 mai 22 04:06 ._SUCCESS.crc\r\n"
     ]
    }
   ],
   "source": [
    "! ls -la clean-library-final-dataset"
   ]
  },
  {
   "cell_type": "markdown",
   "id": "technical-paris",
   "metadata": {},
   "source": [
    "### Final overview & Basic Statistics"
   ]
  },
  {
   "cell_type": "code",
   "execution_count": 71,
   "id": "sporting-metropolitan",
   "metadata": {},
   "outputs": [],
   "source": [
    "# read the parquet file saved in the previous steps\n",
    "df_main=spark.read.parquet(cleanfilename)"
   ]
  },
  {
   "cell_type": "code",
   "execution_count": 72,
   "id": "voluntary-truth",
   "metadata": {},
   "outputs": [
    {
     "name": "stdout",
     "output_type": "stream",
     "text": [
      "root\n",
      " |-- Author: string (nullable = true)\n",
      " |-- Publisher: string (nullable = true)\n",
      " |-- Subjects: string (nullable = true)\n",
      " |-- ItemType: string (nullable = true)\n",
      " |-- ItemCollection: string (nullable = true)\n",
      " |-- CategoryGroup: string (nullable = true)\n",
      " |-- AgeGroup: string (nullable = true)\n",
      "\n"
     ]
    }
   ],
   "source": [
    "df_main.printSchema()"
   ]
  },
  {
   "cell_type": "markdown",
   "id": "removable-stuff",
   "metadata": {},
   "source": [
    "#### StringIndexer & OneHotEncoder"
   ]
  },
  {
   "cell_type": "code",
   "execution_count": 74,
   "id": "administrative-boring",
   "metadata": {},
   "outputs": [
    {
     "name": "stdout",
     "output_type": "stream",
     "text": [
      "Categorical columns: ['Author', 'Publisher', 'Subjects', 'ItemType', 'ItemCollection', 'CategoryGroup', 'AgeGroup']\n",
      "Indexed columns: ['AuthorIndex', 'PublisherIndex', 'SubjectsIndex', 'ItemTypeIndex', 'ItemCollectionIndex', 'CategoryGroupIndex', 'AgeGroupIndex']\n",
      "Vector columns: ['AuthorOHE', 'PublisherOHE', 'SubjectsOHE', 'ItemTypeOHE', 'ItemCollectionOHE', 'CategoryGroupOHE', 'AgeGroupOHE']\n"
     ]
    }
   ],
   "source": [
    "categorical_cols = df_main.columns\n",
    "index_output_cols = [ x + \"Index\" for x in categorical_cols]\n",
    "ohe_output_cols = [ x + \"OHE\" for x in categorical_cols]\n",
    "\n",
    "print(\"Categorical columns: \" + str(categorical_cols))\n",
    "print(\"Indexed columns: \" + str(index_output_cols))\n",
    "print(\"Vector columns: \" + str(ohe_output_cols))\n",
    "\n",
    "string_indexer = StringIndexer(inputCols=categorical_cols, outputCols=index_output_cols, handleInvalid=\"skip\")  # skip é importante, para usar mais tarde com o DF de teste\n",
    "df_main_indexed = string_indexer.fit(df_main).transform(df_main)\n",
    "\n",
    "ohe_encoder = OneHotEncoder(inputCols=index_output_cols, outputCols=ohe_output_cols)\n",
    "df_main_encoded = ohe_encoder.fit(df_main_indexed).transform(df_main_indexed)\n",
    "\n",
    "vector_col = \"features\"\n",
    "\n",
    "assembler_inputs = index_output_cols\n",
    "vec_assembler = VectorAssembler(inputCols=assembler_inputs, outputCol=vector_col)"
   ]
  },
  {
   "cell_type": "code",
   "execution_count": 78,
   "id": "solved-petersburg",
   "metadata": {},
   "outputs": [],
   "source": [
    "pipeline = Pipeline(stages=[string_indexer, ohe_encoder, vec_assembler])\n",
    "df_main_indexed_encoded=pipeline.fit(df_main).transform(df_main)"
   ]
  },
  {
   "cell_type": "code",
   "execution_count": 81,
   "id": "independent-valuation",
   "metadata": {},
   "outputs": [
    {
     "name": "stdout",
     "output_type": "stream",
     "text": [
      "root\n",
      " |-- Author: string (nullable = true)\n",
      " |-- Publisher: string (nullable = true)\n",
      " |-- Subjects: string (nullable = true)\n",
      " |-- ItemType: string (nullable = true)\n",
      " |-- ItemCollection: string (nullable = true)\n",
      " |-- CategoryGroup: string (nullable = true)\n",
      " |-- AgeGroup: string (nullable = true)\n",
      " |-- PublisherIndex: double (nullable = false)\n",
      " |-- ItemTypeIndex: double (nullable = false)\n",
      " |-- AgeGroupIndex: double (nullable = false)\n",
      " |-- CategoryGroupIndex: double (nullable = false)\n",
      " |-- ItemCollectionIndex: double (nullable = false)\n",
      " |-- AuthorIndex: double (nullable = false)\n",
      " |-- SubjectsIndex: double (nullable = false)\n",
      " |-- PublisherOHE: vector (nullable = true)\n",
      " |-- ItemCollectionOHE: vector (nullable = true)\n",
      " |-- AuthorOHE: vector (nullable = true)\n",
      " |-- ItemTypeOHE: vector (nullable = true)\n",
      " |-- SubjectsOHE: vector (nullable = true)\n",
      " |-- CategoryGroupOHE: vector (nullable = true)\n",
      " |-- AgeGroupOHE: vector (nullable = true)\n",
      " |-- features: vector (nullable = true)\n",
      "\n"
     ]
    }
   ],
   "source": [
    "df_main_indexed_encoded.printSchema()"
   ]
  },
  {
   "cell_type": "code",
   "execution_count": 82,
   "id": "ruled-interference",
   "metadata": {},
   "outputs": [],
   "source": [
    "df_vector = vec_assembler.transform(df_main_indexed.select(assembler_inputs)).select(vector_col)"
   ]
  },
  {
   "cell_type": "code",
   "execution_count": 83,
   "id": "decimal-cisco",
   "metadata": {},
   "outputs": [],
   "source": [
    "matrix = Correlation.corr(df_vector, vector_col).collect()[0][0]"
   ]
  },
  {
   "cell_type": "code",
   "execution_count": 84,
   "id": "christian-ghana",
   "metadata": {},
   "outputs": [
    {
     "data": {
      "text/plain": [
       "[[1.0,\n",
       "  0.3199452033930049,\n",
       "  0.47622612251807367,\n",
       "  -0.0013669032575905418,\n",
       "  -0.052257099901373526,\n",
       "  0.038175522724072555,\n",
       "  -0.3311637558703365],\n",
       " [0.3199452033930049,\n",
       "  1.0,\n",
       "  0.2285359935181877,\n",
       "  0.14922072692713187,\n",
       "  0.04570003620467213,\n",
       "  0.20360578301670754,\n",
       "  -0.16576022052075345],\n",
       " [0.47622612251807367,\n",
       "  0.2285359935181877,\n",
       "  1.0,\n",
       "  0.001286325343763681,\n",
       "  -0.0028690185269068177,\n",
       "  0.08360351730340318,\n",
       "  -0.22265711497275784],\n",
       " [-0.0013669032575905418,\n",
       "  0.14922072692713187,\n",
       "  0.001286325343763681,\n",
       "  1.0,\n",
       "  0.2406453785027236,\n",
       "  0.4120487150127127,\n",
       "  0.17632893710440845],\n",
       " [-0.052257099901373526,\n",
       "  0.04570003620467213,\n",
       "  -0.0028690185269068177,\n",
       "  0.2406453785027236,\n",
       "  1.0,\n",
       "  0.3335334352980786,\n",
       "  0.16551955865187265],\n",
       " [0.038175522724072555,\n",
       "  0.20360578301670754,\n",
       "  0.08360351730340318,\n",
       "  0.4120487150127127,\n",
       "  0.3335334352980786,\n",
       "  1.0,\n",
       "  0.05090028591615873],\n",
       " [-0.3311637558703365,\n",
       "  -0.16576022052075345,\n",
       "  -0.22265711497275784,\n",
       "  0.17632893710440845,\n",
       "  0.16551955865187265,\n",
       "  0.05090028591615873,\n",
       "  1.0]]"
      ]
     },
     "execution_count": 84,
     "metadata": {},
     "output_type": "execute_result"
    }
   ],
   "source": [
    "corrmatrix = matrix.toArray().tolist()\n",
    "corrmatrix"
   ]
  },
  {
   "cell_type": "code",
   "execution_count": 85,
   "id": "incorporate-election",
   "metadata": {},
   "outputs": [],
   "source": [
    "df_plot = pd.DataFrame(data = corrmatrix, index=assembler_inputs, columns=assembler_inputs)"
   ]
  },
  {
   "cell_type": "code",
   "execution_count": 86,
   "id": "transparent-rotation",
   "metadata": {},
   "outputs": [
    {
     "data": {
      "image/png": "[encoded data removed]",
      "text/plain": [
       "<Figure size 1080x1080 with 1 Axes>"
      ]
     },
     "metadata": {
      "needs_background": "light"
     },
     "output_type": "display_data"
    }
   ],
   "source": [
    "ScatterPlot(df_plot, 15, 15)"
   ]
  },
  {
   "cell_type": "markdown",
   "id": "objective-concentrate",
   "metadata": {},
   "source": [
    "### Clear some objects from memory"
   ]
  },
  {
   "cell_type": "code",
   "execution_count": 87,
   "id": "patent-reliance",
   "metadata": {},
   "outputs": [],
   "source": [
    "del item_collection_dfraw_interest_clean1, library_collection_dfraw_interest_clean1, item_collection_dfraw_interest, library_collection_dfraw_interest, library_collection_dfraw, item_collection_dfraw"
   ]
  },
  {
   "cell_type": "code",
   "execution_count": null,
   "id": "fourth-venue",
   "metadata": {},
   "outputs": [],
   "source": []
  },
  {
   "cell_type": "markdown",
   "id": "immune-hampshire",
   "metadata": {},
   "source": [
    "## Prediction Model"
   ]
  },
  {
   "cell_type": "markdown",
   "id": "departmental-content",
   "metadata": {},
   "source": [
    "### Train/test split"
   ]
  },
  {
   "cell_type": "code",
   "execution_count": null,
   "id": "charming-louisville",
   "metadata": {},
   "outputs": [],
   "source": [
    "df_train, df_test = df_final.randomSplit([0.8, 0.2], seed=42)\n",
    "\n",
    "#df_train.cache()\n",
    "\n",
    "#[df_train.count(), df_test.count(), df_final.count()]"
   ]
  },
  {
   "cell_type": "markdown",
   "id": "chronic-nursing",
   "metadata": {},
   "source": [
    "### Feature Transformation"
   ]
  },
  {
   "cell_type": "code",
   "execution_count": null,
   "id": "mounted-shepherd",
   "metadata": {},
   "outputs": [],
   "source": [
    "vec_assembler = VectorAssembler(inputCols=index_output_cols, outputCol=\"features\")\n",
    "vec_df_train = vec_assembler.transform(df_train)"
   ]
  },
  {
   "cell_type": "code",
   "execution_count": null,
   "id": "viral-survivor",
   "metadata": {},
   "outputs": [],
   "source": [
    "vec_df_train_cols = index_output_cols + [\"features\"]\n",
    "vec_df_train.select(vec_df_train_cols).show()"
   ]
  },
  {
   "cell_type": "markdown",
   "id": "physical-whale",
   "metadata": {},
   "source": [
    "### Linear Regression"
   ]
  },
  {
   "cell_type": "code",
   "execution_count": null,
   "id": "creative-coordination",
   "metadata": {},
   "outputs": [],
   "source": [
    "lr = LinearRegression(maxIter=10, regParam=0.3, elasticNetParam=0.8, featuresCol=\"features\")\n",
    "lr_model = lr.fit(vec_df_train)"
   ]
  },
  {
   "cell_type": "code",
   "execution_count": null,
   "id": "potential-shaft",
   "metadata": {},
   "outputs": [],
   "source": []
  },
  {
   "cell_type": "markdown",
   "id": "hairy-copyright",
   "metadata": {},
   "source": [
    "### Model Inspection "
   ]
  },
  {
   "cell_type": "code",
   "execution_count": null,
   "id": "challenging-saskatchewan",
   "metadata": {},
   "outputs": [],
   "source": [
    "print(\"Coeficcients: %s\" % str(lr_model.coefficients))\n",
    "print(\"Intercept: %s\" % str(lr_model.intercept))"
   ]
  },
  {
   "cell_type": "code",
   "execution_count": null,
   "id": "dirty-brain",
   "metadata": {},
   "outputs": [],
   "source": []
  },
  {
   "cell_type": "markdown",
   "id": "planned-hardwood",
   "metadata": {},
   "source": [
    "### ML Pipeline"
   ]
  },
  {
   "cell_type": "code",
   "execution_count": null,
   "id": "subjective-information",
   "metadata": {},
   "outputs": [],
   "source": [
    "pipeline = Pipeline=[vec_assembler, lr_model]\n",
    "\n",
    "pipeline_model=pipeline.fit(df_train)"
   ]
  },
  {
   "cell_type": "code",
   "execution_count": null,
   "id": "expanded-algebra",
   "metadata": {},
   "outputs": [],
   "source": []
  },
  {
   "cell_type": "code",
   "execution_count": null,
   "id": "comprehensive-parker",
   "metadata": {},
   "outputs": [],
   "source": []
  },
  {
   "cell_type": "markdown",
   "id": "quarterly-knife",
   "metadata": {},
   "source": [
    "### Applying to the test set"
   ]
  },
  {
   "cell_type": "code",
   "execution_count": null,
   "id": "southeast-briefs",
   "metadata": {},
   "outputs": [],
   "source": [
    "df_prediction = pipeline_model.transform(df_test)\n",
    "\n",
    "df_prediction.select(\"features\",\"label\",\"prediction\").show"
   ]
  },
  {
   "cell_type": "code",
   "execution_count": null,
   "id": "spiritual-plaintiff",
   "metadata": {},
   "outputs": [],
   "source": []
  },
  {
   "cell_type": "markdown",
   "id": "correct-object",
   "metadata": {},
   "source": [
    "### Visual Analysis"
   ]
  },
  {
   "cell_type": "code",
   "execution_count": null,
   "id": "conscious-desert",
   "metadata": {},
   "outputs": [],
   "source": []
  },
  {
   "cell_type": "code",
   "execution_count": null,
   "id": "similar-crown",
   "metadata": {},
   "outputs": [],
   "source": [
    "df_main.printSchema()"
   ]
  },
  {
   "cell_type": "code",
   "execution_count": null,
   "id": "corresponding-telescope",
   "metadata": {},
   "outputs": [],
   "source": []
  },
  {
   "cell_type": "code",
   "execution_count": null,
   "id": "boring-moderator",
   "metadata": {},
   "outputs": [],
   "source": []
  },
  {
   "cell_type": "code",
   "execution_count": null,
   "id": "indirect-wagon",
   "metadata": {},
   "outputs": [],
   "source": []
  },
  {
   "cell_type": "code",
   "execution_count": null,
   "id": "charitable-integration",
   "metadata": {},
   "outputs": [],
   "source": []
  },
  {
   "cell_type": "code",
   "execution_count": null,
   "id": "micro-isaac",
   "metadata": {},
   "outputs": [],
   "source": []
  },
  {
   "cell_type": "code",
   "execution_count": null,
   "id": "assigned-designer",
   "metadata": {},
   "outputs": [],
   "source": []
  },
  {
   "cell_type": "markdown",
   "id": "virgin-proxy",
   "metadata": {},
   "source": [
    "Reading the main dataset csv file and the auxiliary table to datafames"
   ]
  },
  {
   "cell_type": "code",
   "execution_count": null,
   "id": "formal-plaza",
   "metadata": {},
   "outputs": [],
   "source": [
    "df_main = spark.read.format(\"csv\")\\\n",
    ".schema(customSchema)\\\n",
    ".load(\"library-collection-inventory-sample.csv\")\n",
    "df_main.dataframeName='seattle-library-sample'\n",
    "\n",
    "df_item_collection = spark.read.format(\"csv\")\\\n",
    ".option(\"header\",\"true\")\\\n",
    ".option(\"inferSchema\", \"true\")\\\n",
    ".load(\"ItemCollection.csv\")\n",
    "df_item_collection.dataframeName='item-collection'\n",
    "\n",
    "df_main.cache()\n",
    "df_item_collection.cache()"
   ]
  },
  {
   "cell_type": "markdown",
   "id": "searching-daisy",
   "metadata": {},
   "source": [
    "Show schemas for both dataframes"
   ]
  },
  {
   "cell_type": "code",
   "execution_count": null,
   "id": "abroad-chorus",
   "metadata": {},
   "outputs": [],
   "source": [
    "df_main.printSchema()\n",
    "df_item_collection.printSchema()\n",
    "print(\"Number of columns of the main dataframe: \" + str(len(df_main.columns)))\n",
    "print(\"Number of columns of the auxiliary dataframe: \" + str(len(df_item_collection.columns)))"
   ]
  },
  {
   "cell_type": "markdown",
   "id": "aquatic-scheme",
   "metadata": {},
   "source": [
    "To cross all the information we will join both dataframes through the item collection code"
   ]
  },
  {
   "cell_type": "code",
   "execution_count": null,
   "id": "unable-woman",
   "metadata": {},
   "outputs": [],
   "source": [
    "df_main_join_df_item_collection = df_main.join(df_item_collection, df_main.ItemCollection == df_item_collection.Code)\n"
   ]
  },
  {
   "cell_type": "markdown",
   "id": "analyzed-condition",
   "metadata": {},
   "source": [
    "Check some data in the data frame"
   ]
  },
  {
   "cell_type": "code",
   "execution_count": null,
   "id": "frank-modem",
   "metadata": {},
   "outputs": [],
   "source": [
    "pd.DataFrame(df_main_join_df_item_collection.take(5), columns=df_main_join_df_item_collection.columns)"
   ]
  },
  {
   "cell_type": "code",
   "execution_count": null,
   "id": "sophisticated-fairy",
   "metadata": {},
   "outputs": [],
   "source": [
    "df_aux=df_main.agg(*(countDistinct(col(c)).alias(c) for c in df_main.columns))\n",
    "pd.set_option('display.max_columns', None)\n",
    "pd.DataFrame(df_aux.take(5), columns=df_aux.columns)"
   ]
  },
  {
   "cell_type": "code",
   "execution_count": null,
   "id": "returning-voltage",
   "metadata": {},
   "outputs": [],
   "source": [
    "#pd.DataFrame(df_aux.take(5), columns=df_aux.columns)."
   ]
  },
  {
   "cell_type": "code",
   "execution_count": null,
   "id": "satisfied-corps",
   "metadata": {},
   "outputs": [],
   "source": [
    "df_main_join_df_item_collection.printSchema()"
   ]
  },
  {
   "cell_type": "code",
   "execution_count": null,
   "id": "neural-simple",
   "metadata": {},
   "outputs": [],
   "source": [
    "#df_main_join_df_item_type.select(\"categoryGroup\").distinct().show()\n",
    "#df_main_join_df_item_type.select(\"categoryGroup\").distinct().count()\n",
    "df_main_join_df_item_collection.select(\"categoryGroup\").distinct().show()\n",
    "print(df_main_join_df_item_collection.select(\"categoryGroup\").distinct().count())\n",
    "\n",
    "df_main_join_df_item_collection.select(\"Subjects\").distinct().show()\n",
    "print(df_main_join_df_item_collection.select(\"Subjects\").distinct().count())\n",
    "\n",
    "df_main_join_df_item_collection.select(\"ItemType\").distinct().show()\n",
    "print(df_main_join_df_item_collection.select(\"ItemType\").distinct().count())\n",
    "\n",
    "df_main_join_df_item_collection.select(\"ItemCollection\").distinct().show()\n",
    "print(df_main_join_df_item_collection.select(\"ItemCollection\").distinct().count())\n",
    "\n",
    "df_main_join_df_item_collection.select(\"ItemLocation\").distinct().show()\n",
    "print(df_main_join_df_item_collection.select(\"ItemLocation\").distinct().count())"
   ]
  },
  {
   "cell_type": "code",
   "execution_count": null,
   "id": "liquid-latest",
   "metadata": {},
   "outputs": [],
   "source": [
    "df_main_join_df_item_collection=df_main_join_df_item_collection.where(\"FormatSubgroup=='Book'\")"
   ]
  },
  {
   "cell_type": "code",
   "execution_count": null,
   "id": "young-probability",
   "metadata": {},
   "outputs": [],
   "source": [
    "df_main_join_df_item_collection.select(\"FormatSubgroup\").distinct().show(truncate=False)"
   ]
  },
  {
   "cell_type": "code",
   "execution_count": null,
   "id": "mediterranean-bradley",
   "metadata": {},
   "outputs": [],
   "source": [
    "df_main_join_df_item_collection.printSchema()"
   ]
  },
  {
   "cell_type": "code",
   "execution_count": null,
   "id": "capital-dividend",
   "metadata": {},
   "outputs": [],
   "source": [
    "cols_to_drop = [\"FloatingItem\", \"BibNum\", \"Title\", \"ISBN\", \"PublicationYear\", \"ReportDate\", \"ItemCount\", \"ReportDate\", \"CodeType\", \"Description\", \"CollectionInventoryIncluded\", \"FormatGroup\", \"FormatSubgroup\"]\n",
    "cols_of_interest = [x for x in df_main_join_df_item_collection.columns if x not in cols_to_drop]"
   ]
  },
  {
   "cell_type": "code",
   "execution_count": null,
   "id": "typical-letters",
   "metadata": {},
   "outputs": [],
   "source": [
    "print(cols_to_drop)\n",
    "print(cols_of_interest)"
   ]
  },
  {
   "cell_type": "code",
   "execution_count": null,
   "id": "appreciated-musician",
   "metadata": {},
   "outputs": [],
   "source": [
    "#rawcols = df_main.columns\n",
    "#len(rawcols)"
   ]
  },
  {
   "cell_type": "code",
   "execution_count": null,
   "id": "consolidated-photograph",
   "metadata": {},
   "outputs": [],
   "source": [
    "# Tratar subjects, publisher e author\n",
    "for col in cols_of_interest:\n",
    "    df_main_join_df_item_collection.select(col).show(10, truncate=False)"
   ]
  },
  {
   "cell_type": "code",
   "execution_count": null,
   "id": "macro-mixer",
   "metadata": {},
   "outputs": [],
   "source": [
    "print(df_main_join_df_item_collection.select(\"Subjects\").count())\n",
    "print(df_main_join_df_item_collection.select(\"Subjects\").distinct().count())"
   ]
  },
  {
   "cell_type": "code",
   "execution_count": null,
   "id": "vulnerable-warrant",
   "metadata": {},
   "outputs": [],
   "source": [
    "print(df_main_join_df_item_collection.select(\"Author\").count())\n",
    "print(df_main_join_df_item_collection.select(\"Author\").distinct().count())"
   ]
  },
  {
   "cell_type": "code",
   "execution_count": null,
   "id": "sealed-demographic",
   "metadata": {},
   "outputs": [],
   "source": [
    "print(df_main_join_df_item_collection.select(\"Publisher\").count())\n",
    "print(df_main_join_df_item_collection.select(\"Publisher\").distinct().count())"
   ]
  },
  {
   "cell_type": "code",
   "execution_count": null,
   "id": "liked-drunk",
   "metadata": {},
   "outputs": [],
   "source": [
    "df_main_join_df_item_collection=df_main_join_df_item_collection.select(cols_of_interest)"
   ]
  },
  {
   "cell_type": "code",
   "execution_count": null,
   "id": "indian-seller",
   "metadata": {},
   "outputs": [],
   "source": [
    "# Limpar nulls\n",
    "df_main_join_df_item_collection=df_main_join_df_item_collection.dropna()\n",
    "df_main_join_df_item_collection.count()"
   ]
  },
  {
   "cell_type": "code",
   "execution_count": null,
   "id": "reflected-alberta",
   "metadata": {},
   "outputs": [],
   "source": [
    "df_main_join_df_item_collection.printSchema()"
   ]
  },
  {
   "cell_type": "code",
   "execution_count": null,
   "id": "experienced-trout",
   "metadata": {},
   "outputs": [],
   "source": [
    "# 1 - StringIndexer\n",
    "\n",
    "age_group_indexer = StringIndexer(inputCol=\"AgeGroup\", outputCol=\"AgeGroupIndex\")\n",
    "category_group_indexer = StringIndexer(inputCol=\"CategoryGroup\", outputCol=\"CategoryGroupIndex\")\n",
    "code_indexer = StringIndexer(inputCol=\"Code\", outputCol=\"CodeIndex\")\n",
    "category_subgroup_indexer = StringIndexer(inputCol=\"CategorySubgroup\", outputCol=\"CategorySubgroupIndex\")\n",
    "item_collection_indexer = StringIndexer(inputCol=\"ItemCollection\", outputCol=\"ItemCollectionIndex\")#Fits a model to the input dataset with optional parameters.\n",
    "item_type_indexer = StringIndexer(inputCol=\"ItemType\", outputCol=\"ItemTypeIndex\")\n",
    "item_location_indexer = StringIndexer(inputCol=\"ItemLocation\", outputCol=\"ItemLocationIndex\")\n",
    "author_indexer = StringIndexer(inputCol=\"Author\", outputCol=\"AuthorIndex\")\n",
    "subjects_indexer = StringIndexer(inputCol=\"Subjects\", outputCol=\"SubjectsIndex\")\n",
    "publisher_indexer = StringIndexer(inputCol=\"Publisher\", outputCol=\"PublisherIndex\")\n",
    "\n",
    "df_final = item_collection_indexer.fit(df_main_join_df_item_collection).transform(df_main_join_df_item_collection)\n",
    "df_final = item_type_indexer.fit(df_final).transform(df_final)\n",
    "df_final = item_location_indexer.fit(df_final).transform(df_final)\n",
    "df_final = author_indexer.fit(df_final).transform(df_final)\n",
    "df_final = subjects_indexer.fit(df_final).transform(df_final)\n",
    "df_final = publisher_indexer.fit(df_final).transform(df_final)\n",
    "df_final = category_group_indexer.fit(df_final).transform(df_final)\n",
    "df_final = code_indexer.fit(df_final).transform(df_final)\n",
    "df_final = category_subgroup_indexer.fit(df_final).transform(df_final)\n",
    "df_final = age_group_indexer.fit(df_final).transform(df_final)"
   ]
  },
  {
   "cell_type": "code",
   "execution_count": null,
   "id": "opening-exclusive",
   "metadata": {},
   "outputs": [],
   "source": [
    "df_final.printSchema()"
   ]
  },
  {
   "cell_type": "code",
   "execution_count": null,
   "id": "embedded-validity",
   "metadata": {},
   "outputs": [],
   "source": [
    "# 2 - OneHotEncoder\n",
    "onehotencoder_item_collection_vector = OneHotEncoder(inputCol=\"ItemCollectionIndex\", outputCol=\"ItemCollectionVec\")\n",
    "onehotencoder_item_type_vector = OneHotEncoder(inputCol=\"ItemTypeIndex\", outputCol=\"ItemTypeVec\")\n",
    "onehotencoder_item_location_vector = OneHotEncoder(inputCol=\"ItemLocationIndex\", outputCol=\"ItemLocationVec\")\n",
    "onehotencoder_author_vector = OneHotEncoder(inputCol=\"AuthorIndex\", outputCol=\"AuthorVec\")\n",
    "onehotencoder_subjects_vector = OneHotEncoder(inputCol=\"SubjectsIndex\", outputCol=\"SubjectsVec\")\n",
    "onehotencoder_age_group_vector = OneHotEncoder(inputCol=\"AgeGroupIndex\", outputCol=\"AgeGroupVec\")\n",
    "onehotencoder_category_subgroup_vector = OneHotEncoder(inputCol=\"CategorySubgroupIndex\", outputCol=\"CategorySubgroupVec\")\n",
    "onehotencoder_code_vector = OneHotEncoder(inputCol=\"CodeIndex\", outputCol=\"CodeVec\")\n",
    "onehotencoder_category_group_vector = OneHotEncoder(inputCol=\"CategoryGroupIndex\", outputCol=\"CategoryGroupVec\")\n",
    "onehotencoder_publisher_vector = OneHotEncoder(inputCol=\"PublisherIndex\", outputCol=\"PublisherVec\")\n",
    "\n",
    "df_final = onehotencoder_item_collection_vector.fit(df_final).transform(df_final)\n",
    "df_final = onehotencoder_item_type_vector.fit(df_final).transform(df_final)\n",
    "df_final = onehotencoder_item_location_vector.fit(df_final).transform(df_final)\n",
    "df_final = onehotencoder_author_vector.fit(df_final).transform(df_final)\n",
    "df_final = onehotencoder_subjects_vector.fit(df_final).transform(df_final)\n",
    "df_final = onehotencoder_publisher_vector.fit(df_final).transform(df_final)\n",
    "df_final = onehotencoder_age_group_vector.fit(df_final).transform(df_final)\n",
    "df_final = onehotencoder_category_subgroup_vector.fit(df_final).transform(df_final)\n",
    "df_final = onehotencoder_category_group_vector.fit(df_final).transform(df_final)\n",
    "df_final = onehotencoder_code_vector.fit(df_final).transform(df_final)\n",
    "\n",
    "pd.DataFrame(df_final.take(5), columns=df_final.columns)"
   ]
  },
  {
   "cell_type": "code",
   "execution_count": null,
   "id": "purple-development",
   "metadata": {},
   "outputs": [],
   "source": [
    "df_final.printSchema()"
   ]
  },
  {
   "cell_type": "code",
   "execution_count": null,
   "id": "optimum-presence",
   "metadata": {},
   "outputs": [],
   "source": [
    "pd.DataFrame(df_final.take(5), columns=df_final.columns)"
   ]
  },
  {
   "cell_type": "code",
   "execution_count": null,
   "id": "significant-screen",
   "metadata": {},
   "outputs": [],
   "source": [
    "df_train, df_test = df_final.randomSplit([0.8, 0.2], seed=42)"
   ]
  },
  {
   "cell_type": "code",
   "execution_count": null,
   "id": "alternative-solution",
   "metadata": {},
   "outputs": [],
   "source": [
    "df_train.printSchema()"
   ]
  },
  {
   "cell_type": "code",
   "execution_count": null,
   "id": "central-interference",
   "metadata": {},
   "outputs": [],
   "source": [
    "# 3 - VectorAssembler\n",
    "vec_assembler = VectorAssembler(inputCols=[\"ItemCollectionVec\",\n",
    " \"ItemTypeVec\",\n",
    " \"ItemLocationVec\",\n",
    " \"AuthorVec\",\n",
    " \"SubjectsVec\",\n",
    " \"PublisherVec\",\n",
    " \"AgeGroupVec\",\n",
    " \"CategorySubgroupVec\",\n",
    " \"CodeVec\"], outputCol=\"features\")\n",
    "vec_df_train = vec_assembler.transform(df_train)"
   ]
  },
  {
   "cell_type": "code",
   "execution_count": null,
   "id": "little-floor",
   "metadata": {},
   "outputs": [],
   "source": [
    "# Matriz de Correlação\n",
    "# convert to vector column first\n",
    "#df_vector = vec_assembler.transform(df_train).select(\"features\")\n",
    "#matrix = Correlation.corr(df_vector, \"features\")"
   ]
  },
  {
   "cell_type": "code",
   "execution_count": null,
   "id": "external-infrastructure",
   "metadata": {},
   "outputs": [],
   "source": []
  },
  {
   "cell_type": "code",
   "execution_count": null,
   "id": "cross-costume",
   "metadata": {},
   "outputs": [],
   "source": []
  },
  {
   "cell_type": "code",
   "execution_count": null,
   "id": "scheduled-authentication",
   "metadata": {},
   "outputs": [],
   "source": [
    "vec_df_test = vec_assembler.transform(df_test)"
   ]
  },
  {
   "cell_type": "code",
   "execution_count": null,
   "id": "catholic-nickel",
   "metadata": {},
   "outputs": [],
   "source": [
    "# create the trainer and set its parameters\n",
    "nb = NaiveBayes(labelCol='CategoryGroupIndex', smoothing=1.0)\n",
    "# train the model\n",
    "model = nb.fit(vec_df_train)"
   ]
  },
  {
   "cell_type": "code",
   "execution_count": null,
   "id": "aging-prague",
   "metadata": {},
   "outputs": [],
   "source": [
    "predictions = model.transform(vec_df_test)\n",
    "predictions.show(truncate=False)\n",
    "\n",
    "pd.DataFrame(predictions.take(5), columns=predictions.columns)\n",
    "predictions.select(\"prediction\").distinct().show()"
   ]
  },
  {
   "cell_type": "code",
   "execution_count": null,
   "id": "above-hopkins",
   "metadata": {},
   "outputs": [],
   "source": [
    "# compute accuracy on the test set\n",
    "evaluator = MulticlassClassificationEvaluator(labelCol=\"CategoryGroupIndex\", predictionCol=\"prediction\",\n",
    "                                              metricName=\"accuracy\")"
   ]
  },
  {
   "cell_type": "code",
   "execution_count": null,
   "id": "powerful-indicator",
   "metadata": {},
   "outputs": [],
   "source": [
    "accuracy = evaluator.evaluate(predictions)\n",
    "print(\"Test set accuracy = \" + str(accuracy))"
   ]
  },
  {
   "cell_type": "code",
   "execution_count": null,
   "id": "paperback-bridal",
   "metadata": {},
   "outputs": [],
   "source": [
    "# Compute raw scores on the test set\n",
    "predictionAndLabels = df_test.rdd.map(lambda lp: (float(model.predict(lp.features)), lp.label))"
   ]
  },
  {
   "cell_type": "code",
   "execution_count": null,
   "id": "certified-evanescence",
   "metadata": {},
   "outputs": [],
   "source": [
    "evaluator = MulticlassClassificationEvaluator(labelCol=\"CategoryGroupIndex\", predictionCol=\"prediction\",\n",
    "                                              metricName=\"truePositiveRateByLabel\")"
   ]
  },
  {
   "cell_type": "code",
   "execution_count": null,
   "id": "numerical-longer",
   "metadata": {},
   "outputs": [],
   "source": [
    "true_positive = evaluator.evaluate(predictions)\n",
    "print(\"Test set truePositiveRateByLabel = \" + str(true_positive))"
   ]
  },
  {
   "cell_type": "code",
   "execution_count": null,
   "id": "after-charger",
   "metadata": {},
   "outputs": [],
   "source": [
    "evaluator = MulticlassClassificationEvaluator(labelCol=\"CategoryGroupIndex\", predictionCol=\"prediction\",\n",
    "                                              metricName=\"hammingLoss\")"
   ]
  },
  {
   "cell_type": "code",
   "execution_count": null,
   "id": "equipped-buyer",
   "metadata": {},
   "outputs": [],
   "source": [
    "hamming_loss = evaluator.evaluate(predictions)\n",
    "print(\"Test set hamming_loss = \" + str(hamming_loss))"
   ]
  },
  {
   "cell_type": "code",
   "execution_count": null,
   "id": "heated-lawrence",
   "metadata": {},
   "outputs": [],
   "source": [
    "evaluator = MulticlassClassificationEvaluator(labelCol=\"CategoryGroupIndex\", predictionCol=\"prediction\",\n",
    "                                              metricName=\"logLoss\")"
   ]
  },
  {
   "cell_type": "code",
   "execution_count": null,
   "id": "structured-laundry",
   "metadata": {},
   "outputs": [],
   "source": [
    "log_loss = evaluator.evaluate(predictions)\n",
    "print(\"Test set log_loss = \" + str(log_loss))"
   ]
  },
  {
   "cell_type": "code",
   "execution_count": null,
   "id": "emerging-detection",
   "metadata": {},
   "outputs": [],
   "source": [
    "evaluator = MulticlassClassificationEvaluator(labelCol=\"CategoryGroupIndex\", predictionCol=\"prediction\",\n",
    "                                              metricName=\"falsePositiveRateByLabel\")"
   ]
  },
  {
   "cell_type": "code",
   "execution_count": null,
   "id": "enclosed-cathedral",
   "metadata": {},
   "outputs": [],
   "source": [
    "false_positive = evaluator.evaluate(predictions)\n",
    "print(\"Test set falsePositiveRateByLabel = \" + str(false_positive))"
   ]
  },
  {
   "cell_type": "code",
   "execution_count": null,
   "id": "alpha-warehouse",
   "metadata": {},
   "outputs": [],
   "source": [
    "rf = RandomForestClassifier(labelCol=\"CategoryGroupIndex\",\n",
    "                            featuresCol=\"features\", \n",
    "                            numTrees = 100, \n",
    "                            maxDepth = 4, \n",
    "                            maxBins = 32)\n",
    "# Train model with Training Data\n",
    "rfModel = rf.fit(vec_df_train)\n",
    "predictions = rfModel.transform(vec_df_test)\n",
    "predictions.filter(predictions['prediction'] == 0) \\\n",
    "    .select(\"Author\",\"CategoryGroup\",\"CategoryGroupIndex\",\"Subjects\",\"Publisher\",\"prediction\") \\\n",
    "    .orderBy(\"prediction\", ascending=False) \\\n",
    "    .show(n = 10, truncate = 30)"
   ]
  },
  {
   "cell_type": "code",
   "execution_count": null,
   "id": "fiscal-practice",
   "metadata": {},
   "outputs": [],
   "source": [
    "evaluator = MulticlassClassificationEvaluator(labelCol=\"CategoryGroupIndex\", predictionCol=\"prediction\", metricName=\"accuracy\")\n",
    "evaluator.evaluate(predictions)"
   ]
  },
  {
   "cell_type": "code",
   "execution_count": null,
   "id": "separate-siemens",
   "metadata": {},
   "outputs": [],
   "source": [
    "dt = DecisionTreeClassifier(labelCol=\"CategoryGroupIndex\", featuresCol=\"features\")\n",
    "dtModel = dt.fit(vec_df_train)"
   ]
  },
  {
   "cell_type": "code",
   "execution_count": null,
   "id": "effective-acceptance",
   "metadata": {},
   "outputs": [],
   "source": [
    "predictions = dtModel.transform(vec_df_test)\n",
    "predictions.filter(predictions['prediction'] == 0) \\\n",
    "    .select(\"Author\",\"CategoryGroup\",\"CategoryGroupIndex\",\"Subjects\",\"Publisher\",\"prediction\") \\\n",
    "    .orderBy(\"prediction\", ascending=False) \\\n",
    "    .show(n = 10, truncate = 30)"
   ]
  },
  {
   "cell_type": "code",
   "execution_count": null,
   "id": "reduced-refund",
   "metadata": {},
   "outputs": [],
   "source": [
    "evaluator = MulticlassClassificationEvaluator(labelCol=\"CategoryGroupIndex\", predictionCol=\"prediction\", metricName=\"accuracy\")\n",
    "evaluator.evaluate(predictions)"
   ]
  },
  {
   "cell_type": "code",
   "execution_count": null,
   "id": "clinical-windows",
   "metadata": {},
   "outputs": [],
   "source": [
    "#print(spark.conf.get('spark.driver.maxResultSize'))"
   ]
  },
  {
   "cell_type": "code",
   "execution_count": null,
   "id": "reasonable-prague",
   "metadata": {},
   "outputs": [],
   "source": [
    "sc=spark.sparkContext"
   ]
  },
  {
   "cell_type": "code",
   "execution_count": null,
   "id": "ignored-impossible",
   "metadata": {},
   "outputs": [],
   "source": [
    "print(sc._conf.get('spark.driver.memory'))"
   ]
  },
  {
   "cell_type": "code",
   "execution_count": null,
   "id": "arranged-planet",
   "metadata": {},
   "outputs": [],
   "source": []
  },
  {
   "cell_type": "code",
   "execution_count": null,
   "id": "recognized-grammar",
   "metadata": {},
   "outputs": [],
   "source": [
    "%magic "
   ]
  },
  {
   "cell_type": "code",
   "execution_count": null,
   "id": "accomplished-diploma",
   "metadata": {},
   "outputs": [],
   "source": [
    "%%configure -f {\"conf\":{\"spark.driver.maxResultSize\":\"2G\"}}"
   ]
  },
  {
   "cell_type": "code",
   "execution_count": null,
   "id": "light-yellow",
   "metadata": {},
   "outputs": [],
   "source": [
    "vec_df_train.printSchema()"
   ]
  },
  {
   "cell_type": "code",
   "execution_count": null,
   "id": "rocky-apple",
   "metadata": {},
   "outputs": [],
   "source": [
    "#df_b=vec_df_train.select(\"ItemCollectionVec\",\"PublisherVec\",\"AuthorVec\",\"ItemTypeVec\", \"ItemLocationVec\",\"SubjectsVec\",\"CategorySubgroupVec\",\"CodeVec\", \"CategoryGroupVec\",\"features\")\n",
    "df_b=vec_df_train.select(\"ItemLocationVec\",\"SubjectsVec\",\"CategorySubgroupVec\",\"CodeVec\", \"CategoryGroupVec\",\"features\")\n",
    "df_b.printSchema()"
   ]
  },
  {
   "cell_type": "code",
   "execution_count": null,
   "id": "configured-coast",
   "metadata": {},
   "outputs": [],
   "source": [
    "r1 = Correlation.corr(df_b, \"features\").head()"
   ]
  },
  {
   "cell_type": "code",
   "execution_count": null,
   "id": "pretty-isaac",
   "metadata": {},
   "outputs": [],
   "source": []
  },
  {
   "cell_type": "code",
   "execution_count": null,
   "id": "automatic-violin",
   "metadata": {},
   "outputs": [],
   "source": [
    "# Instantiate metrics object\n",
    "metrics = MulticlassMetrics(predictionAndLabels)"
   ]
  },
  {
   "cell_type": "code",
   "execution_count": null,
   "id": "light-revision",
   "metadata": {},
   "outputs": [],
   "source": [
    "precision = evaluator.evaluate(predictions)\n",
    "print(\"Test set precision = \" + str(precision))"
   ]
  },
  {
   "cell_type": "code",
   "execution_count": null,
   "id": "resident-liability",
   "metadata": {},
   "outputs": [],
   "source": [
    "#df_main_join_df_item_collection.select(\"Code\").distinct().show()\n",
    "#df_main_join_df_item_collection.select(\"Code\").distinct().count()\n",
    "#cols_to_drop = [\"FloatingItem\", \"BibNum\", \"Title\", \"ISBN\", \"PublicationYear\", \"ReportDate\", \"ItemCount\"]\n",
    "#cols_of_interest = [x for x in rawcols if x not in cols_to_drop]\n",
    "#cols_of_interest"
   ]
  },
  {
   "cell_type": "code",
   "execution_count": null,
   "id": "casual-prayer",
   "metadata": {},
   "outputs": [],
   "source": []
  },
  {
   "cell_type": "code",
   "execution_count": null,
   "id": "informative-anatomy",
   "metadata": {},
   "outputs": [],
   "source": []
  },
  {
   "cell_type": "code",
   "execution_count": null,
   "id": "meaningful-wisdom",
   "metadata": {},
   "outputs": [],
   "source": []
  },
  {
   "cell_type": "code",
   "execution_count": null,
   "id": "complimentary-smile",
   "metadata": {},
   "outputs": [],
   "source": [
    "df_of_interest = df_main.select(cols_of_interest)\n",
    "df_of_interest.printSchema()\n",
    "df_of_interest.show()"
   ]
  },
  {
   "cell_type": "code",
   "execution_count": null,
   "id": "occupational-height",
   "metadata": {},
   "outputs": [],
   "source": [
    "# Drop nulls\n",
    "df_of_interest_cleaned = df_of_interest.dropna()"
   ]
  },
  {
   "cell_type": "code",
   "execution_count": null,
   "id": "turned-junior",
   "metadata": {},
   "outputs": [],
   "source": [
    "print(df_of_interest.count())\n",
    "print(df_of_interest_cleaned.count())"
   ]
  },
  {
   "cell_type": "code",
   "execution_count": null,
   "id": "preliminary-consideration",
   "metadata": {},
   "outputs": [],
   "source": [
    "# check the columns again, just the ones of interest, one by one\n",
    "for col in df_of_interest_cleaned.columns:\n",
    "    df_of_interest_cleaned.select(col).show(5)"
   ]
  },
  {
   "cell_type": "code",
   "execution_count": null,
   "id": "prime-quilt",
   "metadata": {},
   "outputs": [],
   "source": [
    "#df_of_interest_cleaned.select(\"ItemLocation\").distinct().count()\n",
    "df_of_interest_cleaned.select(\"ItemLocation\").distinct().show(truncate=False)"
   ]
  },
  {
   "cell_type": "code",
   "execution_count": null,
   "id": "spectacular-australia",
   "metadata": {},
   "outputs": [],
   "source": [
    "cleanfilename = 'cleaned-library-dataset'\n",
    "df_of_interest_cleaned.write.mode(\"overwrite\").csv(cleanfilename)"
   ]
  },
  {
   "cell_type": "code",
   "execution_count": null,
   "id": "established-scout",
   "metadata": {},
   "outputs": [],
   "source": [
    "# 1 - StringIndexer\n",
    "item_collection_indexer = StringIndexer(inputCol=\"ItemCollection\", outputCol=\"ItemCollectionIndex\")#Fits a model to the input dataset with optional parameters.\n",
    "item_type_indexer = StringIndexer(inputCol=\"ItemType\", outputCol=\"ItemTypeIndex\")\n",
    "item_location_indexer = StringIndexer(inputCol=\"ItemLocation\", outputCol=\"ItemLocationIndex\")\n",
    "author_indexer = StringIndexer(inputCol=\"Author\", outputCol=\"AuthorIndex\")\n",
    "subjects_indexer = StringIndexer(inputCol=\"Subjects\", outputCol=\"SubjectsIndex\")\n",
    "publisher_indexer = StringIndexer(inputCol=\"Publisher\", outputCol=\"PublisherIndex\")\n",
    "\n",
    "df_final = item_collection_indexer.fit(df_of_interest_cleaned).transform(df_of_interest_cleaned)\n",
    "df_final = item_type_indexer.fit(df_final).transform(df_final)\n",
    "df_final = item_location_indexer.fit(df_final).transform(df_final)\n",
    "df_final = author_indexer.fit(df_final).transform(df_final)\n",
    "df_final = subjects_indexer.fit(df_final).transform(df_final)\n",
    "df_final = publisher_indexer.fit(df_final).transform(df_final)"
   ]
  },
  {
   "cell_type": "code",
   "execution_count": null,
   "id": "thermal-harvey",
   "metadata": {},
   "outputs": [],
   "source": [
    "# 2 - OneHotEncoder\n",
    "onehotencoder_item_collection_vector = OneHotEncoder(inputCol=\"ItemCollectionIndex\", outputCol=\"ItemCollectionVec\")\n",
    "onehotencoder_item_type_vector = OneHotEncoder(inputCol=\"ItemTypeIndex\", outputCol=\"ItemTypeVec\")\n",
    "onehotencoder_item_location_vector = OneHotEncoder(inputCol=\"ItemLocationIndex\", outputCol=\"ItemLocationVec\")\n",
    "onehotencoder_author_vector = OneHotEncoder(inputCol=\"AuthorIndex\", outputCol=\"AuthorVec\")\n",
    "onehotencoder_subjects_vector = OneHotEncoder(inputCol=\"SubjectsIndex\", outputCol=\"SubjectsVec\")\n",
    "onehotencoder_publisher_vector = OneHotEncoder(inputCol=\"PublisherIndex\", outputCol=\"PublisherVec\")\n",
    "\n",
    "df_final = onehotencoder_item_collection_vector.fit(df_final).transform(df_final)\n",
    "df_final = onehotencoder_item_type_vector.fit(df_final).transform(df_final)\n",
    "df_final = onehotencoder_item_location_vector.fit(df_final).transform(df_final)\n",
    "df_final = onehotencoder_author_vector.fit(df_final).transform(df_final)\n",
    "df_final = onehotencoder_subjects_vector.fit(df_final).transform(df_final)\n",
    "df_final = onehotencoder_publisher_vector.fit(df_final).transform(df_final)\n",
    "\n",
    "df_final.show()"
   ]
  },
  {
   "cell_type": "code",
   "execution_count": null,
   "id": "based-appreciation",
   "metadata": {},
   "outputs": [],
   "source": [
    "df_train, df_test = df_final.randomSplit([0.8, 0.2], seed=42)"
   ]
  },
  {
   "cell_type": "code",
   "execution_count": null,
   "id": "frequent-search",
   "metadata": {},
   "outputs": [],
   "source": [
    "df_train.cache()"
   ]
  },
  {
   "cell_type": "code",
   "execution_count": null,
   "id": "surprised-marking",
   "metadata": {},
   "outputs": [],
   "source": [
    "#print number of lines in each part\n",
    "#[df_train.count(), df_test.count()]"
   ]
  },
  {
   "cell_type": "code",
   "execution_count": null,
   "id": "north-compound",
   "metadata": {},
   "outputs": [],
   "source": [
    "# 3 - VectorAssembler\n",
    "vec_assembler = VectorAssembler(inputCols=[\"ItemTypeVec\",\n",
    " \"ItemLocationVec\",\n",
    " \"AuthorVec\",\n",
    " \"SubjectsVec\",\n",
    " \"PublisherVec\"], outputCol=\"features\")\n",
    "vec_df_train = vec_assembler.transform(df_train)"
   ]
  },
  {
   "cell_type": "code",
   "execution_count": null,
   "id": "activated-northwest",
   "metadata": {},
   "outputs": [],
   "source": [
    "vec_df_train.show(truncate=False)"
   ]
  },
  {
   "cell_type": "code",
   "execution_count": null,
   "id": "polished-right",
   "metadata": {},
   "outputs": [],
   "source": [
    "# Este algoritmo deu merda\n",
    "# create the trainer and set its parameters\n",
    "#nb = NaiveBayes(labelCol='ItemCollectionIndex', smoothing=1.0, modelType=\"multinomial\")\n",
    "# train the model\n",
    "#model = nb.fit(vec_df_train)"
   ]
  },
  {
   "cell_type": "code",
   "execution_count": null,
   "id": "twelve-picnic",
   "metadata": {},
   "outputs": [],
   "source": [
    "val dt = new DecisionTreeClassifier()\n",
    "  .setLabelCol(\"indexedLabel\")\n",
    "  .setFeaturesCol(\"indexedFeatures\")"
   ]
  },
  {
   "cell_type": "code",
   "execution_count": null,
   "id": "headed-pakistan",
   "metadata": {},
   "outputs": [],
   "source": []
  },
  {
   "cell_type": "code",
   "execution_count": null,
   "id": "atomic-celebration",
   "metadata": {},
   "outputs": [],
   "source": []
  },
  {
   "cell_type": "code",
   "execution_count": null,
   "id": "oriented-customer",
   "metadata": {},
   "outputs": [],
   "source": []
  },
  {
   "cell_type": "code",
   "execution_count": null,
   "id": "lonely-estimate",
   "metadata": {},
   "outputs": [],
   "source": []
  },
  {
   "cell_type": "code",
   "execution_count": null,
   "id": "computational-basement",
   "metadata": {},
   "outputs": [],
   "source": []
  },
  {
   "cell_type": "code",
   "execution_count": null,
   "id": "supreme-swift",
   "metadata": {},
   "outputs": [],
   "source": []
  },
  {
   "cell_type": "code",
   "execution_count": null,
   "id": "everyday-school",
   "metadata": {},
   "outputs": [],
   "source": [
    "df.printSchema()\n",
    "cols = df.columns\n",
    "df.count()"
   ]
  },
  {
   "cell_type": "code",
   "execution_count": null,
   "id": "progressive-chicago",
   "metadata": {},
   "outputs": [],
   "source": []
  },
  {
   "cell_type": "code",
   "execution_count": null,
   "id": "nominated-vegetarian",
   "metadata": {},
   "outputs": [],
   "source": []
  },
  {
   "cell_type": "code",
   "execution_count": null,
   "id": "middle-sheet",
   "metadata": {},
   "outputs": [],
   "source": []
  },
  {
   "cell_type": "code",
   "execution_count": null,
   "id": "turkish-calculation",
   "metadata": {},
   "outputs": [],
   "source": []
  },
  {
   "cell_type": "code",
   "execution_count": null,
   "id": "imposed-series",
   "metadata": {},
   "outputs": [],
   "source": [
    "df.show(2)"
   ]
  },
  {
   "cell_type": "code",
   "execution_count": null,
   "id": "mineral-society",
   "metadata": {},
   "outputs": [],
   "source": [
    "pd.DataFrame(df.take(5), columns=cols)"
   ]
  },
  {
   "cell_type": "code",
   "execution_count": null,
   "id": "honey-arbor",
   "metadata": {},
   "outputs": [],
   "source": [
    "df.take(5)"
   ]
  },
  {
   "cell_type": "code",
   "execution_count": null,
   "id": "critical-interval",
   "metadata": {},
   "outputs": [],
   "source": [
    "featureColumns = ['Author','Publisher','ItemType','ItemCollection',\n",
    " 'ItemLocation']"
   ]
  },
  {
   "cell_type": "code",
   "execution_count": null,
   "id": "korean-coordinator",
   "metadata": {},
   "outputs": [],
   "source": [
    "responses = df.groupBy('Subjects').count().collect()"
   ]
  },
  {
   "cell_type": "code",
   "execution_count": null,
   "id": "fuzzy-lindsay",
   "metadata": {},
   "outputs": [],
   "source": [
    "categories = [i[0] for i in responses]\n",
    "counts = [i[1] for i in responses]\n",
    " \n",
    "ind = np.array(range(len(categories)))\n",
    "width = 0.35\n",
    "plt.bar(ind, counts, width=width, color='r')\n",
    " \n",
    "plt.ylabel('counts')\n",
    "plt.title('Stroke')\n",
    "plt.xticks(ind + width/2., categories)"
   ]
  },
  {
   "cell_type": "code",
   "execution_count": null,
   "id": "numerical-period",
   "metadata": {},
   "outputs": [],
   "source": [
    "df.select(\"Subjects\").distinct().count()"
   ]
  },
  {
   "cell_type": "code",
   "execution_count": null,
   "id": "conscious-thought",
   "metadata": {},
   "outputs": [],
   "source": [
    "df.take(50)"
   ]
  },
  {
   "cell_type": "code",
   "execution_count": null,
   "id": "decent-thomson",
   "metadata": {},
   "outputs": [],
   "source": [
    "#Count nulls\n",
    "df.select([count(when(isnan('Subjects') | col('Subjects').isNull() , True))]).show()\n",
    "df.select([count(when(isnan('ItemType') | col('ItemType').isNull() , True))]).show()\n",
    "df.select([count(when(isnan('ItemCollection') | col('ItemCollection').isNull() , True))]).show()"
   ]
  },
  {
   "cell_type": "code",
   "execution_count": null,
   "id": "composed-elizabeth",
   "metadata": {},
   "outputs": [],
   "source": [
    "x = df.count()"
   ]
  },
  {
   "cell_type": "code",
   "execution_count": null,
   "id": "casual-winter",
   "metadata": {},
   "outputs": [],
   "source": [
    "x - 8322"
   ]
  },
  {
   "cell_type": "code",
   "execution_count": null,
   "id": "humanitarian-protocol",
   "metadata": {},
   "outputs": [],
   "source": [
    "df = df.na.drop(subset=[\"Subjects\"]) ## Drop null values\n",
    "df = df.na.drop(subset=[\"ItemType\"]) ## Drop null values\n",
    "df = df.na.drop(subset=[\"ItemCollection\"]) ## Drop null values"
   ]
  },
  {
   "cell_type": "code",
   "execution_count": null,
   "id": "representative-output",
   "metadata": {},
   "outputs": [],
   "source": [
    "df.count()"
   ]
  },
  {
   "cell_type": "code",
   "execution_count": null,
   "id": "catholic-serial",
   "metadata": {},
   "outputs": [],
   "source": [
    "item_collection_indexer = StringIndexer(inputCol=\"ItemCollection\", outputCol=\"ItemCollectionIndex\")#Fits a model to the input dataset with optional parameters.\n",
    "df1 = item_collection_indexer.fit(df).transform(df)\n",
    "df1.show()"
   ]
  },
  {
   "cell_type": "code",
   "execution_count": null,
   "id": "initial-kingston",
   "metadata": {},
   "outputs": [],
   "source": [
    "#encoder = OneHotEncoder()\\\n",
    "#.setInputCol(\"ItemCollection\")\\\n",
    "#.setOutputCol(\"ItemCollection\")\n",
    "#encoder.transform(df.select(\"ItemCollection\")).show()"
   ]
  },
  {
   "cell_type": "code",
   "execution_count": null,
   "id": "silent-sucking",
   "metadata": {},
   "outputs": [],
   "source": [
    "#onehotencoder to qualificationIndex\n",
    "onehotencoder_item_collection_vector = OneHotEncoder(inputCol=\"ItemCollectionIndex\", outputCol=\"ItemCollection_vec\")\n",
    "df11 = onehotencoder_item_collection_vector.fit(df1).transform(df1)\n",
    "df11.show()"
   ]
  },
  {
   "cell_type": "code",
   "execution_count": null,
   "id": "smaller-pulse",
   "metadata": {},
   "outputs": [],
   "source": [
    "#Create pipeline and pass all stages\n",
    "pipeline = Pipeline(stages=[item_collection_indexer,\n",
    "                            onehotencoder_item_collection_vector\n",
    "                    ])"
   ]
  },
  {
   "cell_type": "code",
   "execution_count": null,
   "id": "distinct-criminal",
   "metadata": {},
   "outputs": [],
   "source": [
    "df_transformed = pipeline.fit(df).transform(df)\n",
    "df_transformed.show()"
   ]
  },
  {
   "cell_type": "code",
   "execution_count": null,
   "id": "choice-reunion",
   "metadata": {},
   "outputs": [],
   "source": [
    "df_transformed.select(\"ItemCollectionIndex\").distinct().count()"
   ]
  },
  {
   "cell_type": "code",
   "execution_count": null,
   "id": "aware-jumping",
   "metadata": {},
   "outputs": [],
   "source": [
    "#from pyspark.ml.feature import RFormula\n",
    "#supervised = RFormula(formula=\"label ~ . + Churn:TotalCharges + Churn:MonthlyCharges + Churn:SeniorCitizen\")"
   ]
  }
 ],
 "metadata": {
  "kernelspec": {
   "display_name": "PySpark",
   "language": "python",
   "name": "pyspark"
  },
  "language_info": {
   "codemirror_mode": {
    "name": "ipython",
    "version": 3
   },
   "file_extension": ".py",
   "mimetype": "text/x-python",
   "name": "python",
   "nbconvert_exporter": "python",
   "pygments_lexer": "ipython3",
   "version": "3.8.5"
  }
 },
 "nbformat": 4,
 "nbformat_minor": 5
}
