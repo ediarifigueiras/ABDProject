{
 "cells": [
  {
   "cell_type": "markdown",
   "id": "pretty-hungary",
   "metadata": {},
   "source": [
    "**Column Description**\n",
    "\n",
    "\n",
    "| Column     | Type       | Description |\n",
    "|--------  |---------  |: --------- |\n",
    "| **BibNum** | Integer | Customer ID |\n",
    "| **Title** | String | Whether the customer is a male or a female |\n",
    "| **Author** | String | Whether the customer is a senior citizen or not (1, 0) |\n",
    "| **ISBN** | String | Whether the customer has a partner or not (Yes, No) |\n",
    "| **PublicationYear** | String | Whether the customer has dependents or not (Yes, No) |\n",
    "| **Publisher** | String | Number of months the customer has stayed with the company |\n",
    "| **Subjects** | String | Whether the customer has a phone service or not (Yes, No) |\n",
    "| **ItemType** | String | Whether the customer has multiple lines or not (Yes, No, No phone service) |\n",
    "| **ItemCollection** | String | Customer’s internet service provider (DSL, Fiber optic, No) |\n",
    "| **FloatingItem** | String | Whether the customer has online security or not (Yes, No, No internet service) |\n",
    "| **ItemLocation** | String | Whether the customer has online backup or not (Yes, No, No internet service) |\n",
    "| **ReportDate** | String | Whether the customer has device protection or not (Yes, No, No internet service) |\n",
    "| **ItemCount** | String | Whether the customer has tech support or not (Yes, No, No internet service) |\n",
    "\n"
   ]
  },
  {
   "cell_type": "code",
   "execution_count": 13,
   "id": "heard-national",
   "metadata": {},
   "outputs": [
    {
     "name": "stdout",
     "output_type": "stream",
     "text": [
      "/usr/bin/sh: 1: pip: not found\r\n"
     ]
    }
   ],
   "source": [
    "!pip install pandas"
   ]
  },
  {
   "cell_type": "code",
   "execution_count": 49,
   "id": "honey-subject",
   "metadata": {},
   "outputs": [],
   "source": [
    "from pyspark.sql.types import *\n",
    "import numpy as np\n",
    "from pyspark.sql.functions import isnan, when, count, col\n",
    "from pyspark.ml.feature import OneHotEncoder, StringIndexer\n",
    "from pyspark.ml import Pipeline\n",
    "#import pandas as pd"
   ]
  },
  {
   "cell_type": "code",
   "execution_count": 5,
   "id": "electoral-gospel",
   "metadata": {},
   "outputs": [],
   "source": [
    "customSchema = StructType([\n",
    "  StructField(\"BibNum\", IntegerType(), True),\n",
    "  StructField(\"Title\", StringType(), True),\n",
    "  StructField(\"Author\", StringType(), True),\n",
    "  StructField(\"ISBN\", StringType(), True),\n",
    "  StructField(\"PublicationYear\", StringType(), True),\n",
    "  StructField(\"Publisher\", StringType(), True),\n",
    "  StructField(\"Subjects\", StringType(), True),\n",
    "  StructField(\"ItemType\", StringType(), True),\n",
    "  StructField(\"ItemCollection\", StringType(), True),\n",
    "  StructField(\"FloatingItem\", StringType(), True),\n",
    "  StructField(\"ItemLocation\", StringType(), True),\n",
    "  StructField(\"ReportDate\", StringType(), True),\n",
    "  StructField(\"ItemCount\", StringType(), True)]\n",
    ")"
   ]
  },
  {
   "cell_type": "code",
   "execution_count": 8,
   "id": "tribal-israeli",
   "metadata": {},
   "outputs": [
    {
     "data": {
      "text/plain": [
       "DataFrame[BibNum: int, Title: string, Author: string, ISBN: string, PublicationYear: string, Publisher: string, Subjects: string, ItemType: string, ItemCollection: string, FloatingItem: string, ItemLocation: string, ReportDate: string, ItemCount: string]"
      ]
     },
     "execution_count": 8,
     "metadata": {},
     "output_type": "execute_result"
    }
   ],
   "source": [
    "df = spark.read.format(\"csv\")\\\n",
    ".schema(customSchema)\\\n",
    ".load(\"library-collection-inventory-sample.csv\")\n",
    "df.dataframeName='seattle-library-sample'\n",
    "df.cache()"
   ]
  },
  {
   "cell_type": "code",
   "execution_count": 9,
   "id": "dynamic-coupon",
   "metadata": {},
   "outputs": [
    {
     "name": "stdout",
     "output_type": "stream",
     "text": [
      "root\n",
      " |-- BibNum: integer (nullable = true)\n",
      " |-- Title: string (nullable = true)\n",
      " |-- Author: string (nullable = true)\n",
      " |-- ISBN: string (nullable = true)\n",
      " |-- PublicationYear: string (nullable = true)\n",
      " |-- Publisher: string (nullable = true)\n",
      " |-- Subjects: string (nullable = true)\n",
      " |-- ItemType: string (nullable = true)\n",
      " |-- ItemCollection: string (nullable = true)\n",
      " |-- FloatingItem: string (nullable = true)\n",
      " |-- ItemLocation: string (nullable = true)\n",
      " |-- ReportDate: string (nullable = true)\n",
      " |-- ItemCount: string (nullable = true)\n",
      "\n"
     ]
    },
    {
     "data": {
      "text/plain": [
       "355807"
      ]
     },
     "execution_count": 9,
     "metadata": {},
     "output_type": "execute_result"
    }
   ],
   "source": [
    "df.printSchema()\n",
    "cols = df.columns\n",
    "df.count()"
   ]
  },
  {
   "cell_type": "code",
   "execution_count": 10,
   "id": "parliamentary-hebrew",
   "metadata": {},
   "outputs": [
    {
     "name": "stdout",
     "output_type": "stream",
     "text": [
      "+------+--------------------+------------------+----+---------------+-----------+-----------+--------+--------------+------------+------------+--------------------+---------+\n",
      "|BibNum|               Title|            Author|ISBN|PublicationYear|  Publisher|   Subjects|ItemType|ItemCollection|FloatingItem|ItemLocation|          ReportDate|ItemCount|\n",
      "+------+--------------------+------------------+----+---------------+-----------+-----------+--------+--------------+------------+------------+--------------------+---------+\n",
      "|  4750|My maternal ances...|Wood, Melba, 1913-|null|   [1968]-1987.|   M. Wood,|Hale family|    arbk|         caref|          NA|         cen|2017-09-01T00:00:...|        1|\n",
      "|  6720|The White House m...|    Feiffer, Jules|null|         [1970]|Grove Press|       null|    acbk|          canf|          NA|         cen|2017-09-01T00:00:...|        1|\n",
      "+------+--------------------+------------------+----+---------------+-----------+-----------+--------+--------------+------------+------------+--------------------+---------+\n",
      "only showing top 2 rows\n",
      "\n"
     ]
    }
   ],
   "source": [
    "df.show(2)"
   ]
  },
  {
   "cell_type": "code",
   "execution_count": 11,
   "id": "tender-screen",
   "metadata": {},
   "outputs": [
    {
     "ename": "NameError",
     "evalue": "name 'pd' is not defined",
     "output_type": "error",
     "traceback": [
      "\u001b[0;31m---------------------------------------------------------------------------\u001b[0m",
      "\u001b[0;31mNameError\u001b[0m                                 Traceback (most recent call last)",
      "\u001b[0;32m<ipython-input-11-992b4383c8ab>\u001b[0m in \u001b[0;36m<module>\u001b[0;34m\u001b[0m\n\u001b[0;32m----> 1\u001b[0;31m \u001b[0mpd\u001b[0m\u001b[0;34m.\u001b[0m\u001b[0mDataFrame\u001b[0m\u001b[0;34m(\u001b[0m\u001b[0mdf\u001b[0m\u001b[0;34m.\u001b[0m\u001b[0mtake\u001b[0m\u001b[0;34m(\u001b[0m\u001b[0;36m5\u001b[0m\u001b[0;34m)\u001b[0m\u001b[0;34m,\u001b[0m \u001b[0mcolumns\u001b[0m\u001b[0;34m=\u001b[0m\u001b[0mcols\u001b[0m\u001b[0;34m)\u001b[0m\u001b[0;34m\u001b[0m\u001b[0;34m\u001b[0m\u001b[0m\n\u001b[0m",
      "\u001b[0;31mNameError\u001b[0m: name 'pd' is not defined"
     ]
    }
   ],
   "source": [
    "pd.DataFrame(df.take(5), columns=cols)"
   ]
  },
  {
   "cell_type": "code",
   "execution_count": 14,
   "id": "subject-campaign",
   "metadata": {},
   "outputs": [
    {
     "data": {
      "text/plain": [
       "[Row(BibNum=4750, Title='My maternal ancestry : Dean, Matlock, Hale, Gahr families (in Tennessee and Missouri) / by Melba Wood.', Author='Wood, Melba, 1913-', ISBN=None, PublicationYear='[1968]-1987.', Publisher='M. Wood,', Subjects='Hale family', ItemType='arbk', ItemCollection='caref', FloatingItem='NA', ItemLocation='cen', ReportDate='2017-09-01T00:00:00.000', ItemCount='1'),\n",
       " Row(BibNum=6720, Title='The White House murder case: a play in two acts & Dick and Jane: a one-act play.', Author='Feiffer, Jules', ISBN=None, PublicationYear='[1970]', Publisher='Grove Press', Subjects=None, ItemType='acbk', ItemCollection='canf', FloatingItem='NA', ItemLocation='cen', ReportDate='2017-09-01T00:00:00.000', ItemCount='1'),\n",
       " Row(BibNum=6845, Title='Autumn of glory; the Army of Tennessee, 1862-1865.', Author='Connelly, Thomas Lawrence', ISBN='0807104450', PublicationYear='[1971]', Publisher='Louisiana State University Press', Subjects='Confederate States of America Army Department of Tennessee, United States History Civil War 1861 1865 Regimental histories', ItemType='acbk', ItemCollection='canf', FloatingItem='NA', ItemLocation='cen', ReportDate='2017-09-01T00:00:00.000', ItemCount='1'),\n",
       " Row(BibNum=7118, Title='Variety music cavalcade, 1620-1969; a chronology of vocal and instrumental music popular in the United States. With an introd. by Abel Green.', Author='Mattfeld, Julius, 1893-1968', ISBN='0139407189', PublicationYear='[1971]', Publisher='Prentice-Hall', Subjects='Popular music United States Bibliography, Music United States Chronology', ItemType='arbk', ItemCollection='caref', FloatingItem='NA', ItemLocation='cen', ReportDate='2017-09-01T00:00:00.000', ItemCount='1'),\n",
       " Row(BibNum=7886, Title='A bibliography of novels related to American frontier and colonial history, by Jack VanDerhoof.', Author='Van Derhoof, Jack Warner.', ISBN='087875007X', PublicationYear='1971.', Publisher='Whitston Pub. Co.,', Subjects='Historical fiction American Bibliography, Historical fiction English Bibliography, United States History Colonial period ca 1600 1775 Fiction Bibliography', ItemType='arbk', ItemCollection='cs8r', FloatingItem='NA', ItemLocation='cen', ReportDate='2017-09-01T00:00:00.000', ItemCount='2')]"
      ]
     },
     "execution_count": 14,
     "metadata": {},
     "output_type": "execute_result"
    }
   ],
   "source": [
    "df.take(5)"
   ]
  },
  {
   "cell_type": "code",
   "execution_count": 16,
   "id": "focused-canyon",
   "metadata": {},
   "outputs": [],
   "source": [
    "featureColumns = ['Author','Publisher','ItemType','ItemCollection',\n",
    " 'ItemLocation']"
   ]
  },
  {
   "cell_type": "code",
   "execution_count": 17,
   "id": "computational-count",
   "metadata": {},
   "outputs": [],
   "source": [
    "responses = df.groupBy('Subjects').count().collect()"
   ]
  },
  {
   "cell_type": "code",
   "execution_count": 22,
   "id": "intellectual-feedback",
   "metadata": {},
   "outputs": [
    {
     "ename": "NameError",
     "evalue": "name 'plt' is not defined",
     "output_type": "error",
     "traceback": [
      "\u001b[0;31m---------------------------------------------------------------------------\u001b[0m",
      "\u001b[0;31mNameError\u001b[0m                                 Traceback (most recent call last)",
      "\u001b[0;32m<ipython-input-22-5abd26e713c6>\u001b[0m in \u001b[0;36m<module>\u001b[0;34m\u001b[0m\n\u001b[1;32m      4\u001b[0m \u001b[0mind\u001b[0m \u001b[0;34m=\u001b[0m \u001b[0mnp\u001b[0m\u001b[0;34m.\u001b[0m\u001b[0marray\u001b[0m\u001b[0;34m(\u001b[0m\u001b[0mrange\u001b[0m\u001b[0;34m(\u001b[0m\u001b[0mlen\u001b[0m\u001b[0;34m(\u001b[0m\u001b[0mcategories\u001b[0m\u001b[0;34m)\u001b[0m\u001b[0;34m)\u001b[0m\u001b[0;34m)\u001b[0m\u001b[0;34m\u001b[0m\u001b[0;34m\u001b[0m\u001b[0m\n\u001b[1;32m      5\u001b[0m \u001b[0mwidth\u001b[0m \u001b[0;34m=\u001b[0m \u001b[0;36m0.35\u001b[0m\u001b[0;34m\u001b[0m\u001b[0;34m\u001b[0m\u001b[0m\n\u001b[0;32m----> 6\u001b[0;31m \u001b[0mplt\u001b[0m\u001b[0;34m.\u001b[0m\u001b[0mbar\u001b[0m\u001b[0;34m(\u001b[0m\u001b[0mind\u001b[0m\u001b[0;34m,\u001b[0m \u001b[0mcounts\u001b[0m\u001b[0;34m,\u001b[0m \u001b[0mwidth\u001b[0m\u001b[0;34m=\u001b[0m\u001b[0mwidth\u001b[0m\u001b[0;34m,\u001b[0m \u001b[0mcolor\u001b[0m\u001b[0;34m=\u001b[0m\u001b[0;34m'r'\u001b[0m\u001b[0;34m)\u001b[0m\u001b[0;34m\u001b[0m\u001b[0;34m\u001b[0m\u001b[0m\n\u001b[0m\u001b[1;32m      7\u001b[0m \u001b[0;34m\u001b[0m\u001b[0m\n\u001b[1;32m      8\u001b[0m \u001b[0mplt\u001b[0m\u001b[0;34m.\u001b[0m\u001b[0mylabel\u001b[0m\u001b[0;34m(\u001b[0m\u001b[0;34m'counts'\u001b[0m\u001b[0;34m)\u001b[0m\u001b[0;34m\u001b[0m\u001b[0;34m\u001b[0m\u001b[0m\n",
      "\u001b[0;31mNameError\u001b[0m: name 'plt' is not defined"
     ]
    }
   ],
   "source": [
    "categories = [i[0] for i in responses]\n",
    "counts = [i[1] for i in responses]\n",
    " \n",
    "ind = np.array(range(len(categories)))\n",
    "width = 0.35\n",
    "plt.bar(ind, counts, width=width, color='r')\n",
    " \n",
    "plt.ylabel('counts')\n",
    "plt.title('Stroke')\n",
    "plt.xticks(ind + width/2., categories)"
   ]
  },
  {
   "cell_type": "code",
   "execution_count": 27,
   "id": "powerful-ability",
   "metadata": {},
   "outputs": [
    {
     "data": {
      "text/plain": [
       "197066"
      ]
     },
     "execution_count": 27,
     "metadata": {},
     "output_type": "execute_result"
    }
   ],
   "source": [
    "df.select(\"Subjects\").distinct().count()"
   ]
  },
  {
   "cell_type": "code",
   "execution_count": 28,
   "id": "checked-royal",
   "metadata": {},
   "outputs": [
    {
     "data": {
      "text/plain": [
       "[Row(BibNum=4750, Title='My maternal ancestry : Dean, Matlock, Hale, Gahr families (in Tennessee and Missouri) / by Melba Wood.', Author='Wood, Melba, 1913-', ISBN=None, PublicationYear='[1968]-1987.', Publisher='M. Wood,', Subjects='Hale family', ItemType='arbk', ItemCollection='caref', FloatingItem='NA', ItemLocation='cen', ReportDate='2017-09-01T00:00:00.000', ItemCount='1'),\n",
       " Row(BibNum=6720, Title='The White House murder case: a play in two acts & Dick and Jane: a one-act play.', Author='Feiffer, Jules', ISBN=None, PublicationYear='[1970]', Publisher='Grove Press', Subjects=None, ItemType='acbk', ItemCollection='canf', FloatingItem='NA', ItemLocation='cen', ReportDate='2017-09-01T00:00:00.000', ItemCount='1'),\n",
       " Row(BibNum=6845, Title='Autumn of glory; the Army of Tennessee, 1862-1865.', Author='Connelly, Thomas Lawrence', ISBN='0807104450', PublicationYear='[1971]', Publisher='Louisiana State University Press', Subjects='Confederate States of America Army Department of Tennessee, United States History Civil War 1861 1865 Regimental histories', ItemType='acbk', ItemCollection='canf', FloatingItem='NA', ItemLocation='cen', ReportDate='2017-09-01T00:00:00.000', ItemCount='1'),\n",
       " Row(BibNum=7118, Title='Variety music cavalcade, 1620-1969; a chronology of vocal and instrumental music popular in the United States. With an introd. by Abel Green.', Author='Mattfeld, Julius, 1893-1968', ISBN='0139407189', PublicationYear='[1971]', Publisher='Prentice-Hall', Subjects='Popular music United States Bibliography, Music United States Chronology', ItemType='arbk', ItemCollection='caref', FloatingItem='NA', ItemLocation='cen', ReportDate='2017-09-01T00:00:00.000', ItemCount='1'),\n",
       " Row(BibNum=7886, Title='A bibliography of novels related to American frontier and colonial history, by Jack VanDerhoof.', Author='Van Derhoof, Jack Warner.', ISBN='087875007X', PublicationYear='1971.', Publisher='Whitston Pub. Co.,', Subjects='Historical fiction American Bibliography, Historical fiction English Bibliography, United States History Colonial period ca 1600 1775 Fiction Bibliography', ItemType='arbk', ItemCollection='cs8r', FloatingItem='NA', ItemLocation='cen', ReportDate='2017-09-01T00:00:00.000', ItemCount='2'),\n",
       " Row(BibNum=9922, Title='Technical report.', Author='United States. Commission on Obscenity and Pornography', ISBN=None, PublicationYear='[1971-]', Publisher='[For sale by the Supt. of Docs., U.S. Govt. Print. Off.],', Subjects='Erotica, Obscenity Law United States, Pornography Social aspects', ItemType='acbk', ItemCollection='canf', FloatingItem='NA', ItemLocation='cen', ReportDate='2017-09-01T00:00:00.000', ItemCount='9'),\n",
       " Row(BibNum=11849, Title='English-Spanish, Spanish-English dictionary of communications and electronic terms. Diccionario de terminología electrónica y de telecomunicaciones inglés-español, español-inglés [by] Roger L. Freeman.', Author='Freeman, Roger L.', ISBN='0521080800', PublicationYear='1972.', Publisher='Cambridge University Press,', Subjects='Electronics Dictionaries, English language Dictionaries Spanish, Electronics Dictionaries Spanish, Spanish language Dictionaries English, Telecommunication Dictionaries, Telecommunication Dictionaries Spanish', ItemType='arbk', ItemCollection='caref', FloatingItem='NA', ItemLocation='cen', ReportDate='2017-09-01T00:00:00.000', ItemCount='1'),\n",
       " Row(BibNum=12320, Title='August 1914 [by] Alexander Solzhenitsyn. Translated by Michael Glenny.', Author='Solzheni︠t︡syn, Aleksandr Isaevich, 1918-2008', ISBN='0374106843', PublicationYear='[1972-]', Publisher='Farrar, Straus and Giroux,', Subjects='Tannenberg Battle of Stebark Poland 1914 Fiction, War fiction, Historical fiction', ItemType='acbk', ItemCollection='cs3fic', FloatingItem='NA', ItemLocation='cen', ReportDate='2017-09-01T00:00:00.000', ItemCount='1'),\n",
       " Row(BibNum=13474, Title='The church and slavery. With an appendix. Philadelphia, Parry & McMillan, 1857.', Author='Barnes, Albert, 1798-1870', ISBN=None, PublicationYear='[1969?]', Publisher='Negro History Press', Subjects='Slavery United States, Slavery and the church United States, Slavery and the church Presbyterian Church', ItemType='acbk', ItemCollection='naaanf', FloatingItem='NA', ItemLocation='dth', ReportDate='2017-09-01T00:00:00.000', ItemCount='1'),\n",
       " Row(BibNum=13810, Title='Symposium on Palynology of the Late Cretaceous and Early Tertiary, edited by Robert M. Kosanke and Aureal T. Cross.', Author='Symposium on Palynology of the Late Cretaceous and Early Tertiary (1966 : San Francisco, Calif.)', ISBN='081372127X', PublicationYear='[c1970]', Publisher='Geological Society of America', Subjects='Palynology United States Congresses, Palynology Canada Congresses, Paleobotany Cretaceous Congresses, Paleobotany Tertiary Congresses', ItemType='arbk', ItemCollection='cs7r', FloatingItem='NA', ItemLocation='cen', ReportDate='2017-09-01T00:00:00.000', ItemCount='1'),\n",
       " Row(BibNum=14745, Title='Modern verse from Taiwan. Edited and translated by Angela C. Y. Jung Palandri, with Robert J. Bertholf.', Author='Palandri, Angela C. Y. Jung, 1926-', ISBN='0520017900', PublicationYear='1972.', Publisher='University of California Press,', Subjects='Chinese poetry Translations into English', ItemType='acbk', ItemCollection='canf', FloatingItem='NA', ItemLocation='cen', ReportDate='2017-09-01T00:00:00.000', ItemCount='1'),\n",
       " Row(BibNum=15046, Title='The monetary sin of the West. Translated by Roger Glémet.', Author='Rueff, Jacques', ISBN=None, PublicationYear='[1972]', Publisher='Macmillan,', Subjects='Money, Foreign exchange, Gold standard', ItemType='arbk', ItemCollection='cs6r', FloatingItem='NA', ItemLocation='cen', ReportDate='2017-09-01T00:00:00.000', ItemCount='1'),\n",
       " Row(BibNum=15579, Title='The Sneetches, and other stories. Written and illustrated by Dr. Seuss.', Author='Seuss, Dr.', ISBN='0394800893', PublicationYear='c1961.', Publisher='Random House,', Subjects='Fantasy, Stories in rhyme', ItemType='jcbk', ItemCollection='ncpic', FloatingItem='NA', ItemLocation='fre', ReportDate='2017-09-01T00:00:00.000', ItemCount='1'),\n",
       " Row(BibNum=15891, Title='If I ran the circus, by Dr. Seuss.', Author='Seuss, Dr.', ISBN='9780394800806', PublicationYear='[1956]', Publisher='Random House,', Subjects='Circus Poetry, Stories in rhyme, Fantasy', ItemType='jcbk', ItemCollection='ncpic', FloatingItem='NA', ItemLocation='gwd', ReportDate='2017-09-01T00:00:00.000', ItemCount='2'),\n",
       " Row(BibNum=18496, Title='A history of Winlock, Washington.', Author='Wall, C. C.', ISBN=None, PublicationYear='1952 [i.e. 1957]', Publisher=None, Subjects='Winlock Wash History', ItemType='arbk', ItemCollection='cs9r', FloatingItem='NA', ItemLocation='cen', ReportDate='2017-09-01T00:00:00.000', ItemCount='1'),\n",
       " Row(BibNum=20996, Title='The Raft River Basin, Idaho-Utah as of 1966: a reappraisal of the water resources and effects of ground-water development, by E. H. Walker [and others.', Author='Geological Survey (U.S.)', ISBN=None, PublicationYear='1970.', Publisher='Idaho Dept. of Water Administration,', Subjects='Water resources development Raft River Watershed Utah and Idaho, Groundwater Raft River Watershed Utah and Idaho', ItemType='arbk', ItemCollection='cs7r', FloatingItem='NA', ItemLocation='cen', ReportDate='2017-09-01T00:00:00.000', ItemCount='1'),\n",
       " Row(BibNum=21646, Title='All about H. Hatterr [by] G. V. Desani. Introd. by Anthony Burgess.', Author='Desani, G. V. (Govindas Vishnoodas), 1909-2000', ISBN=None, PublicationYear='[1970]', Publisher='Farrar, Straus and Giroux', Subjects=None, ItemType='acbk', ItemCollection='cs3fic', FloatingItem='NA', ItemLocation='cen', ReportDate='2017-09-01T00:00:00.000', ItemCount='1'),\n",
       " Row(BibNum=21713, Title='The anatomy of an airline.', Author='Williams, Brad', ISBN=None, PublicationYear='1970.', Publisher='Doubleday,', Subjects='National Airlines inc', ItemType='arbk', ItemCollection='caaero', FloatingItem='NA', ItemLocation='cen', ReportDate='2017-09-01T00:00:00.000', ItemCount='1'),\n",
       " Row(BibNum=27292, Title='Knappton : the first 50 years, Pacific County, Washington / Carlton E. Appelo.', Author='Appelo, Carlton E.', ISBN=None, PublicationYear='1975.', Publisher='Appelo,', Subjects='Knappton Wash History', ItemType='arbk', ItemCollection='caref', FloatingItem='NA', ItemLocation='cen', ReportDate='2017-09-01T00:00:00.000', ItemCount='1'),\n",
       " Row(BibNum=28127, Title='Words for all seasons; a collection of narratives and poetry, essays and observations for passing the time with subtle amusement and absorbing thought. Edited by Thomas C. Jones. Illustrated by Kay Lovelace Smith.', Author='Jones, Thomas C.', ISBN=None, PublicationYear='[1971]', Publisher='J. G. Ferguson Pub. Co.', Subjects='English literature, American literature', ItemType='acbk', ItemCollection='canf', FloatingItem='NA', ItemLocation='cen', ReportDate='2017-09-01T00:00:00.000', ItemCount='1'),\n",
       " Row(BibNum=29844, Title='Documents in the political history of the European continent, 1815-1939; selected and edited by G. A. Kertesz.', Author='Kertesz, G. A.', ISBN='0198730020', PublicationYear='1968.', Publisher='Clarendon P.,', Subjects='Europe History 1789 1900 Sources, Europe History 20th century', ItemType='arbk', ItemCollection='caref', FloatingItem='NA', ItemLocation='cen', ReportDate='2017-09-01T00:00:00.000', ItemCount='1'),\n",
       " Row(BibNum=31193, Title='Lamy of Santa Fe, his life and times / Paul Horgan.', Author='Horgan, Paul, 1903-1995', ISBN='0374183007', PublicationYear='1975.', Publisher='Farrar, Straus and Giroux,', Subjects='Lamy John Baptist 1814 1888', ItemType='acbk', ItemCollection='cab', FloatingItem='NA', ItemLocation='cen', ReportDate='2017-09-01T00:00:00.000', ItemCount='1'),\n",
       " Row(BibNum=32889, Title='Theodore Roethke : the garden master / by Rosemary Sullivan.', Author='Sullivan, Rosemary, 1947-', ISBN='0295954299', PublicationYear='c1975.', Publisher='University of Washington Press,', Subjects='Roethke Theodore 1908 1963 Criticism and interpretation', ItemType='acbk', ItemCollection='canf', FloatingItem='NA', ItemLocation='cen', ReportDate='2017-09-01T00:00:00.000', ItemCount='3'),\n",
       " Row(BibNum=33765, Title='Historical dictionary of Bolivia, by Dwight B. Heath.', Author='Heath, Dwight B.', ISBN='0810804514', PublicationYear='1972.', Publisher='Scarecrow Press,', Subjects='Bolivia Dictionaries, Bolivia Encyclopedias', ItemType='arbk', ItemCollection='caref', FloatingItem='NA', ItemLocation='cen', ReportDate='2017-09-01T00:00:00.000', ItemCount='1'),\n",
       " Row(BibNum=39108, Title='Prophets on the right : profiles of conservative critics of American globalism / Ronald Radosh.', Author='Radosh, Ronald', ISBN='0671219014', PublicationYear='[1975]', Publisher='Simon and Schuster,', Subjects='Conservatism United States, United States Foreign relations 1933 1945, United States Foreign relations 1945 1953', ItemType='acbk', ItemCollection='canf', FloatingItem='NA', ItemLocation='cen', ReportDate='2017-09-01T00:00:00.000', ItemCount='1'),\n",
       " Row(BibNum=40307, Title='Black child care : how to bring up a healthy Black child in America : a guide to emotional and psychological development / by James P. Comer and Alvin F. Poussaint.', Author='Comer, James P.', ISBN='0671219022', PublicationYear='[1975]', Publisher='Simon and Schuster,', Subjects='Child rearing, Adolescence, African American children, Education', ItemType='arbk', ItemCollection='naaar', FloatingItem='NA', ItemLocation='dth', ReportDate='2017-09-01T00:00:00.000', ItemCount='1'),\n",
       " Row(BibNum=41068, Title='Modern chinchilla fur farming / by Willis D. Parker.', Author='Parker, Willis D. (Willis Dye), 1908-', ISBN=None, PublicationYear='c1975.', Publisher='Borden Pub. Co.,', Subjects='Chinchillas', ItemType='arbk', ItemCollection='caref', FloatingItem='NA', ItemLocation='cen', ReportDate='2017-09-01T00:00:00.000', ItemCount='1'),\n",
       " Row(BibNum=43493, Title='Economic development of Latin America; a survey from colonial times to the Cuban revolution. Translated by Suzette Macedo.', Author='Furtado, Celso', ISBN='0521078288', PublicationYear='1970.', Publisher='University Press,', Subjects='Latin America Economic conditions, Latin America Social conditions', ItemType='acbk', ItemCollection='canf', FloatingItem='NA', ItemLocation='cen', ReportDate='2017-09-01T00:00:00.000', ItemCount='1'),\n",
       " Row(BibNum=45338, Title='Sun Buddhas, moon Buddhas: a Zen quest by Elsie P. Mitchell. Foreword by Aelred Graham.', Author='Mitchell, Elsie P., 1926-', ISBN='0834800837', PublicationYear='[1973]', Publisher='Weatherhill', Subjects='Mitchell Elsie P 1926, Religious life Zen Buddhism', ItemType='acbk', ItemCollection='canf', FloatingItem='NA', ItemLocation='cen', ReportDate='2017-09-01T00:00:00.000', ItemCount='1'),\n",
       " Row(BibNum=48210, Title=\"Lord Rochester's monkey; being the life of John Wilmot, second Earl of Rochester.\", Author='Greene, Graham, 1904-1991', ISBN='0670440558', PublicationYear='[1974]', Publisher='Viking Press', Subjects='Rochester John Wilmot Earl of 1647 1680, Poets English Early modern 1500 1700 Biography, Great Britain Court and courtiers Biography', ItemType='acbk', ItemCollection='cab', FloatingItem='NA', ItemLocation='cen', ReportDate='2017-09-01T00:00:00.000', ItemCount='1'),\n",
       " Row(BibNum=50403, Title='Good morning: last poems. Foreword by Richard Howard.', Author='Van Doren, Mark, 1894-1972', ISBN='0809050641', PublicationYear='[1973]', Publisher='Hill and Wang', Subjects=None, ItemType='acbk', ItemCollection='canf', FloatingItem='NA', ItemLocation='cen', ReportDate='2017-09-01T00:00:00.000', ItemCount='1'),\n",
       " Row(BibNum=50525, Title='Black engineers in the United States--a directory, [by] James K. K. Ho.', Author='Ho, James K. K.', ISBN='0882580000', PublicationYear='[1974]', Publisher='Howard University Press', Subjects='African American engineers Directories', ItemType='arbk', ItemCollection='cabr', FloatingItem='NA', ItemLocation='cen', ReportDate='2017-09-01T00:00:00.000', ItemCount='1'),\n",
       " Row(BibNum=51582, Title='Woodwind ensemble music guide, compiled by Himie Voxman & Lyle Merriman.', Author='Voxman, Himie', ISBN=None, PublicationYear='[c1973]', Publisher='Instrumentalist Co.', Subjects='Woodwind ensembles Bibliography, Chamber music Bibliography', ItemType='arbk', ItemCollection='cs8r', FloatingItem='NA', ItemLocation='cen', ReportDate='2017-09-01T00:00:00.000', ItemCount='1'),\n",
       " Row(BibNum=51742, Title='A dictionary of ballet / G. B. L. Wilson.', Author='Wilson, George Buckley Laird', ISBN='0878300392', PublicationYear='1974.', Publisher='Theatre Arts Books,', Subjects='Ballet Dictionaries', ItemType='arbk', ItemCollection='caref', FloatingItem='NA', ItemLocation='cen', ReportDate='2017-09-01T00:00:00.000', ItemCount='1'),\n",
       " Row(BibNum=53736, Title='Marcel Proust.', Author='Peyre, Henri, 1901-1988', ISBN='0231034067', PublicationYear='1970.', Publisher='Columbia University Press,', Subjects='Proust Marcel 1871 1922, Novelists French 20th century Biography', ItemType='arbk', ItemCollection='caref', FloatingItem='NA', ItemLocation='cen', ReportDate='2017-09-01T00:00:00.000', ItemCount='1'),\n",
       " Row(BibNum=58524, Title='The cuisines of Mexico. Foreword by Craig Claiborne. Drawings by Sidonie Coryn.', Author='Kennedy, Diana', ISBN='0060123443', PublicationYear='[1972]', Publisher='Harper & Row', Subjects='Cooking Mexican', ItemType='arbk', ItemCollection='caref', FloatingItem='NA', ItemLocation='cen', ReportDate='2017-09-01T00:00:00.000', ItemCount='1'),\n",
       " Row(BibNum=62503, Title='Common and uncommon masks; writings on theatre 1961-1970.', Author='Gilman, Richard, 1925-2006.', ISBN='0394419855', PublicationYear='[1971]', Publisher='Random House', Subjects='Theater United States Reviews', ItemType='acbk', ItemCollection='canf', FloatingItem='NA', ItemLocation='cen', ReportDate='2017-09-01T00:00:00.000', ItemCount='1'),\n",
       " Row(BibNum=64983, Title='Kenneth Lochhead, recent works on paper; an exhibition organized by Gallery 111.', Author='Lochhead, Kenneth, 1926-', ISBN=None, PublicationYear='[1972]', Publisher='[School of Art, University of Manitoba],', Subjects='Lochhead Kenneth 1926', ItemType='arbk', ItemCollection='cs8r', FloatingItem='NA', ItemLocation='cen', ReportDate='2017-09-01T00:00:00.000', ItemCount='1'),\n",
       " Row(BibNum=65795, Title='Mechanization takes command, a contribution to anonymous history.', Author='Giedion, S. (Sigfried), 1888-1968', ISBN=None, PublicationYear='1948.', Publisher='Oxford Univ. Press,', Subjects='Industrial arts History, Mechanization, Inventions History', ItemType='acbk', ItemCollection='canf', FloatingItem='NA', ItemLocation='cen', ReportDate='2017-09-01T00:00:00.000', ItemCount='1'),\n",
       " Row(BibNum=67304, Title='The longest day: June 6, 1944.', Author='Ryan, Cornelius', ISBN=None, PublicationYear='1959.', Publisher='Simon and Schuster,', Subjects='World War 1939 1945 Campaigns France Normandy, Normandy France History', ItemType='acbk', ItemCollection='canf', FloatingItem='NA', ItemLocation='cen', ReportDate='2017-09-01T00:00:00.000', ItemCount='1'),\n",
       " Row(BibNum=69745, Title='The Constitution and the Supreme Court; a documentary history, edited by Louis H. Pollak. Introd. by George F. Scheer.', Author='Pollak, Louis H.', ISBN=None, PublicationYear='[1966]', Publisher='World Pub. Co.', Subjects='United States Supreme Court, United States Constitution, Constitutional law United States', ItemType='acbk', ItemCollection='canf', FloatingItem='NA', ItemLocation='cen', ReportDate='2017-09-01T00:00:00.000', ItemCount='2'),\n",
       " Row(BibNum=69874, Title='Dryden; a collection of critical essays.', Author='Schilling, Bernard Nicholas', ISBN=None, PublicationYear='[1963]', Publisher='Prentice-Hall', Subjects='Dryden John 1631 1700 Criticism and interpretation', ItemType='acbk', ItemCollection='canf', FloatingItem='NA', ItemLocation='cen', ReportDate='2017-09-01T00:00:00.000', ItemCount='1'),\n",
       " Row(BibNum=71853, Title='The timber situation and outlook for northwest Oregon, by Robert W. Cowlin and Robert M. Forster.', Author='Cowlin, Robert William, 1899-', ISBN=None, PublicationYear='1965.', Publisher='Pacific Northwest Forest Service and Range Experiment Station, U.S. Dept. of Agriculture, Forest Service,', Subjects='Forest products industry Oregon, Forests and forestry Oregon', ItemType='arbk', ItemCollection='cs7r', FloatingItem='NA', ItemLocation='cen', ReportDate='2017-09-01T00:00:00.000', ItemCount='1'),\n",
       " Row(BibNum=72089, Title=\"Shakespeare's Southampton, patron of Virginia, by A. L. Rowse.\", Author='Rowse, A. L. (Alfred Leslie), 1903-1997', ISBN=None, PublicationYear='[1965]', Publisher='Harper & Row', Subjects='Southampton Henry Wriothesley Earl of 1573 1624, Shakespeare William 1564 1616 Friends and associates, Virginia Company of London', ItemType='acbk', ItemCollection='cab', FloatingItem='NA', ItemLocation='cen', ReportDate='2017-09-01T00:00:00.000', ItemCount='1'),\n",
       " Row(BibNum=72128, Title='Italian art, 1500-1600; sources and documents [by] Robert Klein [and] Henri Zerner.', Author='Klein, Robert, 1918-1967', ISBN=None, PublicationYear='[1966]', Publisher='Prentice-Hall', Subjects='Art Italian History Sources, Art Renaissance History Sources', ItemType='acbk', ItemCollection='canf', FloatingItem='NA', ItemLocation='cen', ReportDate='2017-09-01T00:00:00.000', ItemCount='1'),\n",
       " Row(BibNum=73040, Title='Shepherds of the night. Translated from the Portuguese by Harriet de Onís.', Author='Amado, Jorge, 1912-2001', ISBN=None, PublicationYear='1967 [c1966]', Publisher='Knopf,', Subjects='Brazil Fiction', ItemType='acbk', ItemCollection='cs3fic', FloatingItem='NA', ItemLocation='cen', ReportDate='2017-09-01T00:00:00.000', ItemCount='1'),\n",
       " Row(BibNum=75218, Title='A dictionary of Canadian artists. Compiled by Colin S. Macdonald.', Author='MacDonald, Colin S., 1925-', ISBN=None, PublicationYear='[1967-<2006>]', Publisher='Canadian Paperbacks', Subjects='Artists Canada Biography Dictionaries, Canada Biography Dictionaries', ItemType='acbk', ItemCollection='cs8r', FloatingItem='NA', ItemLocation='cen', ReportDate='2017-09-01T00:00:00.000', ItemCount='8'),\n",
       " Row(BibNum=76236, Title='Ernest Hemingway, a comprehensive bibliography.', Author='Hanneman, Audre', ISBN=None, PublicationYear='1967.', Publisher='Princeton University Press,', Subjects='Hemingway Ernest 1899 1961 Bibliography', ItemType='arbk', ItemCollection='cs8r', FloatingItem='NA', ItemLocation='cen', ReportDate='2017-09-01T00:00:00.000', ItemCount='1'),\n",
       " Row(BibNum=79765, Title='Aboriginal art from Australia; [bark paintings and sculpture lent by the National Gallery of South Australia, Adelaide. Catalogue by Charles P. Mountford. Exhibition: Worcester Art Museum, February 17-April 3, 1966; Allentown Art Museum, April 14-May 12, 1966.', Author='Mountford, Charles Pearcy, 1890-1977.', ISBN=None, PublicationYear='1966]', Publisher='Printed by Commonwealth Press,', Subjects='Painting Aboriginal Australian Exhibitions, Sculpture Primitive Exhibitions', ItemType='acbk', ItemCollection='canf', FloatingItem='NA', ItemLocation='cen', ReportDate='2017-09-01T00:00:00.000', ItemCount='1'),\n",
       " Row(BibNum=79808, Title='Old Hungarian painted woodwork, 15th-19th centuries [by] Ilona R. Tombor. [Translated by Lili Halápy.', Author='Tombor, Ilona R.', ISBN=None, PublicationYear='[1967]', Publisher='Corvina Press', Subjects='Painted woodwork Hungary, Decoration and ornament Hungarian, Folk art Hungary', ItemType='acbk', ItemCollection='canf', FloatingItem='NA', ItemLocation='cen', ReportDate='2017-09-01T00:00:00.000', ItemCount='1')]"
      ]
     },
     "execution_count": 28,
     "metadata": {},
     "output_type": "execute_result"
    }
   ],
   "source": [
    "df.take(50)"
   ]
  },
  {
   "cell_type": "code",
   "execution_count": 41,
   "id": "twenty-thursday",
   "metadata": {},
   "outputs": [
    {
     "name": "stdout",
     "output_type": "stream",
     "text": [
      "+----------------------------------------------------------------------+\n",
      "|count(CASE WHEN (isnan(Subjects) OR (Subjects IS NULL)) THEN true END)|\n",
      "+----------------------------------------------------------------------+\n",
      "|                                                                     0|\n",
      "+----------------------------------------------------------------------+\n",
      "\n",
      "+----------------------------------------------------------------------+\n",
      "|count(CASE WHEN (isnan(ItemType) OR (ItemType IS NULL)) THEN true END)|\n",
      "+----------------------------------------------------------------------+\n",
      "|                                                                   121|\n",
      "+----------------------------------------------------------------------+\n",
      "\n",
      "+----------------------------------------------------------------------------------+\n",
      "|count(CASE WHEN (isnan(ItemCollection) OR (ItemCollection IS NULL)) THEN true END)|\n",
      "+----------------------------------------------------------------------------------+\n",
      "|                                                                               105|\n",
      "+----------------------------------------------------------------------------------+\n",
      "\n"
     ]
    }
   ],
   "source": [
    "#Count nulls\n",
    "df.select([count(when(isnan('Subjects') | col('Subjects').isNull() , True))]).show()\n",
    "df.select([count(when(isnan('ItemType') | col('ItemType').isNull() , True))]).show()\n",
    "df.select([count(when(isnan('ItemCollection') | col('ItemCollection').isNull() , True))]).show()"
   ]
  },
  {
   "cell_type": "code",
   "execution_count": 36,
   "id": "compliant-baltimore",
   "metadata": {},
   "outputs": [],
   "source": [
    "x = df.count()"
   ]
  },
  {
   "cell_type": "code",
   "execution_count": 37,
   "id": "dietary-supplement",
   "metadata": {},
   "outputs": [
    {
     "data": {
      "text/plain": [
       "347485"
      ]
     },
     "execution_count": 37,
     "metadata": {},
     "output_type": "execute_result"
    }
   ],
   "source": [
    "x - 8322"
   ]
  },
  {
   "cell_type": "code",
   "execution_count": 42,
   "id": "numeric-cambodia",
   "metadata": {},
   "outputs": [],
   "source": [
    "df = df.na.drop(subset=[\"Subjects\"]) ## Drop null values\n",
    "df = df.na.drop(subset=[\"ItemType\"]) ## Drop null values\n",
    "df = df.na.drop(subset=[\"ItemCollection\"]) ## Drop null values"
   ]
  },
  {
   "cell_type": "code",
   "execution_count": 43,
   "id": "skilled-bracket",
   "metadata": {},
   "outputs": [
    {
     "data": {
      "text/plain": [
       "347352"
      ]
     },
     "execution_count": 43,
     "metadata": {},
     "output_type": "execute_result"
    }
   ],
   "source": [
    "df.count()"
   ]
  },
  {
   "cell_type": "code",
   "execution_count": 47,
   "id": "statewide-karma",
   "metadata": {},
   "outputs": [
    {
     "name": "stdout",
     "output_type": "stream",
     "text": [
      "+------+--------------------+--------------------+-------------+----------------+--------------------+--------------------+--------+--------------+------------+------------+--------------------+---------+-------------------+\n",
      "|BibNum|               Title|              Author|         ISBN| PublicationYear|           Publisher|            Subjects|ItemType|ItemCollection|FloatingItem|ItemLocation|          ReportDate|ItemCount|ItemCollectionIndex|\n",
      "+------+--------------------+--------------------+-------------+----------------+--------------------+--------------------+--------+--------------+------------+------------+--------------------+---------+-------------------+\n",
      "|  4750|My maternal ances...|  Wood, Melba, 1913-|         null|    [1968]-1987.|            M. Wood,|         Hale family|    arbk|         caref|          NA|         cen|2017-09-01T00:00:...|        1|                7.0|\n",
      "|  6845|Autumn of glory; ...|Connelly, Thomas ...|   0807104450|          [1971]|Louisiana State U...|Confederate State...|    acbk|          canf|          NA|         cen|2017-09-01T00:00:...|        1|                0.0|\n",
      "|  7118|Variety music cav...|Mattfeld, Julius,...|   0139407189|          [1971]|       Prentice-Hall|Popular music Uni...|    arbk|         caref|          NA|         cen|2017-09-01T00:00:...|        1|                7.0|\n",
      "|  7886|A bibliography of...|Van Derhoof, Jack...|   087875007X|           1971.|  Whitston Pub. Co.,|Historical fictio...|    arbk|          cs8r|          NA|         cen|2017-09-01T00:00:...|        2|               17.0|\n",
      "|  9922|   Technical report.|United States. Co...|         null|         [1971-]|[For sale by the ...|Erotica, Obscenit...|    acbk|          canf|          NA|         cen|2017-09-01T00:00:...|        9|                0.0|\n",
      "| 11849|English-Spanish, ...|   Freeman, Roger L.|   0521080800|           1972.|Cambridge Univers...|Electronics Dicti...|    arbk|         caref|          NA|         cen|2017-09-01T00:00:...|        1|                7.0|\n",
      "| 12320|August 1914 [by] ...|Solzheni︠t︡syn, A...|   0374106843|         [1972-]|Farrar, Straus an...|Tannenberg Battle...|    acbk|        cs3fic|          NA|         cen|2017-09-01T00:00:...|        1|              103.0|\n",
      "| 13474|The church and sl...|Barnes, Albert, 1...|         null|         [1969?]| Negro History Press|Slavery United St...|    acbk|        naaanf|          NA|         dth|2017-09-01T00:00:...|        1|               55.0|\n",
      "| 13810|Symposium on Paly...|Symposium on Paly...|   081372127X|         [c1970]|Geological Societ...|Palynology United...|    arbk|          cs7r|          NA|         cen|2017-09-01T00:00:...|        1|               15.0|\n",
      "| 14745|Modern verse from...|Palandri, Angela ...|   0520017900|           1972.|University of Cal...|Chinese poetry Tr...|    acbk|          canf|          NA|         cen|2017-09-01T00:00:...|        1|                0.0|\n",
      "| 15046|The monetary sin ...|      Rueff, Jacques|         null|          [1972]|          Macmillan,|Money, Foreign ex...|    arbk|          cs6r|          NA|         cen|2017-09-01T00:00:...|        1|               20.0|\n",
      "| 15579|The Sneetches, an...|          Seuss, Dr.|   0394800893|          c1961.|       Random House,|Fantasy, Stories ...|    jcbk|         ncpic|          NA|         fre|2017-09-01T00:00:...|        1|                2.0|\n",
      "| 15891|If I ran the circ...|          Seuss, Dr.|9780394800806|          [1956]|       Random House,|Circus Poetry, St...|    jcbk|         ncpic|          NA|         gwd|2017-09-01T00:00:...|        2|                2.0|\n",
      "| 18496|A history of Winl...|         Wall, C. C.|         null|1952 [i.e. 1957]|                null|Winlock Wash History|    arbk|          cs9r|          NA|         cen|2017-09-01T00:00:...|        1|               85.0|\n",
      "| 20996|The Raft River Ba...|Geological Survey...|         null|           1970.|Idaho Dept. of Wa...|Water resources d...|    arbk|          cs7r|          NA|         cen|2017-09-01T00:00:...|        1|               15.0|\n",
      "| 21713|The anatomy of an...|      Williams, Brad|         null|           1970.|          Doubleday,|National Airlines...|    arbk|        caaero|          NA|         cen|2017-09-01T00:00:...|        1|               52.0|\n",
      "| 27292|Knappton : the fi...|  Appelo, Carlton E.|         null|           1975.|             Appelo,|Knappton Wash His...|    arbk|         caref|          NA|         cen|2017-09-01T00:00:...|        1|                7.0|\n",
      "| 28127|Words for all sea...|    Jones, Thomas C.|         null|          [1971]|J. G. Ferguson Pu...|English literatur...|    acbk|          canf|          NA|         cen|2017-09-01T00:00:...|        1|                0.0|\n",
      "| 29844|Documents in the ...|      Kertesz, G. A.|   0198730020|           1968.|       Clarendon P.,|Europe History 17...|    arbk|         caref|          NA|         cen|2017-09-01T00:00:...|        1|                7.0|\n",
      "| 31193|Lamy of Santa Fe,...|Horgan, Paul, 190...|   0374183007|           1975.|Farrar, Straus an...|Lamy John Baptist...|    acbk|           cab|          NA|         cen|2017-09-01T00:00:...|        1|               27.0|\n",
      "+------+--------------------+--------------------+-------------+----------------+--------------------+--------------------+--------+--------------+------------+------------+--------------------+---------+-------------------+\n",
      "only showing top 20 rows\n",
      "\n"
     ]
    }
   ],
   "source": [
    "item_collection_indexer = StringIndexer(inputCol=\"ItemCollection\", outputCol=\"ItemCollectionIndex\")#Fits a model to the input dataset with optional parameters.\n",
    "df1 = item_collection_indexer.fit(df).transform(df)\n",
    "df1.show()"
   ]
  },
  {
   "cell_type": "code",
   "execution_count": 45,
   "id": "lightweight-timeline",
   "metadata": {},
   "outputs": [],
   "source": [
    "#encoder = OneHotEncoder()\\\n",
    "#.setInputCol(\"ItemCollection\")\\\n",
    "#.setOutputCol(\"ItemCollection\")\n",
    "#encoder.transform(df.select(\"ItemCollection\")).show()"
   ]
  },
  {
   "cell_type": "code",
   "execution_count": 48,
   "id": "british-retro",
   "metadata": {},
   "outputs": [
    {
     "name": "stdout",
     "output_type": "stream",
     "text": [
      "+------+--------------------+--------------------+-------------+----------------+--------------------+--------------------+--------+--------------+------------+------------+--------------------+---------+-------------------+------------------+\n",
      "|BibNum|               Title|              Author|         ISBN| PublicationYear|           Publisher|            Subjects|ItemType|ItemCollection|FloatingItem|ItemLocation|          ReportDate|ItemCount|ItemCollectionIndex|ItemCollection_vec|\n",
      "+------+--------------------+--------------------+-------------+----------------+--------------------+--------------------+--------+--------------+------------+------------+--------------------+---------+-------------------+------------------+\n",
      "|  4750|My maternal ances...|  Wood, Melba, 1913-|         null|    [1968]-1987.|            M. Wood,|         Hale family|    arbk|         caref|          NA|         cen|2017-09-01T00:00:...|        1|                7.0|   (547,[7],[1.0])|\n",
      "|  6845|Autumn of glory; ...|Connelly, Thomas ...|   0807104450|          [1971]|Louisiana State U...|Confederate State...|    acbk|          canf|          NA|         cen|2017-09-01T00:00:...|        1|                0.0|   (547,[0],[1.0])|\n",
      "|  7118|Variety music cav...|Mattfeld, Julius,...|   0139407189|          [1971]|       Prentice-Hall|Popular music Uni...|    arbk|         caref|          NA|         cen|2017-09-01T00:00:...|        1|                7.0|   (547,[7],[1.0])|\n",
      "|  7886|A bibliography of...|Van Derhoof, Jack...|   087875007X|           1971.|  Whitston Pub. Co.,|Historical fictio...|    arbk|          cs8r|          NA|         cen|2017-09-01T00:00:...|        2|               17.0|  (547,[17],[1.0])|\n",
      "|  9922|   Technical report.|United States. Co...|         null|         [1971-]|[For sale by the ...|Erotica, Obscenit...|    acbk|          canf|          NA|         cen|2017-09-01T00:00:...|        9|                0.0|   (547,[0],[1.0])|\n",
      "| 11849|English-Spanish, ...|   Freeman, Roger L.|   0521080800|           1972.|Cambridge Univers...|Electronics Dicti...|    arbk|         caref|          NA|         cen|2017-09-01T00:00:...|        1|                7.0|   (547,[7],[1.0])|\n",
      "| 12320|August 1914 [by] ...|Solzheni︠t︡syn, A...|   0374106843|         [1972-]|Farrar, Straus an...|Tannenberg Battle...|    acbk|        cs3fic|          NA|         cen|2017-09-01T00:00:...|        1|              103.0| (547,[103],[1.0])|\n",
      "| 13474|The church and sl...|Barnes, Albert, 1...|         null|         [1969?]| Negro History Press|Slavery United St...|    acbk|        naaanf|          NA|         dth|2017-09-01T00:00:...|        1|               55.0|  (547,[55],[1.0])|\n",
      "| 13810|Symposium on Paly...|Symposium on Paly...|   081372127X|         [c1970]|Geological Societ...|Palynology United...|    arbk|          cs7r|          NA|         cen|2017-09-01T00:00:...|        1|               15.0|  (547,[15],[1.0])|\n",
      "| 14745|Modern verse from...|Palandri, Angela ...|   0520017900|           1972.|University of Cal...|Chinese poetry Tr...|    acbk|          canf|          NA|         cen|2017-09-01T00:00:...|        1|                0.0|   (547,[0],[1.0])|\n",
      "| 15046|The monetary sin ...|      Rueff, Jacques|         null|          [1972]|          Macmillan,|Money, Foreign ex...|    arbk|          cs6r|          NA|         cen|2017-09-01T00:00:...|        1|               20.0|  (547,[20],[1.0])|\n",
      "| 15579|The Sneetches, an...|          Seuss, Dr.|   0394800893|          c1961.|       Random House,|Fantasy, Stories ...|    jcbk|         ncpic|          NA|         fre|2017-09-01T00:00:...|        1|                2.0|   (547,[2],[1.0])|\n",
      "| 15891|If I ran the circ...|          Seuss, Dr.|9780394800806|          [1956]|       Random House,|Circus Poetry, St...|    jcbk|         ncpic|          NA|         gwd|2017-09-01T00:00:...|        2|                2.0|   (547,[2],[1.0])|\n",
      "| 18496|A history of Winl...|         Wall, C. C.|         null|1952 [i.e. 1957]|                null|Winlock Wash History|    arbk|          cs9r|          NA|         cen|2017-09-01T00:00:...|        1|               85.0|  (547,[85],[1.0])|\n",
      "| 20996|The Raft River Ba...|Geological Survey...|         null|           1970.|Idaho Dept. of Wa...|Water resources d...|    arbk|          cs7r|          NA|         cen|2017-09-01T00:00:...|        1|               15.0|  (547,[15],[1.0])|\n",
      "| 21713|The anatomy of an...|      Williams, Brad|         null|           1970.|          Doubleday,|National Airlines...|    arbk|        caaero|          NA|         cen|2017-09-01T00:00:...|        1|               52.0|  (547,[52],[1.0])|\n",
      "| 27292|Knappton : the fi...|  Appelo, Carlton E.|         null|           1975.|             Appelo,|Knappton Wash His...|    arbk|         caref|          NA|         cen|2017-09-01T00:00:...|        1|                7.0|   (547,[7],[1.0])|\n",
      "| 28127|Words for all sea...|    Jones, Thomas C.|         null|          [1971]|J. G. Ferguson Pu...|English literatur...|    acbk|          canf|          NA|         cen|2017-09-01T00:00:...|        1|                0.0|   (547,[0],[1.0])|\n",
      "| 29844|Documents in the ...|      Kertesz, G. A.|   0198730020|           1968.|       Clarendon P.,|Europe History 17...|    arbk|         caref|          NA|         cen|2017-09-01T00:00:...|        1|                7.0|   (547,[7],[1.0])|\n",
      "| 31193|Lamy of Santa Fe,...|Horgan, Paul, 190...|   0374183007|           1975.|Farrar, Straus an...|Lamy John Baptist...|    acbk|           cab|          NA|         cen|2017-09-01T00:00:...|        1|               27.0|  (547,[27],[1.0])|\n",
      "+------+--------------------+--------------------+-------------+----------------+--------------------+--------------------+--------+--------------+------------+------------+--------------------+---------+-------------------+------------------+\n",
      "only showing top 20 rows\n",
      "\n"
     ]
    }
   ],
   "source": [
    "#onehotencoder to qualificationIndex\n",
    "onehotencoder_item_collection_vector = OneHotEncoder(inputCol=\"ItemCollectionIndex\", outputCol=\"ItemCollection_vec\")\n",
    "df11 = onehotencoder_item_collection_vector.fit(df1).transform(df1)\n",
    "df11.show()"
   ]
  },
  {
   "cell_type": "code",
   "execution_count": 50,
   "id": "encouraging-subcommittee",
   "metadata": {},
   "outputs": [],
   "source": [
    "#Create pipeline and pass all stages\n",
    "pipeline = Pipeline(stages=[item_collection_indexer,\n",
    "                            onehotencoder_item_collection_vector\n",
    "                    ])"
   ]
  },
  {
   "cell_type": "code",
   "execution_count": 51,
   "id": "quick-island",
   "metadata": {},
   "outputs": [
    {
     "name": "stdout",
     "output_type": "stream",
     "text": [
      "+------+--------------------+--------------------+-------------+----------------+--------------------+--------------------+--------+--------------+------------+------------+--------------------+---------+-------------------+------------------+\n",
      "|BibNum|               Title|              Author|         ISBN| PublicationYear|           Publisher|            Subjects|ItemType|ItemCollection|FloatingItem|ItemLocation|          ReportDate|ItemCount|ItemCollectionIndex|ItemCollection_vec|\n",
      "+------+--------------------+--------------------+-------------+----------------+--------------------+--------------------+--------+--------------+------------+------------+--------------------+---------+-------------------+------------------+\n",
      "|  4750|My maternal ances...|  Wood, Melba, 1913-|         null|    [1968]-1987.|            M. Wood,|         Hale family|    arbk|         caref|          NA|         cen|2017-09-01T00:00:...|        1|                7.0|   (547,[7],[1.0])|\n",
      "|  6845|Autumn of glory; ...|Connelly, Thomas ...|   0807104450|          [1971]|Louisiana State U...|Confederate State...|    acbk|          canf|          NA|         cen|2017-09-01T00:00:...|        1|                0.0|   (547,[0],[1.0])|\n",
      "|  7118|Variety music cav...|Mattfeld, Julius,...|   0139407189|          [1971]|       Prentice-Hall|Popular music Uni...|    arbk|         caref|          NA|         cen|2017-09-01T00:00:...|        1|                7.0|   (547,[7],[1.0])|\n",
      "|  7886|A bibliography of...|Van Derhoof, Jack...|   087875007X|           1971.|  Whitston Pub. Co.,|Historical fictio...|    arbk|          cs8r|          NA|         cen|2017-09-01T00:00:...|        2|               17.0|  (547,[17],[1.0])|\n",
      "|  9922|   Technical report.|United States. Co...|         null|         [1971-]|[For sale by the ...|Erotica, Obscenit...|    acbk|          canf|          NA|         cen|2017-09-01T00:00:...|        9|                0.0|   (547,[0],[1.0])|\n",
      "| 11849|English-Spanish, ...|   Freeman, Roger L.|   0521080800|           1972.|Cambridge Univers...|Electronics Dicti...|    arbk|         caref|          NA|         cen|2017-09-01T00:00:...|        1|                7.0|   (547,[7],[1.0])|\n",
      "| 12320|August 1914 [by] ...|Solzheni︠t︡syn, A...|   0374106843|         [1972-]|Farrar, Straus an...|Tannenberg Battle...|    acbk|        cs3fic|          NA|         cen|2017-09-01T00:00:...|        1|              103.0| (547,[103],[1.0])|\n",
      "| 13474|The church and sl...|Barnes, Albert, 1...|         null|         [1969?]| Negro History Press|Slavery United St...|    acbk|        naaanf|          NA|         dth|2017-09-01T00:00:...|        1|               55.0|  (547,[55],[1.0])|\n",
      "| 13810|Symposium on Paly...|Symposium on Paly...|   081372127X|         [c1970]|Geological Societ...|Palynology United...|    arbk|          cs7r|          NA|         cen|2017-09-01T00:00:...|        1|               15.0|  (547,[15],[1.0])|\n",
      "| 14745|Modern verse from...|Palandri, Angela ...|   0520017900|           1972.|University of Cal...|Chinese poetry Tr...|    acbk|          canf|          NA|         cen|2017-09-01T00:00:...|        1|                0.0|   (547,[0],[1.0])|\n",
      "| 15046|The monetary sin ...|      Rueff, Jacques|         null|          [1972]|          Macmillan,|Money, Foreign ex...|    arbk|          cs6r|          NA|         cen|2017-09-01T00:00:...|        1|               20.0|  (547,[20],[1.0])|\n",
      "| 15579|The Sneetches, an...|          Seuss, Dr.|   0394800893|          c1961.|       Random House,|Fantasy, Stories ...|    jcbk|         ncpic|          NA|         fre|2017-09-01T00:00:...|        1|                2.0|   (547,[2],[1.0])|\n",
      "| 15891|If I ran the circ...|          Seuss, Dr.|9780394800806|          [1956]|       Random House,|Circus Poetry, St...|    jcbk|         ncpic|          NA|         gwd|2017-09-01T00:00:...|        2|                2.0|   (547,[2],[1.0])|\n",
      "| 18496|A history of Winl...|         Wall, C. C.|         null|1952 [i.e. 1957]|                null|Winlock Wash History|    arbk|          cs9r|          NA|         cen|2017-09-01T00:00:...|        1|               85.0|  (547,[85],[1.0])|\n",
      "| 20996|The Raft River Ba...|Geological Survey...|         null|           1970.|Idaho Dept. of Wa...|Water resources d...|    arbk|          cs7r|          NA|         cen|2017-09-01T00:00:...|        1|               15.0|  (547,[15],[1.0])|\n",
      "| 21713|The anatomy of an...|      Williams, Brad|         null|           1970.|          Doubleday,|National Airlines...|    arbk|        caaero|          NA|         cen|2017-09-01T00:00:...|        1|               52.0|  (547,[52],[1.0])|\n",
      "| 27292|Knappton : the fi...|  Appelo, Carlton E.|         null|           1975.|             Appelo,|Knappton Wash His...|    arbk|         caref|          NA|         cen|2017-09-01T00:00:...|        1|                7.0|   (547,[7],[1.0])|\n",
      "| 28127|Words for all sea...|    Jones, Thomas C.|         null|          [1971]|J. G. Ferguson Pu...|English literatur...|    acbk|          canf|          NA|         cen|2017-09-01T00:00:...|        1|                0.0|   (547,[0],[1.0])|\n",
      "| 29844|Documents in the ...|      Kertesz, G. A.|   0198730020|           1968.|       Clarendon P.,|Europe History 17...|    arbk|         caref|          NA|         cen|2017-09-01T00:00:...|        1|                7.0|   (547,[7],[1.0])|\n",
      "| 31193|Lamy of Santa Fe,...|Horgan, Paul, 190...|   0374183007|           1975.|Farrar, Straus an...|Lamy John Baptist...|    acbk|           cab|          NA|         cen|2017-09-01T00:00:...|        1|               27.0|  (547,[27],[1.0])|\n",
      "+------+--------------------+--------------------+-------------+----------------+--------------------+--------------------+--------+--------------+------------+------------+--------------------+---------+-------------------+------------------+\n",
      "only showing top 20 rows\n",
      "\n"
     ]
    }
   ],
   "source": [
    "df_transformed = pipeline.fit(df).transform(df)\n",
    "df_transformed.show()"
   ]
  },
  {
   "cell_type": "code",
   "execution_count": 54,
   "id": "statistical-possibility",
   "metadata": {},
   "outputs": [
    {
     "name": "stdout",
     "output_type": "stream",
     "text": [
      "+-------------------+\n",
      "|ItemCollectionIndex|\n",
      "+-------------------+\n",
      "|                7.0|\n",
      "|                0.0|\n",
      "|                7.0|\n",
      "|               17.0|\n",
      "|                0.0|\n",
      "|                7.0|\n",
      "|              103.0|\n",
      "|               55.0|\n",
      "|               15.0|\n",
      "|                0.0|\n",
      "|               20.0|\n",
      "|                2.0|\n",
      "|                2.0|\n",
      "|               85.0|\n",
      "|               15.0|\n",
      "|               52.0|\n",
      "|                7.0|\n",
      "|                0.0|\n",
      "|                7.0|\n",
      "|               27.0|\n",
      "+-------------------+\n",
      "only showing top 20 rows\n",
      "\n"
     ]
    }
   ],
   "source": [
    "df_transformed.select(\"ItemCollectionIndex\").show()"
   ]
  },
  {
   "cell_type": "code",
   "execution_count": null,
   "id": "operational-entertainment",
   "metadata": {},
   "outputs": [],
   "source": [
    "#from pyspark.ml.feature import RFormula\n",
    "#supervised = RFormula(formula=\"label ~ . + Churn:TotalCharges + Churn:MonthlyCharges + Churn:SeniorCitizen\")"
   ]
  }
 ],
 "metadata": {
  "kernelspec": {
   "display_name": "PySpark",
   "language": "python",
   "name": "pyspark"
  },
  "language_info": {
   "codemirror_mode": {
    "name": "ipython",
    "version": 3
   },
   "file_extension": ".py",
   "mimetype": "text/x-python",
   "name": "python",
   "nbconvert_exporter": "python",
   "pygments_lexer": "ipython3",
   "version": "3.8.5"
  }
 },
 "nbformat": 4,
 "nbformat_minor": 5
}
