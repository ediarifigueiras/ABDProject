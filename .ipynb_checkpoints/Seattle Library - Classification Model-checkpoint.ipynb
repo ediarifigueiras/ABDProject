{
 "cells": [
  {
   "cell_type": "markdown",
   "id": "armed-clearing",
   "metadata": {},
   "source": [
    "**Seattle Library Dataframe Column Description**\n",
    "\n",
    "\n",
    "| Column     | Type       | Description |\n",
    "|--------  |---------  |: --------- |\n",
    "| **BibNum** | Integer | \"\" |\n",
    "| **Title** | String | \"\" |\n",
    "| **Author** | String | \"\" |\n",
    "| **ISBN** | String | \"\" |\n",
    "| **PublicationYear** | String | \"\" |\n",
    "| **Publisher** | String | \"\" |\n",
    "| **Subjects** | String | \"\" |\n",
    "| **ItemType** | String | \"\" |\n",
    "| **ItemCollection** | String | \"\" |\n",
    "| **FloatingItem** | String | \"\" |\n",
    "| **ItemLocation** | String | \"\" |\n",
    "| **ReportDate** | String | \"\" |\n",
    "| **ItemCount** | String | \"\" |\n",
    "\n"
   ]
  },
  {
   "cell_type": "markdown",
   "id": "expressed-variation",
   "metadata": {},
   "source": [
    "**ItemType & ItemCollectionDataframe Column Description**\n",
    "\n",
    "\n",
    "| Column     | Type       | Description |\n",
    "|--------  |---------  |: --------- |\n",
    "| **CodeType** | String | \"\" |\n",
    "| **Code** | String | \"\" |\n",
    "| **Description** | String | \"\" |\n",
    "| **CollectionInventoryIncluded** | String | \"\" |\n",
    "| **FormatGroup** | String | \"\" |\n",
    "| **FormatSubgroup** | String | \"\" |\n",
    "| **CategoryGroup** | String | \"\" |\n",
    "| **CategorySubgroup** | String | \"\" |\n",
    "| **AgeGroup** | String | \"\" |"
   ]
  },
  {
   "cell_type": "code",
   "execution_count": 90,
   "id": "quiet-arizona",
   "metadata": {},
   "outputs": [
    {
     "name": "stdout",
     "output_type": "stream",
     "text": [
      "Requirement already satisfied: pandas in /home/big/.local/lib/python3.8/site-packages (1.2.4)\n",
      "Requirement already satisfied: python-dateutil>=2.7.3 in /usr/lib/python3/dist-packages (from pandas) (2.7.3)\n",
      "Requirement already satisfied: numpy>=1.16.5 in /home/big/.local/lib/python3.8/site-packages (from pandas) (1.20.3)\n",
      "Requirement already satisfied: pytz>=2017.3 in /usr/lib/python3/dist-packages (from pandas) (2019.3)\n",
      "Requirement already satisfied: scipy in /home/big/.local/lib/python3.8/site-packages (1.6.3)\n",
      "Requirement already satisfied: numpy<1.23.0,>=1.16.5 in /home/big/.local/lib/python3.8/site-packages (from scipy) (1.20.3)\n",
      "Requirement already satisfied: seaborn in /home/big/.local/lib/python3.8/site-packages (0.11.1)\n",
      "Requirement already satisfied: scipy>=1.0 in /home/big/.local/lib/python3.8/site-packages (from seaborn) (1.6.3)\n",
      "Requirement already satisfied: pandas>=0.23 in /home/big/.local/lib/python3.8/site-packages (from seaborn) (1.2.4)\n",
      "Requirement already satisfied: numpy>=1.15 in /home/big/.local/lib/python3.8/site-packages (from seaborn) (1.20.3)\n",
      "Requirement already satisfied: matplotlib>=2.2 in /home/big/.local/lib/python3.8/site-packages (from seaborn) (3.4.2)\n",
      "Requirement already satisfied: python-dateutil>=2.7.3 in /usr/lib/python3/dist-packages (from pandas>=0.23->seaborn) (2.7.3)\n",
      "Requirement already satisfied: pytz>=2017.3 in /usr/lib/python3/dist-packages (from pandas>=0.23->seaborn) (2019.3)\n",
      "Requirement already satisfied: pillow>=6.2.0 in /usr/lib/python3/dist-packages (from matplotlib>=2.2->seaborn) (7.0.0)\n",
      "Requirement already satisfied: kiwisolver>=1.0.1 in /home/big/.local/lib/python3.8/site-packages (from matplotlib>=2.2->seaborn) (1.3.1)\n",
      "Requirement already satisfied: pyparsing>=2.2.1 in /usr/local/lib/python3.8/dist-packages (from matplotlib>=2.2->seaborn) (2.4.7)\n",
      "Requirement already satisfied: cycler>=0.10 in /home/big/.local/lib/python3.8/site-packages (from matplotlib>=2.2->seaborn) (0.10.0)\n",
      "Requirement already satisfied: six in /usr/lib/python3/dist-packages (from cycler>=0.10->matplotlib>=2.2->seaborn) (1.14.0)\n"
     ]
    }
   ],
   "source": [
    "!pip3 install pandas\n",
    "!pip3 install scipy\n",
    "!pip3 install seaborn"
   ]
  },
  {
   "cell_type": "code",
   "execution_count": 33,
   "id": "suitable-frame",
   "metadata": {},
   "outputs": [],
   "source": [
    "# Some imports\n",
    "import os\n",
    "from pyspark.sql.types import *\n",
    "import numpy as np\n",
    "from pyspark.sql.functions import isnan, when, count, col\n",
    "from pyspark.ml.feature import OneHotEncoder, StringIndexer\n",
    "from pyspark.ml import Pipeline\n",
    "import pandas as pd\n",
    "import scipy as sc\n",
    "import seaborn as sb\n",
    "import matplotlib.pyplot as plt\n",
    "from pyspark.ml.classification import NaiveBayes\n",
    "from pyspark.ml.evaluation import MulticlassClassificationEvaluator\n",
    "\n",
    "from pyspark.ml.stat import Correlation\n",
    "from pyspark.ml.feature import VectorAssembler\n",
    "\n",
    "import warnings\n",
    "warnings.filterwarnings(\"ignore\")"
   ]
  },
  {
   "cell_type": "code",
   "execution_count": 2,
   "id": "minus-inspection",
   "metadata": {},
   "outputs": [],
   "source": [
    "customSchema = StructType([\n",
    "  StructField(\"BibNum\", IntegerType(), True),\n",
    "  StructField(\"Title\", StringType(), True),\n",
    "  StructField(\"Author\", StringType(), True),\n",
    "  StructField(\"ISBN\", StringType(), True),\n",
    "  StructField(\"PublicationYear\", StringType(), True),\n",
    "  StructField(\"Publisher\", StringType(), True),\n",
    "  StructField(\"Subjects\", StringType(), True),\n",
    "  StructField(\"ItemType\", StringType(), True),\n",
    "  StructField(\"ItemCollection\", StringType(), True),\n",
    "  StructField(\"FloatingItem\", StringType(), True),\n",
    "  StructField(\"ItemLocation\", StringType(), True),\n",
    "  StructField(\"ReportDate\", StringType(), True),\n",
    "  StructField(\"ItemCount\", StringType(), True)]\n",
    ")"
   ]
  },
  {
   "cell_type": "code",
   "execution_count": 3,
   "id": "proved-mystery",
   "metadata": {},
   "outputs": [
    {
     "data": {
      "text/plain": [
       "DataFrame[CodeType: string, Code: string, Description: string, CollectionInventoryIncluded: string, FormatGroup: string, FormatSubgroup: string, CategoryGroup: string, CategorySubgroup: string, AgeGroup: string]"
      ]
     },
     "execution_count": 3,
     "metadata": {},
     "output_type": "execute_result"
    }
   ],
   "source": [
    "df_main = spark.read.format(\"csv\")\\\n",
    ".schema(customSchema)\\\n",
    ".load(\"library-collection-inventory-sample.csv\")\n",
    "df_main.dataframeName='seattle-library-sample'\n",
    "\n",
    "df_item_type = spark.read.format(\"csv\")\\\n",
    ".option(\"header\",\"true\")\\\n",
    ".option(\"inferSchema\", \"true\")\\\n",
    ".load(\"ItemType.csv\")\n",
    "df_item_type.dataframeName='item-type'\n",
    "\n",
    "df_item_collection = spark.read.format(\"csv\")\\\n",
    ".option(\"header\",\"true\")\\\n",
    ".option(\"inferSchema\", \"true\")\\\n",
    ".load(\"ItemCollection.csv\")\n",
    "df_item_collection.dataframeName='item-collection'\n",
    "\n",
    "df_main.cache()\n",
    "df_item_type.cache()\n",
    "df_item_collection.cache()"
   ]
  },
  {
   "cell_type": "code",
   "execution_count": 4,
   "id": "seven-mortgage",
   "metadata": {},
   "outputs": [
    {
     "name": "stdout",
     "output_type": "stream",
     "text": [
      "root\n",
      " |-- BibNum: integer (nullable = true)\n",
      " |-- Title: string (nullable = true)\n",
      " |-- Author: string (nullable = true)\n",
      " |-- ISBN: string (nullable = true)\n",
      " |-- PublicationYear: string (nullable = true)\n",
      " |-- Publisher: string (nullable = true)\n",
      " |-- Subjects: string (nullable = true)\n",
      " |-- ItemType: string (nullable = true)\n",
      " |-- ItemCollection: string (nullable = true)\n",
      " |-- FloatingItem: string (nullable = true)\n",
      " |-- ItemLocation: string (nullable = true)\n",
      " |-- ReportDate: string (nullable = true)\n",
      " |-- ItemCount: string (nullable = true)\n",
      "\n",
      "root\n",
      " |-- CodeType: string (nullable = true)\n",
      " |-- Code: string (nullable = true)\n",
      " |-- Description: string (nullable = true)\n",
      " |-- CollectionInventoryIncluded: string (nullable = true)\n",
      " |-- FormatGroup: string (nullable = true)\n",
      " |-- FormatSubgroup: string (nullable = true)\n",
      " |-- CategoryGroup: string (nullable = true)\n",
      " |-- CategorySubgroup: string (nullable = true)\n",
      " |-- AgeGroup: string (nullable = true)\n",
      "\n",
      "root\n",
      " |-- CodeType: string (nullable = true)\n",
      " |-- Code: string (nullable = true)\n",
      " |-- Description: string (nullable = true)\n",
      " |-- CollectionInventoryIncluded: string (nullable = true)\n",
      " |-- FormatGroup: string (nullable = true)\n",
      " |-- FormatSubgroup: string (nullable = true)\n",
      " |-- CategoryGroup: string (nullable = true)\n",
      " |-- CategorySubgroup: string (nullable = true)\n",
      " |-- AgeGroup: string (nullable = true)\n",
      "\n"
     ]
    }
   ],
   "source": [
    "df_main.printSchema()\n",
    "df_item_type.printSchema()\n",
    "df_item_collection.printSchema()"
   ]
  },
  {
   "cell_type": "code",
   "execution_count": 5,
   "id": "limited-belle",
   "metadata": {},
   "outputs": [],
   "source": [
    "df_main_join_df_item_type = df_main.join(df_item_type, df_main.ItemType == df_item_type.Code)\n",
    "df_main_join_df_item_collection = df_main.join(df_item_collection, df_main.ItemCollection == df_item_collection.Code)\n",
    "#             .groupBy('v1')\n",
    "#             .agg(F.countDistinct('c3').alias('v2'))\n",
    "#         )"
   ]
  },
  {
   "cell_type": "code",
   "execution_count": 6,
   "id": "promotional-lender",
   "metadata": {},
   "outputs": [
    {
     "data": {
      "text/html": [
       "<div>\n",
       "<style scoped>\n",
       "    .dataframe tbody tr th:only-of-type {\n",
       "        vertical-align: middle;\n",
       "    }\n",
       "\n",
       "    .dataframe tbody tr th {\n",
       "        vertical-align: top;\n",
       "    }\n",
       "\n",
       "    .dataframe thead th {\n",
       "        text-align: right;\n",
       "    }\n",
       "</style>\n",
       "<table border=\"1\" class=\"dataframe\">\n",
       "  <thead>\n",
       "    <tr style=\"text-align: right;\">\n",
       "      <th></th>\n",
       "      <th>BibNum</th>\n",
       "      <th>Title</th>\n",
       "      <th>Author</th>\n",
       "      <th>ISBN</th>\n",
       "      <th>PublicationYear</th>\n",
       "      <th>Publisher</th>\n",
       "      <th>Subjects</th>\n",
       "      <th>ItemType</th>\n",
       "      <th>ItemCollection</th>\n",
       "      <th>FloatingItem</th>\n",
       "      <th>...</th>\n",
       "      <th>ItemCount</th>\n",
       "      <th>CodeType</th>\n",
       "      <th>Code</th>\n",
       "      <th>Description</th>\n",
       "      <th>CollectionInventoryIncluded</th>\n",
       "      <th>FormatGroup</th>\n",
       "      <th>FormatSubgroup</th>\n",
       "      <th>CategoryGroup</th>\n",
       "      <th>CategorySubgroup</th>\n",
       "      <th>AgeGroup</th>\n",
       "    </tr>\n",
       "  </thead>\n",
       "  <tbody>\n",
       "    <tr>\n",
       "      <th>0</th>\n",
       "      <td>4750</td>\n",
       "      <td>My maternal ancestry : Dean, Matlock, Hale, Ga...</td>\n",
       "      <td>Wood, Melba, 1913-</td>\n",
       "      <td>None</td>\n",
       "      <td>[1968]-1987.</td>\n",
       "      <td>M. Wood,</td>\n",
       "      <td>Hale family</td>\n",
       "      <td>arbk</td>\n",
       "      <td>caref</td>\n",
       "      <td>NA</td>\n",
       "      <td>...</td>\n",
       "      <td>1</td>\n",
       "      <td>ItemType</td>\n",
       "      <td>arbk</td>\n",
       "      <td>Book: Ref Adult/YA</td>\n",
       "      <td>YES</td>\n",
       "      <td>Print</td>\n",
       "      <td>Book</td>\n",
       "      <td>Reference</td>\n",
       "      <td>None</td>\n",
       "      <td>Adult</td>\n",
       "    </tr>\n",
       "    <tr>\n",
       "      <th>1</th>\n",
       "      <td>6720</td>\n",
       "      <td>The White House murder case: a play in two act...</td>\n",
       "      <td>Feiffer, Jules</td>\n",
       "      <td>None</td>\n",
       "      <td>[1970]</td>\n",
       "      <td>Grove Press</td>\n",
       "      <td>None</td>\n",
       "      <td>acbk</td>\n",
       "      <td>canf</td>\n",
       "      <td>NA</td>\n",
       "      <td>...</td>\n",
       "      <td>1</td>\n",
       "      <td>ItemType</td>\n",
       "      <td>acbk</td>\n",
       "      <td>Book: Adult/YA</td>\n",
       "      <td>YES</td>\n",
       "      <td>Print</td>\n",
       "      <td>Book</td>\n",
       "      <td>Miscellaneous</td>\n",
       "      <td>None</td>\n",
       "      <td>Adult</td>\n",
       "    </tr>\n",
       "    <tr>\n",
       "      <th>2</th>\n",
       "      <td>6845</td>\n",
       "      <td>Autumn of glory; the Army of Tennessee, 1862-1...</td>\n",
       "      <td>Connelly, Thomas Lawrence</td>\n",
       "      <td>0807104450</td>\n",
       "      <td>[1971]</td>\n",
       "      <td>Louisiana State University Press</td>\n",
       "      <td>Confederate States of America Army Department ...</td>\n",
       "      <td>acbk</td>\n",
       "      <td>canf</td>\n",
       "      <td>NA</td>\n",
       "      <td>...</td>\n",
       "      <td>1</td>\n",
       "      <td>ItemType</td>\n",
       "      <td>acbk</td>\n",
       "      <td>Book: Adult/YA</td>\n",
       "      <td>YES</td>\n",
       "      <td>Print</td>\n",
       "      <td>Book</td>\n",
       "      <td>Miscellaneous</td>\n",
       "      <td>None</td>\n",
       "      <td>Adult</td>\n",
       "    </tr>\n",
       "    <tr>\n",
       "      <th>3</th>\n",
       "      <td>7118</td>\n",
       "      <td>Variety music cavalcade, 1620-1969; a chronolo...</td>\n",
       "      <td>Mattfeld, Julius, 1893-1968</td>\n",
       "      <td>0139407189</td>\n",
       "      <td>[1971]</td>\n",
       "      <td>Prentice-Hall</td>\n",
       "      <td>Popular music United States Bibliography, Musi...</td>\n",
       "      <td>arbk</td>\n",
       "      <td>caref</td>\n",
       "      <td>NA</td>\n",
       "      <td>...</td>\n",
       "      <td>1</td>\n",
       "      <td>ItemType</td>\n",
       "      <td>arbk</td>\n",
       "      <td>Book: Ref Adult/YA</td>\n",
       "      <td>YES</td>\n",
       "      <td>Print</td>\n",
       "      <td>Book</td>\n",
       "      <td>Reference</td>\n",
       "      <td>None</td>\n",
       "      <td>Adult</td>\n",
       "    </tr>\n",
       "    <tr>\n",
       "      <th>4</th>\n",
       "      <td>7886</td>\n",
       "      <td>A bibliography of novels related to American f...</td>\n",
       "      <td>Van Derhoof, Jack Warner.</td>\n",
       "      <td>087875007X</td>\n",
       "      <td>1971.</td>\n",
       "      <td>Whitston Pub. Co.,</td>\n",
       "      <td>Historical fiction American Bibliography, Hist...</td>\n",
       "      <td>arbk</td>\n",
       "      <td>cs8r</td>\n",
       "      <td>NA</td>\n",
       "      <td>...</td>\n",
       "      <td>2</td>\n",
       "      <td>ItemType</td>\n",
       "      <td>arbk</td>\n",
       "      <td>Book: Ref Adult/YA</td>\n",
       "      <td>YES</td>\n",
       "      <td>Print</td>\n",
       "      <td>Book</td>\n",
       "      <td>Reference</td>\n",
       "      <td>None</td>\n",
       "      <td>Adult</td>\n",
       "    </tr>\n",
       "  </tbody>\n",
       "</table>\n",
       "<p>5 rows × 22 columns</p>\n",
       "</div>"
      ],
      "text/plain": [
       "   BibNum                                              Title  \\\n",
       "0    4750  My maternal ancestry : Dean, Matlock, Hale, Ga...   \n",
       "1    6720  The White House murder case: a play in two act...   \n",
       "2    6845  Autumn of glory; the Army of Tennessee, 1862-1...   \n",
       "3    7118  Variety music cavalcade, 1620-1969; a chronolo...   \n",
       "4    7886  A bibliography of novels related to American f...   \n",
       "\n",
       "                        Author        ISBN PublicationYear  \\\n",
       "0           Wood, Melba, 1913-        None    [1968]-1987.   \n",
       "1               Feiffer, Jules        None          [1970]   \n",
       "2    Connelly, Thomas Lawrence  0807104450          [1971]   \n",
       "3  Mattfeld, Julius, 1893-1968  0139407189          [1971]   \n",
       "4    Van Derhoof, Jack Warner.  087875007X           1971.   \n",
       "\n",
       "                          Publisher  \\\n",
       "0                          M. Wood,   \n",
       "1                       Grove Press   \n",
       "2  Louisiana State University Press   \n",
       "3                     Prentice-Hall   \n",
       "4                Whitston Pub. Co.,   \n",
       "\n",
       "                                            Subjects ItemType ItemCollection  \\\n",
       "0                                        Hale family     arbk          caref   \n",
       "1                                               None     acbk           canf   \n",
       "2  Confederate States of America Army Department ...     acbk           canf   \n",
       "3  Popular music United States Bibliography, Musi...     arbk          caref   \n",
       "4  Historical fiction American Bibliography, Hist...     arbk           cs8r   \n",
       "\n",
       "  FloatingItem  ... ItemCount  CodeType  Code         Description  \\\n",
       "0           NA  ...         1  ItemType  arbk  Book: Ref Adult/YA   \n",
       "1           NA  ...         1  ItemType  acbk      Book: Adult/YA   \n",
       "2           NA  ...         1  ItemType  acbk      Book: Adult/YA   \n",
       "3           NA  ...         1  ItemType  arbk  Book: Ref Adult/YA   \n",
       "4           NA  ...         2  ItemType  arbk  Book: Ref Adult/YA   \n",
       "\n",
       "  CollectionInventoryIncluded FormatGroup FormatSubgroup  CategoryGroup  \\\n",
       "0                         YES       Print           Book      Reference   \n",
       "1                         YES       Print           Book  Miscellaneous   \n",
       "2                         YES       Print           Book  Miscellaneous   \n",
       "3                         YES       Print           Book      Reference   \n",
       "4                         YES       Print           Book      Reference   \n",
       "\n",
       "  CategorySubgroup AgeGroup  \n",
       "0             None    Adult  \n",
       "1             None    Adult  \n",
       "2             None    Adult  \n",
       "3             None    Adult  \n",
       "4             None    Adult  \n",
       "\n",
       "[5 rows x 22 columns]"
      ]
     },
     "execution_count": 6,
     "metadata": {},
     "output_type": "execute_result"
    }
   ],
   "source": [
    "#df_main_join_df_item_code.show(truncate=False)\n",
    "pd.DataFrame(df_main_join_df_item_type.take(5), columns=df_main_join_df_item_type.columns)"
   ]
  },
  {
   "cell_type": "code",
   "execution_count": 7,
   "id": "entitled-lending",
   "metadata": {},
   "outputs": [
    {
     "name": "stdout",
     "output_type": "stream",
     "text": [
      "+-----------------+\n",
      "|    categoryGroup|\n",
      "+-----------------+\n",
      "|    Miscellaneous|\n",
      "|          Fiction|\n",
      "|        Reference|\n",
      "|Interlibrary Loan|\n",
      "|         On Order|\n",
      "|         Analytic|\n",
      "|        Temporary|\n",
      "|      Uncataloged|\n",
      "+-----------------+\n",
      "\n",
      "+-------------+\n",
      "|categoryGroup|\n",
      "+-------------+\n",
      "|Miscellaneous|\n",
      "|   Periodical|\n",
      "|   Nonfiction|\n",
      "|      Fiction|\n",
      "|    Reference|\n",
      "|     Language|\n",
      "+-------------+\n",
      "\n"
     ]
    },
    {
     "data": {
      "text/plain": [
       "6"
      ]
     },
     "execution_count": 7,
     "metadata": {},
     "output_type": "execute_result"
    }
   ],
   "source": [
    "df_main_join_df_item_type.select(\"categoryGroup\").distinct().show()\n",
    "df_main_join_df_item_type.select(\"categoryGroup\").distinct().count()\n",
    "df_main_join_df_item_collection.select(\"categoryGroup\").distinct().show()\n",
    "df_main_join_df_item_collection.select(\"categoryGroup\").distinct().count()"
   ]
  },
  {
   "cell_type": "code",
   "execution_count": 8,
   "id": "organizational-seminar",
   "metadata": {},
   "outputs": [
    {
     "data": {
      "text/plain": [
       "13"
      ]
     },
     "execution_count": 8,
     "metadata": {},
     "output_type": "execute_result"
    }
   ],
   "source": [
    "rawcols = df_main.columns\n",
    "len(rawcols)"
   ]
  },
  {
   "cell_type": "code",
   "execution_count": 9,
   "id": "shared-geology",
   "metadata": {},
   "outputs": [
    {
     "name": "stdout",
     "output_type": "stream",
     "text": [
      "+------+\n",
      "|BibNum|\n",
      "+------+\n",
      "|4750  |\n",
      "|6720  |\n",
      "|6845  |\n",
      "|7118  |\n",
      "|7886  |\n",
      "+------+\n",
      "only showing top 5 rows\n",
      "\n",
      "+---------------------------------------------------------------------------------------------------------------------------------------------+\n",
      "|Title                                                                                                                                        |\n",
      "+---------------------------------------------------------------------------------------------------------------------------------------------+\n",
      "|My maternal ancestry : Dean, Matlock, Hale, Gahr families (in Tennessee and Missouri) / by Melba Wood.                                       |\n",
      "|The White House murder case: a play in two acts & Dick and Jane: a one-act play.                                                             |\n",
      "|Autumn of glory; the Army of Tennessee, 1862-1865.                                                                                           |\n",
      "|Variety music cavalcade, 1620-1969; a chronology of vocal and instrumental music popular in the United States. With an introd. by Abel Green.|\n",
      "|A bibliography of novels related to American frontier and colonial history, by Jack VanDerhoof.                                              |\n",
      "+---------------------------------------------------------------------------------------------------------------------------------------------+\n",
      "only showing top 5 rows\n",
      "\n",
      "+---------------------------+\n",
      "|Author                     |\n",
      "+---------------------------+\n",
      "|Wood, Melba, 1913-         |\n",
      "|Feiffer, Jules             |\n",
      "|Connelly, Thomas Lawrence  |\n",
      "|Mattfeld, Julius, 1893-1968|\n",
      "|Van Derhoof, Jack Warner.  |\n",
      "+---------------------------+\n",
      "only showing top 5 rows\n",
      "\n",
      "+----------+\n",
      "|ISBN      |\n",
      "+----------+\n",
      "|null      |\n",
      "|null      |\n",
      "|0807104450|\n",
      "|0139407189|\n",
      "|087875007X|\n",
      "+----------+\n",
      "only showing top 5 rows\n",
      "\n",
      "+---------------+\n",
      "|PublicationYear|\n",
      "+---------------+\n",
      "|[1968]-1987.   |\n",
      "|[1970]         |\n",
      "|[1971]         |\n",
      "|[1971]         |\n",
      "|1971.          |\n",
      "+---------------+\n",
      "only showing top 5 rows\n",
      "\n",
      "+--------------------------------+\n",
      "|Publisher                       |\n",
      "+--------------------------------+\n",
      "|M. Wood,                        |\n",
      "|Grove Press                     |\n",
      "|Louisiana State University Press|\n",
      "|Prentice-Hall                   |\n",
      "|Whitston Pub. Co.,              |\n",
      "+--------------------------------+\n",
      "only showing top 5 rows\n",
      "\n",
      "+----------------------------------------------------------------------------------------------------------------------------------------------------------+\n",
      "|Subjects                                                                                                                                                  |\n",
      "+----------------------------------------------------------------------------------------------------------------------------------------------------------+\n",
      "|Hale family                                                                                                                                               |\n",
      "|null                                                                                                                                                      |\n",
      "|Confederate States of America Army Department of Tennessee, United States History Civil War 1861 1865 Regimental histories                                |\n",
      "|Popular music United States Bibliography, Music United States Chronology                                                                                  |\n",
      "|Historical fiction American Bibliography, Historical fiction English Bibliography, United States History Colonial period ca 1600 1775 Fiction Bibliography|\n",
      "+----------------------------------------------------------------------------------------------------------------------------------------------------------+\n",
      "only showing top 5 rows\n",
      "\n",
      "+--------+\n",
      "|ItemType|\n",
      "+--------+\n",
      "|arbk    |\n",
      "|acbk    |\n",
      "|acbk    |\n",
      "|arbk    |\n",
      "|arbk    |\n",
      "+--------+\n",
      "only showing top 5 rows\n",
      "\n",
      "+--------------+\n",
      "|ItemCollection|\n",
      "+--------------+\n",
      "|caref         |\n",
      "|canf          |\n",
      "|canf          |\n",
      "|caref         |\n",
      "|cs8r          |\n",
      "+--------------+\n",
      "only showing top 5 rows\n",
      "\n",
      "+------------+\n",
      "|FloatingItem|\n",
      "+------------+\n",
      "|NA          |\n",
      "|NA          |\n",
      "|NA          |\n",
      "|NA          |\n",
      "|NA          |\n",
      "+------------+\n",
      "only showing top 5 rows\n",
      "\n",
      "+------------+\n",
      "|ItemLocation|\n",
      "+------------+\n",
      "|cen         |\n",
      "|cen         |\n",
      "|cen         |\n",
      "|cen         |\n",
      "|cen         |\n",
      "+------------+\n",
      "only showing top 5 rows\n",
      "\n",
      "+-----------------------+\n",
      "|ReportDate             |\n",
      "+-----------------------+\n",
      "|2017-09-01T00:00:00.000|\n",
      "|2017-09-01T00:00:00.000|\n",
      "|2017-09-01T00:00:00.000|\n",
      "|2017-09-01T00:00:00.000|\n",
      "|2017-09-01T00:00:00.000|\n",
      "+-----------------------+\n",
      "only showing top 5 rows\n",
      "\n",
      "+---------+\n",
      "|ItemCount|\n",
      "+---------+\n",
      "|1        |\n",
      "|1        |\n",
      "|1        |\n",
      "|1        |\n",
      "|2        |\n",
      "+---------+\n",
      "only showing top 5 rows\n",
      "\n"
     ]
    }
   ],
   "source": [
    "for col in rawcols:\n",
    "    df_main.select(col).show(5, truncate=False)"
   ]
  },
  {
   "cell_type": "code",
   "execution_count": 10,
   "id": "trained-charles",
   "metadata": {},
   "outputs": [
    {
     "data": {
      "text/plain": [
       "['Author',\n",
       " 'Publisher',\n",
       " 'Subjects',\n",
       " 'ItemType',\n",
       " 'ItemCollection',\n",
       " 'ItemLocation']"
      ]
     },
     "execution_count": 10,
     "metadata": {},
     "output_type": "execute_result"
    }
   ],
   "source": [
    "#df_main_join_df_item_collection.select(\"Code\").distinct().show()\n",
    "#df_main_join_df_item_collection.select(\"Code\").distinct().count()\n",
    "cols_to_drop = [\"FloatingItem\", \"BibNum\", \"Title\", \"ISBN\", \"PublicationYear\", \"ReportDate\", \"ItemCount\"]\n",
    "cols_of_interest = [x for x in rawcols if x not in cols_to_drop]\n",
    "cols_of_interest"
   ]
  },
  {
   "cell_type": "code",
   "execution_count": 11,
   "id": "efficient-whole",
   "metadata": {},
   "outputs": [
    {
     "name": "stdout",
     "output_type": "stream",
     "text": [
      "root\n",
      " |-- Author: string (nullable = true)\n",
      " |-- Publisher: string (nullable = true)\n",
      " |-- Subjects: string (nullable = true)\n",
      " |-- ItemType: string (nullable = true)\n",
      " |-- ItemCollection: string (nullable = true)\n",
      " |-- ItemLocation: string (nullable = true)\n",
      "\n",
      "+--------------------+--------------------+--------------------+--------+--------------+------------+\n",
      "|              Author|           Publisher|            Subjects|ItemType|ItemCollection|ItemLocation|\n",
      "+--------------------+--------------------+--------------------+--------+--------------+------------+\n",
      "|  Wood, Melba, 1913-|            M. Wood,|         Hale family|    arbk|         caref|         cen|\n",
      "|      Feiffer, Jules|         Grove Press|                null|    acbk|          canf|         cen|\n",
      "|Connelly, Thomas ...|Louisiana State U...|Confederate State...|    acbk|          canf|         cen|\n",
      "|Mattfeld, Julius,...|       Prentice-Hall|Popular music Uni...|    arbk|         caref|         cen|\n",
      "|Van Derhoof, Jack...|  Whitston Pub. Co.,|Historical fictio...|    arbk|          cs8r|         cen|\n",
      "|United States. Co...|[For sale by the ...|Erotica, Obscenit...|    acbk|          canf|         cen|\n",
      "|   Freeman, Roger L.|Cambridge Univers...|Electronics Dicti...|    arbk|         caref|         cen|\n",
      "|Solzheni︠t︡syn, A...|Farrar, Straus an...|Tannenberg Battle...|    acbk|        cs3fic|         cen|\n",
      "|Barnes, Albert, 1...| Negro History Press|Slavery United St...|    acbk|        naaanf|         dth|\n",
      "|Symposium on Paly...|Geological Societ...|Palynology United...|    arbk|          cs7r|         cen|\n",
      "|Palandri, Angela ...|University of Cal...|Chinese poetry Tr...|    acbk|          canf|         cen|\n",
      "|      Rueff, Jacques|          Macmillan,|Money, Foreign ex...|    arbk|          cs6r|         cen|\n",
      "|          Seuss, Dr.|       Random House,|Fantasy, Stories ...|    jcbk|         ncpic|         fre|\n",
      "|          Seuss, Dr.|       Random House,|Circus Poetry, St...|    jcbk|         ncpic|         gwd|\n",
      "|         Wall, C. C.|                null|Winlock Wash History|    arbk|          cs9r|         cen|\n",
      "|Geological Survey...|Idaho Dept. of Wa...|Water resources d...|    arbk|          cs7r|         cen|\n",
      "|Desani, G. V. (Go...|Farrar, Straus an...|                null|    acbk|        cs3fic|         cen|\n",
      "|      Williams, Brad|          Doubleday,|National Airlines...|    arbk|        caaero|         cen|\n",
      "|  Appelo, Carlton E.|             Appelo,|Knappton Wash His...|    arbk|         caref|         cen|\n",
      "|    Jones, Thomas C.|J. G. Ferguson Pu...|English literatur...|    acbk|          canf|         cen|\n",
      "+--------------------+--------------------+--------------------+--------+--------------+------------+\n",
      "only showing top 20 rows\n",
      "\n"
     ]
    }
   ],
   "source": [
    "df_of_interest = df_main.select(cols_of_interest)\n",
    "df_of_interest.printSchema()\n",
    "df_of_interest.show()"
   ]
  },
  {
   "cell_type": "code",
   "execution_count": 12,
   "id": "adolescent-walter",
   "metadata": {},
   "outputs": [],
   "source": [
    "# Drop nulls\n",
    "df_of_interest_cleaned = df_of_interest.dropna()"
   ]
  },
  {
   "cell_type": "code",
   "execution_count": 13,
   "id": "dated-affiliate",
   "metadata": {},
   "outputs": [
    {
     "name": "stdout",
     "output_type": "stream",
     "text": [
      "355807\n",
      "294227\n"
     ]
    }
   ],
   "source": [
    "print(df_of_interest.count())\n",
    "print(df_of_interest_cleaned.count())"
   ]
  },
  {
   "cell_type": "code",
   "execution_count": 14,
   "id": "printable-crazy",
   "metadata": {},
   "outputs": [
    {
     "name": "stdout",
     "output_type": "stream",
     "text": [
      "+--------------------+\n",
      "|              Author|\n",
      "+--------------------+\n",
      "|  Wood, Melba, 1913-|\n",
      "|Connelly, Thomas ...|\n",
      "|Mattfeld, Julius,...|\n",
      "|Van Derhoof, Jack...|\n",
      "|United States. Co...|\n",
      "+--------------------+\n",
      "only showing top 5 rows\n",
      "\n",
      "+--------------------+\n",
      "|           Publisher|\n",
      "+--------------------+\n",
      "|            M. Wood,|\n",
      "|Louisiana State U...|\n",
      "|       Prentice-Hall|\n",
      "|  Whitston Pub. Co.,|\n",
      "|[For sale by the ...|\n",
      "+--------------------+\n",
      "only showing top 5 rows\n",
      "\n",
      "+--------------------+\n",
      "|            Subjects|\n",
      "+--------------------+\n",
      "|         Hale family|\n",
      "|Confederate State...|\n",
      "|Popular music Uni...|\n",
      "|Historical fictio...|\n",
      "|Erotica, Obscenit...|\n",
      "+--------------------+\n",
      "only showing top 5 rows\n",
      "\n",
      "+--------+\n",
      "|ItemType|\n",
      "+--------+\n",
      "|    arbk|\n",
      "|    acbk|\n",
      "|    arbk|\n",
      "|    arbk|\n",
      "|    acbk|\n",
      "+--------+\n",
      "only showing top 5 rows\n",
      "\n",
      "+--------------+\n",
      "|ItemCollection|\n",
      "+--------------+\n",
      "|         caref|\n",
      "|          canf|\n",
      "|         caref|\n",
      "|          cs8r|\n",
      "|          canf|\n",
      "+--------------+\n",
      "only showing top 5 rows\n",
      "\n",
      "+------------+\n",
      "|ItemLocation|\n",
      "+------------+\n",
      "|         cen|\n",
      "|         cen|\n",
      "|         cen|\n",
      "|         cen|\n",
      "|         cen|\n",
      "+------------+\n",
      "only showing top 5 rows\n",
      "\n"
     ]
    }
   ],
   "source": [
    "# check the columns again, just the ones of interest, one by one\n",
    "for col in df_of_interest_cleaned.columns:\n",
    "    df_of_interest_cleaned.select(col).show(5)"
   ]
  },
  {
   "cell_type": "code",
   "execution_count": 15,
   "id": "permanent-shepherd",
   "metadata": {},
   "outputs": [
    {
     "name": "stdout",
     "output_type": "stream",
     "text": [
      "+-------------------------------------------------------------------------------------+\n",
      "|ItemLocation                                                                         |\n",
      "+-------------------------------------------------------------------------------------+\n",
      "|col                                                                                  |\n",
      "|fre                                                                                  |\n",
      "|Luffy Monkey D Comic books strips etc, Pirates Comic books strips etc, Graphic novels|\n",
      "|Image Comics,                                                                        |\n",
      "|1938.                                                                                |\n",
      "|Willys Motors, Inc.                                                                  |\n",
      "|nycomic                                                                              |\n",
      "|New York N Y Fiction\"                                                                |\n",
      "|2006.                                                                                |\n",
      "|ncpic                                                                                |\n",
      "|Gray, Justin (Comic book writer)                                                     |\n",
      "|Revenge Fiction                                                                      |\n",
      "|ncln                                                                                 |\n",
      "|4\"\" stroke                                                                           |\n",
      "|Russia Fiction                                                                       |\n",
      "|bro                                                                                  |\n",
      "|Russia Federation Fiction\"                                                           |\n",
      "|2009.\"                                                                               |\n",
      "|NA                                                                                   |\n",
      "|mob                                                                                  |\n",
      "+-------------------------------------------------------------------------------------+\n",
      "only showing top 20 rows\n",
      "\n"
     ]
    }
   ],
   "source": [
    "#df_of_interest_cleaned.select(\"ItemLocation\").distinct().count()\n",
    "df_of_interest_cleaned.select(\"ItemLocation\").distinct().show(truncate=False)"
   ]
  },
  {
   "cell_type": "code",
   "execution_count": 16,
   "id": "limiting-paris",
   "metadata": {},
   "outputs": [],
   "source": [
    "cleanfilename = 'cleaned-library-dataset'\n",
    "df_of_interest_cleaned.write.mode(\"overwrite\").csv(cleanfilename)"
   ]
  },
  {
   "cell_type": "code",
   "execution_count": 17,
   "id": "typical-evening",
   "metadata": {},
   "outputs": [],
   "source": [
    "# 1 - StringIndexer\n",
    "item_collection_indexer = StringIndexer(inputCol=\"ItemCollection\", outputCol=\"ItemCollectionIndex\")#Fits a model to the input dataset with optional parameters.\n",
    "item_type_indexer = StringIndexer(inputCol=\"ItemType\", outputCol=\"ItemTypeIndex\")\n",
    "item_location_indexer = StringIndexer(inputCol=\"ItemLocation\", outputCol=\"ItemLocationIndex\")\n",
    "author_indexer = StringIndexer(inputCol=\"Author\", outputCol=\"AuthorIndex\")\n",
    "subjects_indexer = StringIndexer(inputCol=\"Subjects\", outputCol=\"SubjectsIndex\")\n",
    "publisher_indexer = StringIndexer(inputCol=\"Publisher\", outputCol=\"PublisherIndex\")\n",
    "\n",
    "df_final = item_collection_indexer.fit(df_of_interest_cleaned).transform(df_of_interest_cleaned)\n",
    "df_final = item_type_indexer.fit(df_final).transform(df_final)\n",
    "df_final = item_location_indexer.fit(df_final).transform(df_final)\n",
    "df_final = author_indexer.fit(df_final).transform(df_final)\n",
    "df_final = subjects_indexer.fit(df_final).transform(df_final)\n",
    "df_final = publisher_indexer.fit(df_final).transform(df_final)"
   ]
  },
  {
   "cell_type": "code",
   "execution_count": 18,
   "id": "aware-first",
   "metadata": {},
   "outputs": [
    {
     "name": "stdout",
     "output_type": "stream",
     "text": [
      "+--------------------+--------------------+--------------------+--------+--------------+------------+-------------------+-------------+-----------------+-----------+-------------+--------------+-----------------+---------------+----------------+--------------------+--------------------+--------------------+\n",
      "|              Author|           Publisher|            Subjects|ItemType|ItemCollection|ItemLocation|ItemCollectionIndex|ItemTypeIndex|ItemLocationIndex|AuthorIndex|SubjectsIndex|PublisherIndex|ItemCollectionVec|    ItemTypeVec| ItemLocationVec|           AuthorVec|         SubjectsVec|        PublisherVec|\n",
      "+--------------------+--------------------+--------------------+--------+--------------+------------+-------------------+-------------+-----------------+-----------+-------------+--------------+-----------------+---------------+----------------+--------------------+--------------------+--------------------+\n",
      "|  Wood, Melba, 1913-|            M. Wood,|         Hale family|    arbk|         caref|         cen|                8.0|          2.0|              0.0|    24155.0|      99489.0|       24031.0|  (459,[8],[1.0])|(537,[2],[1.0])| (153,[0],[1.0])|(100798,[24155],[...|(166197,[99489],[...|(33416,[24031],[1...|\n",
      "|Connelly, Thomas ...|Louisiana State U...|Confederate State...|    acbk|          canf|         cen|                0.0|          0.0|              0.0|    27825.0|      30685.0|        8262.0|  (459,[0],[1.0])|(537,[0],[1.0])| (153,[0],[1.0])|(100798,[27825],[...|(166197,[30685],[...|(33416,[8262],[1.0])|\n",
      "|Mattfeld, Julius,...|       Prentice-Hall|Popular music Uni...|    arbk|         caref|         cen|                8.0|          2.0|              0.0|    76023.0|     132596.0|        3315.0|  (459,[8],[1.0])|(537,[2],[1.0])| (153,[0],[1.0])|(100798,[76023],[...|(166197,[132596],...|(33416,[3315],[1.0])|\n",
      "|Van Derhoof, Jack...|  Whitston Pub. Co.,|Historical fictio...|    arbk|          cs8r|         cen|               17.0|          2.0|              0.0|    95774.0|     101921.0|        9308.0| (459,[17],[1.0])|(537,[2],[1.0])| (153,[0],[1.0])|(100798,[95774],[...|(166197,[101921],...|(33416,[9308],[1.0])|\n",
      "|United States. Co...|[For sale by the ...|Erotica, Obscenit...|    acbk|          canf|         cen|                0.0|          0.0|              0.0|    41763.0|      88171.0|        1920.0|  (459,[0],[1.0])|(537,[0],[1.0])| (153,[0],[1.0])|(100798,[41763],[...|(166197,[88171],[...|(33416,[1920],[1.0])|\n",
      "|   Freeman, Roger L.|Cambridge Univers...|Electronics Dicti...|    arbk|         caref|         cen|                8.0|          2.0|              0.0|    30057.0|      33209.0|         152.0|  (459,[8],[1.0])|(537,[2],[1.0])| (153,[0],[1.0])|(100798,[30057],[...|(166197,[33209],[...| (33416,[152],[1.0])|\n",
      "|Solzheni︠t︡syn, A...|Farrar, Straus an...|Tannenberg Battle...|    acbk|        cs3fic|         cen|               87.0|          0.0|              0.0|     4495.0|     150638.0|          19.0| (459,[87],[1.0])|(537,[0],[1.0])| (153,[0],[1.0])|(100798,[4495],[1...|(166197,[150638],...|  (33416,[19],[1.0])|\n",
      "|Barnes, Albert, 1...| Negro History Press|Slavery United St...|    acbk|        naaanf|         dth|               48.0|          0.0|              5.0|    46593.0|     145105.0|       25274.0| (459,[48],[1.0])|(537,[0],[1.0])| (153,[5],[1.0])|(100798,[46593],[...|(166197,[145105],...|(33416,[25274],[1...|\n",
      "|Symposium on Paly...|Geological Societ...|Palynology United...|    arbk|          cs7r|         cen|               16.0|          2.0|              0.0|    92745.0|     128108.0|       21035.0| (459,[16],[1.0])|(537,[2],[1.0])| (153,[0],[1.0])|(100798,[92745],[...|(166197,[128108],...|(33416,[21035],[1...|\n",
      "|Palandri, Angela ...|University of Cal...|Chinese poetry Tr...|    acbk|          canf|         cen|                0.0|          0.0|              0.0|    21728.0|       4829.0|          71.0|  (459,[0],[1.0])|(537,[0],[1.0])| (153,[0],[1.0])|(100798,[21728],[...|(166197,[4829],[1...|  (33416,[71],[1.0])|\n",
      "|      Rueff, Jacques|          Macmillan,|Money, Foreign ex...|    arbk|          cs6r|         cen|               25.0|          2.0|              0.0|    86903.0|     120283.0|         127.0| (459,[25],[1.0])|(537,[2],[1.0])| (153,[0],[1.0])|(100798,[86903],[...|(166197,[120283],...| (33416,[127],[1.0])|\n",
      "|          Seuss, Dr.|       Random House,|Fantasy, Stories ...|    jcbk|         ncpic|         fre|                2.0|          1.0|             20.0|        4.0|        615.0|           0.0|  (459,[2],[1.0])|(537,[1],[1.0])|(153,[20],[1.0])|  (100798,[4],[1.0])|(166197,[615],[1.0])|   (33416,[0],[1.0])|\n",
      "|          Seuss, Dr.|       Random House,|Circus Poetry, St...|    jcbk|         ncpic|         gwd|                2.0|          1.0|              3.0|        4.0|       1153.0|           0.0|  (459,[2],[1.0])|(537,[1],[1.0])| (153,[3],[1.0])|  (100798,[4],[1.0])|(166197,[1153],[1...|   (33416,[0],[1.0])|\n",
      "|Geological Survey...|Idaho Dept. of Wa...|Water resources d...|    arbk|          cs7r|         cen|               16.0|          2.0|              0.0|       12.0|     160130.0|       22353.0| (459,[16],[1.0])|(537,[2],[1.0])| (153,[0],[1.0])| (100798,[12],[1.0])|(166197,[160130],...|(33416,[22353],[1...|\n",
      "|      Williams, Brad|          Doubleday,|National Airlines...|    arbk|        caaero|         cen|               47.0|          2.0|              0.0|    24041.0|     123466.0|          30.0| (459,[47],[1.0])|(537,[2],[1.0])| (153,[0],[1.0])|(100798,[24041],[...|(166197,[123466],...|  (33416,[30],[1.0])|\n",
      "|  Appelo, Carlton E.|             Appelo,|Knappton Wash His...|    arbk|         caref|         cen|                8.0|          2.0|              0.0|     7654.0|     110265.0|        7136.0|  (459,[8],[1.0])|(537,[2],[1.0])| (153,[0],[1.0])|(100798,[7654],[1...|(166197,[110265],...|(33416,[7136],[1.0])|\n",
      "|    Jones, Thomas C.|J. G. Ferguson Pu...|English literatur...|    acbk|          canf|         cen|                0.0|          0.0|              0.0|    69037.0|      87756.0|       22703.0|  (459,[0],[1.0])|(537,[0],[1.0])| (153,[0],[1.0])|(100798,[69037],[...|(166197,[87756],[...|(33416,[22703],[1...|\n",
      "|      Kertesz, G. A.|       Clarendon P.,|Europe History 17...|    arbk|         caref|         cen|                8.0|          2.0|              0.0|    70135.0|      88443.0|        2888.0|  (459,[8],[1.0])|(537,[2],[1.0])| (153,[0],[1.0])|(100798,[70135],[...|(166197,[88443],[...|(33416,[2888],[1.0])|\n",
      "|Horgan, Paul, 190...|Farrar, Straus an...|Lamy John Baptist...|    acbk|           cab|         cen|               23.0|          0.0|              0.0|    32210.0|     111124.0|          19.0| (459,[23],[1.0])|(537,[0],[1.0])| (153,[0],[1.0])|(100798,[32210],[...|(166197,[111124],...|  (33416,[19],[1.0])|\n",
      "|Sullivan, Rosemar...|University of Was...|Roethke Theodore ...|    acbk|          canf|         cen|                0.0|          0.0|              0.0|    15670.0|      48586.0|          91.0|  (459,[0],[1.0])|(537,[0],[1.0])| (153,[0],[1.0])|(100798,[15670],[...|(166197,[48586],[...|  (33416,[91],[1.0])|\n",
      "+--------------------+--------------------+--------------------+--------+--------------+------------+-------------------+-------------+-----------------+-----------+-------------+--------------+-----------------+---------------+----------------+--------------------+--------------------+--------------------+\n",
      "only showing top 20 rows\n",
      "\n"
     ]
    }
   ],
   "source": [
    "# 2 - OneHotEncoder\n",
    "onehotencoder_item_collection_vector = OneHotEncoder(inputCol=\"ItemCollectionIndex\", outputCol=\"ItemCollectionVec\")\n",
    "onehotencoder_item_type_vector = OneHotEncoder(inputCol=\"ItemTypeIndex\", outputCol=\"ItemTypeVec\")\n",
    "onehotencoder_item_location_vector = OneHotEncoder(inputCol=\"ItemLocationIndex\", outputCol=\"ItemLocationVec\")\n",
    "onehotencoder_author_vector = OneHotEncoder(inputCol=\"AuthorIndex\", outputCol=\"AuthorVec\")\n",
    "onehotencoder_subjects_vector = OneHotEncoder(inputCol=\"SubjectsIndex\", outputCol=\"SubjectsVec\")\n",
    "onehotencoder_publisher_vector = OneHotEncoder(inputCol=\"PublisherIndex\", outputCol=\"PublisherVec\")\n",
    "\n",
    "df_final = onehotencoder_item_collection_vector.fit(df_final).transform(df_final)\n",
    "df_final = onehotencoder_item_type_vector.fit(df_final).transform(df_final)\n",
    "df_final = onehotencoder_item_location_vector.fit(df_final).transform(df_final)\n",
    "df_final = onehotencoder_author_vector.fit(df_final).transform(df_final)\n",
    "df_final = onehotencoder_subjects_vector.fit(df_final).transform(df_final)\n",
    "df_final = onehotencoder_publisher_vector.fit(df_final).transform(df_final)\n",
    "\n",
    "df_final.show()"
   ]
  },
  {
   "cell_type": "code",
   "execution_count": 19,
   "id": "bizarre-notebook",
   "metadata": {},
   "outputs": [],
   "source": [
    "df_train, df_test = df_final.randomSplit([0.8, 0.2], seed=42)"
   ]
  },
  {
   "cell_type": "code",
   "execution_count": 24,
   "id": "sealed-penny",
   "metadata": {},
   "outputs": [
    {
     "data": {
      "text/plain": [
       "DataFrame[Author: string, Publisher: string, Subjects: string, ItemType: string, ItemCollection: string, ItemLocation: string, ItemCollectionIndex: double, ItemTypeIndex: double, ItemLocationIndex: double, AuthorIndex: double, SubjectsIndex: double, PublisherIndex: double, ItemCollectionVec: vector, ItemTypeVec: vector, ItemLocationVec: vector, AuthorVec: vector, SubjectsVec: vector, PublisherVec: vector]"
      ]
     },
     "execution_count": 24,
     "metadata": {},
     "output_type": "execute_result"
    }
   ],
   "source": [
    "df_train.cache()"
   ]
  },
  {
   "cell_type": "code",
   "execution_count": 21,
   "id": "advisory-coupon",
   "metadata": {},
   "outputs": [],
   "source": [
    "#print number of lines in each part\n",
    "#[df_train.count(), df_test.count()]"
   ]
  },
  {
   "cell_type": "code",
   "execution_count": 30,
   "id": "taken-transformation",
   "metadata": {},
   "outputs": [],
   "source": [
    "# 3 - VectorAssembler\n",
    "vec_assembler = VectorAssembler(inputCols=[\"ItemTypeVec\",\n",
    " \"ItemLocationVec\",\n",
    " \"AuthorVec\",\n",
    " \"SubjectsVec\",\n",
    " \"PublisherVec\"], outputCol=\"features\")\n",
    "vec_df_train = vec_assembler.transform(df_train)"
   ]
  },
  {
   "cell_type": "code",
   "execution_count": 31,
   "id": "looking-gothic",
   "metadata": {},
   "outputs": [
    {
     "name": "stdout",
     "output_type": "stream",
     "text": [
      "+-----------------------------------------------------------------------------------------------------------------------------------------------------------+-------------------------------------------------------------------------------------------------------------------------------------+----------------------------------------------------------------------------------------------------------------------------------------+------------------------------------------------------------------------------------------------------------------------------------------------------------------------------------------------------------------------------------------------------+---------------------------------------------------------------------------------------------------------------------------------------------------------------------------------------+------------+-------------------+-------------+-----------------+-----------+-------------+--------------+-----------------+-----------------+----------------+----------------------+-----------------------+---------------------+------------------------------------------------------------+\n",
      "|Author                                                                                                                                                     |Publisher                                                                                                                            |Subjects                                                                                                                                |ItemType                                                                                                                                                                                                                                              |ItemCollection                                                                                                                                                                         |ItemLocation|ItemCollectionIndex|ItemTypeIndex|ItemLocationIndex|AuthorIndex|SubjectsIndex|PublisherIndex|ItemCollectionVec|ItemTypeVec      |ItemLocationVec |AuthorVec             |SubjectsVec            |PublisherVec         |features                                                    |\n",
      "+-----------------------------------------------------------------------------------------------------------------------------------------------------------+-------------------------------------------------------------------------------------------------------------------------------------+----------------------------------------------------------------------------------------------------------------------------------------+------------------------------------------------------------------------------------------------------------------------------------------------------------------------------------------------------------------------------------------------------+---------------------------------------------------------------------------------------------------------------------------------------------------------------------------------------+------------+-------------------+-------------+-----------------+-----------+-------------+--------------+-----------------+-----------------+----------------+----------------------+-----------------------+---------------------+------------------------------------------------------------+\n",
      "|!!! (Musical group)                                                                                                                                        |Warp Records,                                                                                                                        |Rock music 2011 2020, Electronic dance music                                                                                            |accd                                                                                                                                                                                                                                                  |cacd                                                                                                                                                                                   |cen         |9.0                |3.0          |0.0              |24357.0    |11069.0      |677.0         |(459,[9],[1.0])  |(537,[3],[1.0])  |(153,[0],[1.0]) |(100798,[24357],[1.0])|(166197,[11069],[1.0]) |(33416,[677],[1.0])  |(301101,[3,537,25047,112557,268362],[1.0,1.0,1.0,1.0,1.0])  |\n",
      "|!!! (Musical group)                                                                                                                                        |Warp Records,                                                                                                                        |Rock music 2011 2020, Electronic dance music                                                                                            |accd                                                                                                                                                                                                                                                  |nacd                                                                                                                                                                                   |gwd         |5.0                |3.0          |3.0              |24357.0    |11069.0      |677.0         |(459,[5],[1.0])  |(537,[3],[1.0])  |(153,[3],[1.0]) |(100798,[24357],[1.0])|(166197,[11069],[1.0]) |(33416,[677],[1.0])  |(301101,[3,540,25047,112557,268362],[1.0,1.0,1.0,1.0,1.0])  |\n",
      "|\"\" Hochleistungs-Normalmodell für Wettbewerbe; Bauanleitung mit Bauplan in natürlicher Grösse / von Harald Storbeck.\"                                      |[1941?]                                                                                                                              |O. Maier,                                                                                                                               |Gliders Aeronautics Models                                                                                                                                                                                                                            |arbk                                                                                                                                                                                   |NA          |113.0              |52.0         |28.0             |43654.0    |125802.0     |6969.0        |(459,[113],[1.0])|(537,[52],[1.0]) |(153,[28],[1.0])|(100798,[43654],[1.0])|(166197,[125802],[1.0])|(33416,[6969],[1.0]) |(301101,[52,565,44344,227290,274654],[1.0,1.0,1.0,1.0,1.0]) |\n",
      "|\"\" and found bliss / Linda Leaming.\"                                                                                                                       |2011.                                                                                                                                |Hay House,                                                                                                                              |Leaming Linda 1954, Leaming Linda 1954 Travel Bhutan, Americans Bhutan Biography, Leaming Linda 1954 Marriage, Intercountry marriage Bhutan, Thimphu Bhutan Biography, Bhutan Biography, Bhutan Description and travel, Bhutan Social life and customs|acbk                                                                                                                                                                                   |NA          |88.0               |355.0        |28.0             |16335.0    |17222.0      |4170.0        |(459,[88],[1.0]) |(537,[355],[1.0])|(153,[28],[1.0])|(100798,[16335],[1.0])|(166197,[17222],[1.0]) |(33416,[4170],[1.0]) |(301101,[355,565,17025,118710,271855],[1.0,1.0,1.0,1.0,1.0])|\n",
      "|\"\" and the struggle for honor in Washington / Mark Felt and John O'Connor.\"                                                                                |2006.                                                                                                                                |Public Affairs,                                                                                                                         |Felt W Mark 1913 2008, United States Federal Bureau of Investigation Officials and employees Biography, Watergate Affair 1972 1974, United States Federal Bureau of Investigation                                                                     |acbk                                                                                                                                                                                   |NA          |88.0               |299.0        |28.0             |43660.0    |134697.0     |9504.0        |(459,[88],[1.0]) |(537,[299],[1.0])|(153,[28],[1.0])|(100798,[43660],[1.0])|(166197,[134697],[1.0])|(33416,[9504],[1.0]) |(301101,[299,565,44350,236185,277189],[1.0,1.0,1.0,1.0,1.0])|\n",
      "|\"\" evil; Greek                                                                                                                                             |Vega, L. Eduardo, 1939-                                                                                                              |1889059773                                                                                                                              |2000.                                                                                                                                                                                                                                                 |Regent Press,                                                                                                                                                                          |acbk        |385.0              |173.0        |30.0             |43664.0    |56551.0      |31094.0       |(459,[385],[1.0])|(537,[173],[1.0])|(153,[30],[1.0])|(100798,[43664],[1.0])|(166197,[56551],[1.0]) |(33416,[31094],[1.0])|(301101,[173,567,44354,158039,298779],[1.0,1.0,1.0,1.0,1.0])|\n",
      "|\"\" prepared especially for teachers' reading circles.\"                                                                                                     |[1896]                                                                                                                               |American Book Co.,                                                                                                                      |Schools Exercises and recreations                                                                                                                                                                                                                     |arbk                                                                                                                                                                                   |NA          |113.0              |125.0        |28.0             |24361.0    |25163.0      |14941.0       |(459,[113],[1.0])|(537,[125],[1.0])|(153,[28],[1.0])|(100798,[24361],[1.0])|(166197,[25163],[1.0]) |(33416,[14941],[1.0])|(301101,[125,565,25051,126651,282626],[1.0,1.0,1.0,1.0,1.0])|\n",
      "|\"\" ruling elder of the Pilgrim church which founded Plymouth colony in 1620 / compiled and edited by Emma C.Brewster Jones.\"                               |1908.                                                                                                                                |The Grafton press,                                                                                                                      |Brewster family, Allerton family, Brewster William 1566 or 7 1644, Plymouth Mass Genealogy                                                                                                                                                            |arbk                                                                                                                                                                                   |NA          |113.0              |221.0        |28.0             |43666.0    |152262.0     |15316.0       |(459,[113],[1.0])|(537,[221],[1.0])|(153,[28],[1.0])|(100798,[43666],[1.0])|(166197,[152262],[1.0])|(33416,[15316],[1.0])|(301101,[221,565,44356,253750,283001],[1.0,1.0,1.0,1.0,1.0])|\n",
      "|\"\" the vibrator                                                                                                                                            |0801866464, 9780801866463                                                                                                            |2001.                                                                                                                                   |Johns Hopkins University Press,                                                                                                                                                                                                                       |Women Sexual behavior History, Female orgasm History, Anorgasmy History, Masturbation History, Vibrators History, Physical education for women Sexual behavior History                 |canf        |254.0              |102.0        |33.0             |24362.0    |12394.0      |9479.0        |(459,[254],[1.0])|(537,[102],[1.0])|(153,[33],[1.0])|(100798,[24362],[1.0])|(166197,[12394],[1.0]) |(33416,[9479],[1.0]) |(301101,[102,570,25052,113882,277164],[1.0,1.0,1.0,1.0,1.0])|\n",
      "|\"\" their contemporaries and modern Dutch masters forming the private collection of the late Dr. Leslie D. Ward. [On free view at the American Art Galleries|1911] To be sold at unrestricted public sale at Mendelssohn Hall [beginning January 13] The sale will be conducted by Thomas E. Kirby|of the American Art Association                                                                                                         |managers.\"                                                                                                                                                                                                                                            |Ward, Leslie Dodd, 1845-1910.                                                                                                                                                          |1911.       |420.0              |535.0        |79.0             |43672.0    |166184.0     |15317.0       |(459,[420],[1.0])|(537,[535],[1.0])|(153,[79],[1.0])|(100798,[43672],[1.0])|(166197,[166184],[1.0])|(33416,[15317],[1.0])|(301101,[535,616,44362,267672,283002],[1.0,1.0,1.0,1.0,1.0])|\n",
      "|\"\"zhang wo guan jian\"\" da zao shu yu zi ji de mei li / Zhaiteng Xun                                                                                        |Saitō, Kaoru, 1957-                                                                                                                  |9789869460606, 9869460607                                                                                                               |2017.                                                                                                                                                                                                                                                 |Yi qi lai chu ban,                                                                                                                                                                     |acbk        |427.0              |31.0         |30.0             |43678.0    |56578.0      |28056.0       |(459,[427],[1.0])|(537,[31],[1.0]) |(153,[30],[1.0])|(100798,[43678],[1.0])|(166197,[56578],[1.0]) |(33416,[28056],[1.0])|(301101,[31,567,44368,158066,295741],[1.0,1.0,1.0,1.0,1.0]) |\n",
      "|\"Bonnie \"\"Prince\"\" Billy\"                                                                                                                                  |Drag City : Palace Records,                                                                                                          |Popular music 2011 2020                                                                                                                 |accd                                                                                                                                                                                                                                                  |nacd                                                                                                                                                                                   |swt         |5.0                |3.0          |4.0              |9432.0     |2.0          |19487.0       |(459,[5],[1.0])  |(537,[3],[1.0])  |(153,[4],[1.0]) |(100798,[9432],[1.0]) |(166197,[2],[1.0])     |(33416,[19487],[1.0])|(301101,[3,541,10122,101490,287172],[1.0,1.0,1.0,1.0,1.0])  |\n",
      "|\"Bonnie \"\"Prince\"\" Billy\"                                                                                                                                  |Palace Records/Drag City,                                                                                                            |Popular music 2001 2010                                                                                                                 |accd                                                                                                                                                                                                                                                  |nacd                                                                                                                                                                                   |swt         |5.0                |3.0          |4.0              |9432.0     |9.0          |8562.0        |(459,[5],[1.0])  |(537,[3],[1.0])  |(153,[4],[1.0]) |(100798,[9432],[1.0]) |(166197,[9],[1.0])     |(33416,[8562],[1.0]) |(301101,[3,541,10122,101497,276247],[1.0,1.0,1.0,1.0,1.0])  |\n",
      "|\"Royce da 5'9\"\" (Musician)\"                                                                                                                                |Bad Half Records,                                                                                                                    |Rap Music, Popular music 2011 2020, Rap Music                                                                                           |accd                                                                                                                                                                                                                                                  |nacd                                                                                                                                                                                   |mgm         |5.0                |3.0          |25.0             |43681.0    |325.0        |16720.0       |(459,[5],[1.0])  |(537,[3],[1.0])  |(153,[25],[1.0])|(100798,[43681],[1.0])|(166197,[325],[1.0])   |(33416,[16720],[1.0])|(301101,[3,562,44371,101813,284405],[1.0,1.0,1.0,1.0,1.0])  |\n",
      "|'68 (Musical group)                                                                                                                                        |Cooking Vinyl America,                                                                                                               |Rock music 2011 2020, Rock music                                                                                                        |accd                                                                                                                                                                                                                                                  |nacd                                                                                                                                                                                   |mag         |5.0                |3.0          |16.0             |24365.0    |1.0          |10514.0       |(459,[5],[1.0])  |(537,[3],[1.0])  |(153,[16],[1.0])|(100798,[24365],[1.0])|(166197,[1],[1.0])     |(33416,[10514],[1.0])|(301101,[3,553,25055,101489,278199],[1.0,1.0,1.0,1.0,1.0])  |\n",
      "|1640-1676 / T. H. Breen                                                                                                                                    |0195027272                                                                                                                           |1980.                                                                                                                                   |Oxford University Press,                                                                                                                                                                                                                              |African Americans Eastern Shore Md and Va History, African Americans Virginia History, Eastern Shore Md and Va Race relations, Eastern Shore Md and Va History, Virginia Race relations|canf        |294.0              |116.0        |33.0             |43690.0    |56552.0      |15266.0       |(459,[294],[1.0])|(537,[116],[1.0])|(153,[33],[1.0])|(100798,[43690],[1.0])|(166197,[56552],[1.0]) |(33416,[15266],[1.0])|(301101,[116,570,44380,158040,282951],[1.0,1.0,1.0,1.0,1.0])|\n",
      "|1720-1783 / compiled by Joseph Lee Boyle.\"                                                                                                                 |2014.                                                                                                                                |Clearfield Company,                                                                                                                     |Indentured servants Delaware History 18th century Sources, African Americans Delaware History 18th century Sources, American newspapers Delaware Abstracts, Delaware Genealogy, Delaware History Colonial period ca 1600 1775 Sources                 |arbk                                                                                                                                                                                   |NA          |113.0              |329.0        |28.0             |43691.0    |76289.0      |4171.0        |(459,[113],[1.0])|(537,[329],[1.0])|(153,[28],[1.0])|(100798,[43691],[1.0])|(166197,[76289],[1.0]) |(33416,[4171],[1.0]) |(301101,[329,565,44381,177777,271856],[1.0,1.0,1.0,1.0,1.0])|\n",
      "|1850                                                                                                                                                       |1853                                                                                                                                 |1854. Ed. by Commander Sherard Osborn ... from th logs and journals of Capt. Robert LeM. M'Clure. Illus. by Commander S. Gurney Cressell|R.N.\"                                                                                                                                                                                                                                                 |McClure, Robert John Le Mesurier, Sir, 1807-1873                                                                                                                                       |1856.       |359.0              |426.0        |78.0             |43698.0    |56550.0      |15310.0       |(459,[359],[1.0])|(537,[426],[1.0])|(153,[78],[1.0])|(100798,[43698],[1.0])|(166197,[56550],[1.0]) |(33416,[15310],[1.0])|(301101,[426,615,44388,158038,282995],[1.0,1.0,1.0,1.0,1.0])|\n",
      "|2 Chainz, 1977-                                                                                                                                            |Def Jam Recordings,                                                                                                                  |Rap Music, Popular music 2011 2020, Rap Music, Popular music                                                                            |accd                                                                                                                                                                                                                                                  |nacd                                                                                                                                                                                   |mgm         |5.0                |3.0          |25.0             |24371.0    |13.0         |1690.0        |(459,[5],[1.0])  |(537,[3],[1.0])  |(153,[25],[1.0])|(100798,[24371],[1.0])|(166197,[13],[1.0])    |(33416,[1690],[1.0]) |(301101,[3,562,25061,101501,269375],[1.0,1.0,1.0,1.0,1.0])  |\n",
      "|2 Live Crew                                                                                                                                                |Lil' Joe Records,                                                                                                                    |Rap Music, Popular music 1981 1990, Rap Music, Popular music                                                                            |accd                                                                                                                                                                                                                                                  |cacd                                                                                                                                                                                   |cen         |9.0                |3.0          |0.0              |43707.0    |2625.0       |23728.0       |(459,[9],[1.0])  |(537,[3],[1.0])  |(153,[0],[1.0]) |(100798,[43707],[1.0])|(166197,[2625],[1.0])  |(33416,[23728],[1.0])|(301101,[3,537,44397,104113,291413],[1.0,1.0,1.0,1.0,1.0])  |\n",
      "+-----------------------------------------------------------------------------------------------------------------------------------------------------------+-------------------------------------------------------------------------------------------------------------------------------------+----------------------------------------------------------------------------------------------------------------------------------------+------------------------------------------------------------------------------------------------------------------------------------------------------------------------------------------------------------------------------------------------------+---------------------------------------------------------------------------------------------------------------------------------------------------------------------------------------+------------+-------------------+-------------+-----------------+-----------+-------------+--------------+-----------------+-----------------+----------------+----------------------+-----------------------+---------------------+------------------------------------------------------------+\n",
      "only showing top 20 rows\n",
      "\n"
     ]
    }
   ],
   "source": [
    "vec_df_train.show(truncate=False)"
   ]
  },
  {
   "cell_type": "code",
   "execution_count": 34,
   "id": "tough-amino",
   "metadata": {},
   "outputs": [],
   "source": [
    "# create the trainer and set its parameters\n",
    "nb = NaiveBayes(labelCol='ItemCollectionVec', smoothing=1.0, modelType=\"multinomial\")"
   ]
  },
  {
   "cell_type": "code",
   "execution_count": 36,
   "id": "seven-alert",
   "metadata": {},
   "outputs": [
    {
     "ename": "IllegalArgumentException",
     "evalue": "label does not exist. Available: Author, Publisher, Subjects, ItemType, ItemCollection, ItemLocation, ItemCollectionIndex, ItemTypeIndex, ItemLocationIndex, AuthorIndex, SubjectsIndex, PublisherIndex, ItemCollectionVec, ItemTypeVec, ItemLocationVec, AuthorVec, SubjectsVec, PublisherVec, features",
     "output_type": "error",
     "traceback": [
      "\u001b[0;31m---------------------------------------------------------------------------\u001b[0m",
      "\u001b[0;31mIllegalArgumentException\u001b[0m                  Traceback (most recent call last)",
      "\u001b[0;32m<ipython-input-36-1495a3e099ba>\u001b[0m in \u001b[0;36m<module>\u001b[0;34m\u001b[0m\n\u001b[1;32m      1\u001b[0m \u001b[0;31m# train the model\u001b[0m\u001b[0;34m\u001b[0m\u001b[0;34m\u001b[0m\u001b[0;34m\u001b[0m\u001b[0m\n\u001b[0;32m----> 2\u001b[0;31m \u001b[0mmodel\u001b[0m \u001b[0;34m=\u001b[0m \u001b[0mnb\u001b[0m\u001b[0;34m.\u001b[0m\u001b[0mfit\u001b[0m\u001b[0;34m(\u001b[0m\u001b[0mvec_df_train\u001b[0m\u001b[0;34m)\u001b[0m\u001b[0;34m\u001b[0m\u001b[0;34m\u001b[0m\u001b[0m\n\u001b[0m",
      "\u001b[0;32m/opt/spark/python/pyspark/ml/base.py\u001b[0m in \u001b[0;36mfit\u001b[0;34m(self, dataset, params)\u001b[0m\n\u001b[1;32m    127\u001b[0m                 \u001b[0;32mreturn\u001b[0m \u001b[0mself\u001b[0m\u001b[0;34m.\u001b[0m\u001b[0mcopy\u001b[0m\u001b[0;34m(\u001b[0m\u001b[0mparams\u001b[0m\u001b[0;34m)\u001b[0m\u001b[0;34m.\u001b[0m\u001b[0m_fit\u001b[0m\u001b[0;34m(\u001b[0m\u001b[0mdataset\u001b[0m\u001b[0;34m)\u001b[0m\u001b[0;34m\u001b[0m\u001b[0;34m\u001b[0m\u001b[0m\n\u001b[1;32m    128\u001b[0m             \u001b[0;32melse\u001b[0m\u001b[0;34m:\u001b[0m\u001b[0;34m\u001b[0m\u001b[0;34m\u001b[0m\u001b[0m\n\u001b[0;32m--> 129\u001b[0;31m                 \u001b[0;32mreturn\u001b[0m \u001b[0mself\u001b[0m\u001b[0;34m.\u001b[0m\u001b[0m_fit\u001b[0m\u001b[0;34m(\u001b[0m\u001b[0mdataset\u001b[0m\u001b[0;34m)\u001b[0m\u001b[0;34m\u001b[0m\u001b[0;34m\u001b[0m\u001b[0m\n\u001b[0m\u001b[1;32m    130\u001b[0m         \u001b[0;32melse\u001b[0m\u001b[0;34m:\u001b[0m\u001b[0;34m\u001b[0m\u001b[0;34m\u001b[0m\u001b[0m\n\u001b[1;32m    131\u001b[0m             raise ValueError(\"Params must be either a param map or a list/tuple of param maps, \"\n",
      "\u001b[0;32m/opt/spark/python/pyspark/ml/wrapper.py\u001b[0m in \u001b[0;36m_fit\u001b[0;34m(self, dataset)\u001b[0m\n\u001b[1;32m    319\u001b[0m \u001b[0;34m\u001b[0m\u001b[0m\n\u001b[1;32m    320\u001b[0m     \u001b[0;32mdef\u001b[0m \u001b[0m_fit\u001b[0m\u001b[0;34m(\u001b[0m\u001b[0mself\u001b[0m\u001b[0;34m,\u001b[0m \u001b[0mdataset\u001b[0m\u001b[0;34m)\u001b[0m\u001b[0;34m:\u001b[0m\u001b[0;34m\u001b[0m\u001b[0;34m\u001b[0m\u001b[0m\n\u001b[0;32m--> 321\u001b[0;31m         \u001b[0mjava_model\u001b[0m \u001b[0;34m=\u001b[0m \u001b[0mself\u001b[0m\u001b[0;34m.\u001b[0m\u001b[0m_fit_java\u001b[0m\u001b[0;34m(\u001b[0m\u001b[0mdataset\u001b[0m\u001b[0;34m)\u001b[0m\u001b[0;34m\u001b[0m\u001b[0;34m\u001b[0m\u001b[0m\n\u001b[0m\u001b[1;32m    322\u001b[0m         \u001b[0mmodel\u001b[0m \u001b[0;34m=\u001b[0m \u001b[0mself\u001b[0m\u001b[0;34m.\u001b[0m\u001b[0m_create_model\u001b[0m\u001b[0;34m(\u001b[0m\u001b[0mjava_model\u001b[0m\u001b[0;34m)\u001b[0m\u001b[0;34m\u001b[0m\u001b[0;34m\u001b[0m\u001b[0m\n\u001b[1;32m    323\u001b[0m         \u001b[0;32mreturn\u001b[0m \u001b[0mself\u001b[0m\u001b[0;34m.\u001b[0m\u001b[0m_copyValues\u001b[0m\u001b[0;34m(\u001b[0m\u001b[0mmodel\u001b[0m\u001b[0;34m)\u001b[0m\u001b[0;34m\u001b[0m\u001b[0;34m\u001b[0m\u001b[0m\n",
      "\u001b[0;32m/opt/spark/python/pyspark/ml/wrapper.py\u001b[0m in \u001b[0;36m_fit_java\u001b[0;34m(self, dataset)\u001b[0m\n\u001b[1;32m    316\u001b[0m         \"\"\"\n\u001b[1;32m    317\u001b[0m         \u001b[0mself\u001b[0m\u001b[0;34m.\u001b[0m\u001b[0m_transfer_params_to_java\u001b[0m\u001b[0;34m(\u001b[0m\u001b[0;34m)\u001b[0m\u001b[0;34m\u001b[0m\u001b[0;34m\u001b[0m\u001b[0m\n\u001b[0;32m--> 318\u001b[0;31m         \u001b[0;32mreturn\u001b[0m \u001b[0mself\u001b[0m\u001b[0;34m.\u001b[0m\u001b[0m_java_obj\u001b[0m\u001b[0;34m.\u001b[0m\u001b[0mfit\u001b[0m\u001b[0;34m(\u001b[0m\u001b[0mdataset\u001b[0m\u001b[0;34m.\u001b[0m\u001b[0m_jdf\u001b[0m\u001b[0;34m)\u001b[0m\u001b[0;34m\u001b[0m\u001b[0;34m\u001b[0m\u001b[0m\n\u001b[0m\u001b[1;32m    319\u001b[0m \u001b[0;34m\u001b[0m\u001b[0m\n\u001b[1;32m    320\u001b[0m     \u001b[0;32mdef\u001b[0m \u001b[0m_fit\u001b[0m\u001b[0;34m(\u001b[0m\u001b[0mself\u001b[0m\u001b[0;34m,\u001b[0m \u001b[0mdataset\u001b[0m\u001b[0;34m)\u001b[0m\u001b[0;34m:\u001b[0m\u001b[0;34m\u001b[0m\u001b[0;34m\u001b[0m\u001b[0m\n",
      "\u001b[0;32m/opt/spark/python/lib/py4j-0.10.9-src.zip/py4j/java_gateway.py\u001b[0m in \u001b[0;36m__call__\u001b[0;34m(self, *args)\u001b[0m\n\u001b[1;32m   1302\u001b[0m \u001b[0;34m\u001b[0m\u001b[0m\n\u001b[1;32m   1303\u001b[0m         \u001b[0manswer\u001b[0m \u001b[0;34m=\u001b[0m \u001b[0mself\u001b[0m\u001b[0;34m.\u001b[0m\u001b[0mgateway_client\u001b[0m\u001b[0;34m.\u001b[0m\u001b[0msend_command\u001b[0m\u001b[0;34m(\u001b[0m\u001b[0mcommand\u001b[0m\u001b[0;34m)\u001b[0m\u001b[0;34m\u001b[0m\u001b[0;34m\u001b[0m\u001b[0m\n\u001b[0;32m-> 1304\u001b[0;31m         return_value = get_return_value(\n\u001b[0m\u001b[1;32m   1305\u001b[0m             answer, self.gateway_client, self.target_id, self.name)\n\u001b[1;32m   1306\u001b[0m \u001b[0;34m\u001b[0m\u001b[0m\n",
      "\u001b[0;32m/opt/spark/python/pyspark/sql/utils.py\u001b[0m in \u001b[0;36mdeco\u001b[0;34m(*a, **kw)\u001b[0m\n\u001b[1;32m    132\u001b[0m                 \u001b[0;31m# Hide where the exception came from that shows a non-Pythonic\u001b[0m\u001b[0;34m\u001b[0m\u001b[0;34m\u001b[0m\u001b[0;34m\u001b[0m\u001b[0m\n\u001b[1;32m    133\u001b[0m                 \u001b[0;31m# JVM exception message.\u001b[0m\u001b[0;34m\u001b[0m\u001b[0;34m\u001b[0m\u001b[0;34m\u001b[0m\u001b[0m\n\u001b[0;32m--> 134\u001b[0;31m                 \u001b[0mraise_from\u001b[0m\u001b[0;34m(\u001b[0m\u001b[0mconverted\u001b[0m\u001b[0;34m)\u001b[0m\u001b[0;34m\u001b[0m\u001b[0;34m\u001b[0m\u001b[0m\n\u001b[0m\u001b[1;32m    135\u001b[0m             \u001b[0;32melse\u001b[0m\u001b[0;34m:\u001b[0m\u001b[0;34m\u001b[0m\u001b[0;34m\u001b[0m\u001b[0m\n\u001b[1;32m    136\u001b[0m                 \u001b[0;32mraise\u001b[0m\u001b[0;34m\u001b[0m\u001b[0;34m\u001b[0m\u001b[0m\n",
      "\u001b[0;32m/opt/spark/python/pyspark/sql/utils.py\u001b[0m in \u001b[0;36mraise_from\u001b[0;34m(e)\u001b[0m\n",
      "\u001b[0;31mIllegalArgumentException\u001b[0m: label does not exist. Available: Author, Publisher, Subjects, ItemType, ItemCollection, ItemLocation, ItemCollectionIndex, ItemTypeIndex, ItemLocationIndex, AuthorIndex, SubjectsIndex, PublisherIndex, ItemCollectionVec, ItemTypeVec, ItemLocationVec, AuthorVec, SubjectsVec, PublisherVec, features"
     ]
    }
   ],
   "source": [
    "# train the model\n",
    "model = nb.fit(vec_df_train)"
   ]
  },
  {
   "cell_type": "code",
   "execution_count": null,
   "id": "independent-ending",
   "metadata": {},
   "outputs": [],
   "source": []
  },
  {
   "cell_type": "code",
   "execution_count": null,
   "id": "exterior-airplane",
   "metadata": {},
   "outputs": [],
   "source": []
  },
  {
   "cell_type": "code",
   "execution_count": null,
   "id": "jewish-rings",
   "metadata": {},
   "outputs": [],
   "source": []
  },
  {
   "cell_type": "code",
   "execution_count": null,
   "id": "funky-zoning",
   "metadata": {},
   "outputs": [],
   "source": []
  },
  {
   "cell_type": "code",
   "execution_count": null,
   "id": "united-organic",
   "metadata": {},
   "outputs": [],
   "source": []
  },
  {
   "cell_type": "code",
   "execution_count": 9,
   "id": "advanced-noise",
   "metadata": {},
   "outputs": [
    {
     "name": "stdout",
     "output_type": "stream",
     "text": [
      "root\n",
      " |-- BibNum: integer (nullable = true)\n",
      " |-- Title: string (nullable = true)\n",
      " |-- Author: string (nullable = true)\n",
      " |-- ISBN: string (nullable = true)\n",
      " |-- PublicationYear: string (nullable = true)\n",
      " |-- Publisher: string (nullable = true)\n",
      " |-- Subjects: string (nullable = true)\n",
      " |-- ItemType: string (nullable = true)\n",
      " |-- ItemCollection: string (nullable = true)\n",
      " |-- FloatingItem: string (nullable = true)\n",
      " |-- ItemLocation: string (nullable = true)\n",
      " |-- ReportDate: string (nullable = true)\n",
      " |-- ItemCount: string (nullable = true)\n",
      "\n"
     ]
    },
    {
     "data": {
      "text/plain": [
       "355807"
      ]
     },
     "execution_count": 9,
     "metadata": {},
     "output_type": "execute_result"
    }
   ],
   "source": [
    "df.printSchema()\n",
    "cols = df.columns\n",
    "df.count()"
   ]
  },
  {
   "cell_type": "code",
   "execution_count": null,
   "id": "northern-pakistan",
   "metadata": {},
   "outputs": [],
   "source": []
  },
  {
   "cell_type": "code",
   "execution_count": null,
   "id": "collectible-empire",
   "metadata": {},
   "outputs": [],
   "source": []
  },
  {
   "cell_type": "code",
   "execution_count": null,
   "id": "requested-creativity",
   "metadata": {},
   "outputs": [],
   "source": []
  },
  {
   "cell_type": "code",
   "execution_count": null,
   "id": "desirable-narrow",
   "metadata": {},
   "outputs": [],
   "source": []
  },
  {
   "cell_type": "code",
   "execution_count": 10,
   "id": "threaded-flesh",
   "metadata": {},
   "outputs": [
    {
     "name": "stdout",
     "output_type": "stream",
     "text": [
      "+------+--------------------+------------------+----+---------------+-----------+-----------+--------+--------------+------------+------------+--------------------+---------+\n",
      "|BibNum|               Title|            Author|ISBN|PublicationYear|  Publisher|   Subjects|ItemType|ItemCollection|FloatingItem|ItemLocation|          ReportDate|ItemCount|\n",
      "+------+--------------------+------------------+----+---------------+-----------+-----------+--------+--------------+------------+------------+--------------------+---------+\n",
      "|  4750|My maternal ances...|Wood, Melba, 1913-|null|   [1968]-1987.|   M. Wood,|Hale family|    arbk|         caref|          NA|         cen|2017-09-01T00:00:...|        1|\n",
      "|  6720|The White House m...|    Feiffer, Jules|null|         [1970]|Grove Press|       null|    acbk|          canf|          NA|         cen|2017-09-01T00:00:...|        1|\n",
      "+------+--------------------+------------------+----+---------------+-----------+-----------+--------+--------------+------------+------------+--------------------+---------+\n",
      "only showing top 2 rows\n",
      "\n"
     ]
    }
   ],
   "source": [
    "df.show(2)"
   ]
  },
  {
   "cell_type": "code",
   "execution_count": 11,
   "id": "administrative-mystery",
   "metadata": {},
   "outputs": [
    {
     "ename": "NameError",
     "evalue": "name 'pd' is not defined",
     "output_type": "error",
     "traceback": [
      "\u001b[0;31m---------------------------------------------------------------------------\u001b[0m",
      "\u001b[0;31mNameError\u001b[0m                                 Traceback (most recent call last)",
      "\u001b[0;32m<ipython-input-11-992b4383c8ab>\u001b[0m in \u001b[0;36m<module>\u001b[0;34m\u001b[0m\n\u001b[0;32m----> 1\u001b[0;31m \u001b[0mpd\u001b[0m\u001b[0;34m.\u001b[0m\u001b[0mDataFrame\u001b[0m\u001b[0;34m(\u001b[0m\u001b[0mdf\u001b[0m\u001b[0;34m.\u001b[0m\u001b[0mtake\u001b[0m\u001b[0;34m(\u001b[0m\u001b[0;36m5\u001b[0m\u001b[0;34m)\u001b[0m\u001b[0;34m,\u001b[0m \u001b[0mcolumns\u001b[0m\u001b[0;34m=\u001b[0m\u001b[0mcols\u001b[0m\u001b[0;34m)\u001b[0m\u001b[0;34m\u001b[0m\u001b[0;34m\u001b[0m\u001b[0m\n\u001b[0m",
      "\u001b[0;31mNameError\u001b[0m: name 'pd' is not defined"
     ]
    }
   ],
   "source": [
    "pd.DataFrame(df.take(5), columns=cols)"
   ]
  },
  {
   "cell_type": "code",
   "execution_count": 14,
   "id": "iraqi-empire",
   "metadata": {},
   "outputs": [
    {
     "data": {
      "text/plain": [
       "[Row(BibNum=4750, Title='My maternal ancestry : Dean, Matlock, Hale, Gahr families (in Tennessee and Missouri) / by Melba Wood.', Author='Wood, Melba, 1913-', ISBN=None, PublicationYear='[1968]-1987.', Publisher='M. Wood,', Subjects='Hale family', ItemType='arbk', ItemCollection='caref', FloatingItem='NA', ItemLocation='cen', ReportDate='2017-09-01T00:00:00.000', ItemCount='1'),\n",
       " Row(BibNum=6720, Title='The White House murder case: a play in two acts & Dick and Jane: a one-act play.', Author='Feiffer, Jules', ISBN=None, PublicationYear='[1970]', Publisher='Grove Press', Subjects=None, ItemType='acbk', ItemCollection='canf', FloatingItem='NA', ItemLocation='cen', ReportDate='2017-09-01T00:00:00.000', ItemCount='1'),\n",
       " Row(BibNum=6845, Title='Autumn of glory; the Army of Tennessee, 1862-1865.', Author='Connelly, Thomas Lawrence', ISBN='0807104450', PublicationYear='[1971]', Publisher='Louisiana State University Press', Subjects='Confederate States of America Army Department of Tennessee, United States History Civil War 1861 1865 Regimental histories', ItemType='acbk', ItemCollection='canf', FloatingItem='NA', ItemLocation='cen', ReportDate='2017-09-01T00:00:00.000', ItemCount='1'),\n",
       " Row(BibNum=7118, Title='Variety music cavalcade, 1620-1969; a chronology of vocal and instrumental music popular in the United States. With an introd. by Abel Green.', Author='Mattfeld, Julius, 1893-1968', ISBN='0139407189', PublicationYear='[1971]', Publisher='Prentice-Hall', Subjects='Popular music United States Bibliography, Music United States Chronology', ItemType='arbk', ItemCollection='caref', FloatingItem='NA', ItemLocation='cen', ReportDate='2017-09-01T00:00:00.000', ItemCount='1'),\n",
       " Row(BibNum=7886, Title='A bibliography of novels related to American frontier and colonial history, by Jack VanDerhoof.', Author='Van Derhoof, Jack Warner.', ISBN='087875007X', PublicationYear='1971.', Publisher='Whitston Pub. Co.,', Subjects='Historical fiction American Bibliography, Historical fiction English Bibliography, United States History Colonial period ca 1600 1775 Fiction Bibliography', ItemType='arbk', ItemCollection='cs8r', FloatingItem='NA', ItemLocation='cen', ReportDate='2017-09-01T00:00:00.000', ItemCount='2')]"
      ]
     },
     "execution_count": 14,
     "metadata": {},
     "output_type": "execute_result"
    }
   ],
   "source": [
    "df.take(5)"
   ]
  },
  {
   "cell_type": "code",
   "execution_count": 16,
   "id": "alone-robinson",
   "metadata": {},
   "outputs": [],
   "source": [
    "featureColumns = ['Author','Publisher','ItemType','ItemCollection',\n",
    " 'ItemLocation']"
   ]
  },
  {
   "cell_type": "code",
   "execution_count": 17,
   "id": "korean-dancing",
   "metadata": {},
   "outputs": [],
   "source": [
    "responses = df.groupBy('Subjects').count().collect()"
   ]
  },
  {
   "cell_type": "code",
   "execution_count": 22,
   "id": "appreciated-chaos",
   "metadata": {},
   "outputs": [
    {
     "ename": "NameError",
     "evalue": "name 'plt' is not defined",
     "output_type": "error",
     "traceback": [
      "\u001b[0;31m---------------------------------------------------------------------------\u001b[0m",
      "\u001b[0;31mNameError\u001b[0m                                 Traceback (most recent call last)",
      "\u001b[0;32m<ipython-input-22-5abd26e713c6>\u001b[0m in \u001b[0;36m<module>\u001b[0;34m\u001b[0m\n\u001b[1;32m      4\u001b[0m \u001b[0mind\u001b[0m \u001b[0;34m=\u001b[0m \u001b[0mnp\u001b[0m\u001b[0;34m.\u001b[0m\u001b[0marray\u001b[0m\u001b[0;34m(\u001b[0m\u001b[0mrange\u001b[0m\u001b[0;34m(\u001b[0m\u001b[0mlen\u001b[0m\u001b[0;34m(\u001b[0m\u001b[0mcategories\u001b[0m\u001b[0;34m)\u001b[0m\u001b[0;34m)\u001b[0m\u001b[0;34m)\u001b[0m\u001b[0;34m\u001b[0m\u001b[0;34m\u001b[0m\u001b[0m\n\u001b[1;32m      5\u001b[0m \u001b[0mwidth\u001b[0m \u001b[0;34m=\u001b[0m \u001b[0;36m0.35\u001b[0m\u001b[0;34m\u001b[0m\u001b[0;34m\u001b[0m\u001b[0m\n\u001b[0;32m----> 6\u001b[0;31m \u001b[0mplt\u001b[0m\u001b[0;34m.\u001b[0m\u001b[0mbar\u001b[0m\u001b[0;34m(\u001b[0m\u001b[0mind\u001b[0m\u001b[0;34m,\u001b[0m \u001b[0mcounts\u001b[0m\u001b[0;34m,\u001b[0m \u001b[0mwidth\u001b[0m\u001b[0;34m=\u001b[0m\u001b[0mwidth\u001b[0m\u001b[0;34m,\u001b[0m \u001b[0mcolor\u001b[0m\u001b[0;34m=\u001b[0m\u001b[0;34m'r'\u001b[0m\u001b[0;34m)\u001b[0m\u001b[0;34m\u001b[0m\u001b[0;34m\u001b[0m\u001b[0m\n\u001b[0m\u001b[1;32m      7\u001b[0m \u001b[0;34m\u001b[0m\u001b[0m\n\u001b[1;32m      8\u001b[0m \u001b[0mplt\u001b[0m\u001b[0;34m.\u001b[0m\u001b[0mylabel\u001b[0m\u001b[0;34m(\u001b[0m\u001b[0;34m'counts'\u001b[0m\u001b[0;34m)\u001b[0m\u001b[0;34m\u001b[0m\u001b[0;34m\u001b[0m\u001b[0m\n",
      "\u001b[0;31mNameError\u001b[0m: name 'plt' is not defined"
     ]
    }
   ],
   "source": [
    "categories = [i[0] for i in responses]\n",
    "counts = [i[1] for i in responses]\n",
    " \n",
    "ind = np.array(range(len(categories)))\n",
    "width = 0.35\n",
    "plt.bar(ind, counts, width=width, color='r')\n",
    " \n",
    "plt.ylabel('counts')\n",
    "plt.title('Stroke')\n",
    "plt.xticks(ind + width/2., categories)"
   ]
  },
  {
   "cell_type": "code",
   "execution_count": 27,
   "id": "olympic-democrat",
   "metadata": {},
   "outputs": [
    {
     "data": {
      "text/plain": [
       "197066"
      ]
     },
     "execution_count": 27,
     "metadata": {},
     "output_type": "execute_result"
    }
   ],
   "source": [
    "df.select(\"Subjects\").distinct().count()"
   ]
  },
  {
   "cell_type": "code",
   "execution_count": 28,
   "id": "endless-listing",
   "metadata": {},
   "outputs": [
    {
     "data": {
      "text/plain": [
       "[Row(BibNum=4750, Title='My maternal ancestry : Dean, Matlock, Hale, Gahr families (in Tennessee and Missouri) / by Melba Wood.', Author='Wood, Melba, 1913-', ISBN=None, PublicationYear='[1968]-1987.', Publisher='M. Wood,', Subjects='Hale family', ItemType='arbk', ItemCollection='caref', FloatingItem='NA', ItemLocation='cen', ReportDate='2017-09-01T00:00:00.000', ItemCount='1'),\n",
       " Row(BibNum=6720, Title='The White House murder case: a play in two acts & Dick and Jane: a one-act play.', Author='Feiffer, Jules', ISBN=None, PublicationYear='[1970]', Publisher='Grove Press', Subjects=None, ItemType='acbk', ItemCollection='canf', FloatingItem='NA', ItemLocation='cen', ReportDate='2017-09-01T00:00:00.000', ItemCount='1'),\n",
       " Row(BibNum=6845, Title='Autumn of glory; the Army of Tennessee, 1862-1865.', Author='Connelly, Thomas Lawrence', ISBN='0807104450', PublicationYear='[1971]', Publisher='Louisiana State University Press', Subjects='Confederate States of America Army Department of Tennessee, United States History Civil War 1861 1865 Regimental histories', ItemType='acbk', ItemCollection='canf', FloatingItem='NA', ItemLocation='cen', ReportDate='2017-09-01T00:00:00.000', ItemCount='1'),\n",
       " Row(BibNum=7118, Title='Variety music cavalcade, 1620-1969; a chronology of vocal and instrumental music popular in the United States. With an introd. by Abel Green.', Author='Mattfeld, Julius, 1893-1968', ISBN='0139407189', PublicationYear='[1971]', Publisher='Prentice-Hall', Subjects='Popular music United States Bibliography, Music United States Chronology', ItemType='arbk', ItemCollection='caref', FloatingItem='NA', ItemLocation='cen', ReportDate='2017-09-01T00:00:00.000', ItemCount='1'),\n",
       " Row(BibNum=7886, Title='A bibliography of novels related to American frontier and colonial history, by Jack VanDerhoof.', Author='Van Derhoof, Jack Warner.', ISBN='087875007X', PublicationYear='1971.', Publisher='Whitston Pub. Co.,', Subjects='Historical fiction American Bibliography, Historical fiction English Bibliography, United States History Colonial period ca 1600 1775 Fiction Bibliography', ItemType='arbk', ItemCollection='cs8r', FloatingItem='NA', ItemLocation='cen', ReportDate='2017-09-01T00:00:00.000', ItemCount='2'),\n",
       " Row(BibNum=9922, Title='Technical report.', Author='United States. Commission on Obscenity and Pornography', ISBN=None, PublicationYear='[1971-]', Publisher='[For sale by the Supt. of Docs., U.S. Govt. Print. Off.],', Subjects='Erotica, Obscenity Law United States, Pornography Social aspects', ItemType='acbk', ItemCollection='canf', FloatingItem='NA', ItemLocation='cen', ReportDate='2017-09-01T00:00:00.000', ItemCount='9'),\n",
       " Row(BibNum=11849, Title='English-Spanish, Spanish-English dictionary of communications and electronic terms. Diccionario de terminología electrónica y de telecomunicaciones inglés-español, español-inglés [by] Roger L. Freeman.', Author='Freeman, Roger L.', ISBN='0521080800', PublicationYear='1972.', Publisher='Cambridge University Press,', Subjects='Electronics Dictionaries, English language Dictionaries Spanish, Electronics Dictionaries Spanish, Spanish language Dictionaries English, Telecommunication Dictionaries, Telecommunication Dictionaries Spanish', ItemType='arbk', ItemCollection='caref', FloatingItem='NA', ItemLocation='cen', ReportDate='2017-09-01T00:00:00.000', ItemCount='1'),\n",
       " Row(BibNum=12320, Title='August 1914 [by] Alexander Solzhenitsyn. Translated by Michael Glenny.', Author='Solzheni︠t︡syn, Aleksandr Isaevich, 1918-2008', ISBN='0374106843', PublicationYear='[1972-]', Publisher='Farrar, Straus and Giroux,', Subjects='Tannenberg Battle of Stebark Poland 1914 Fiction, War fiction, Historical fiction', ItemType='acbk', ItemCollection='cs3fic', FloatingItem='NA', ItemLocation='cen', ReportDate='2017-09-01T00:00:00.000', ItemCount='1'),\n",
       " Row(BibNum=13474, Title='The church and slavery. With an appendix. Philadelphia, Parry & McMillan, 1857.', Author='Barnes, Albert, 1798-1870', ISBN=None, PublicationYear='[1969?]', Publisher='Negro History Press', Subjects='Slavery United States, Slavery and the church United States, Slavery and the church Presbyterian Church', ItemType='acbk', ItemCollection='naaanf', FloatingItem='NA', ItemLocation='dth', ReportDate='2017-09-01T00:00:00.000', ItemCount='1'),\n",
       " Row(BibNum=13810, Title='Symposium on Palynology of the Late Cretaceous and Early Tertiary, edited by Robert M. Kosanke and Aureal T. Cross.', Author='Symposium on Palynology of the Late Cretaceous and Early Tertiary (1966 : San Francisco, Calif.)', ISBN='081372127X', PublicationYear='[c1970]', Publisher='Geological Society of America', Subjects='Palynology United States Congresses, Palynology Canada Congresses, Paleobotany Cretaceous Congresses, Paleobotany Tertiary Congresses', ItemType='arbk', ItemCollection='cs7r', FloatingItem='NA', ItemLocation='cen', ReportDate='2017-09-01T00:00:00.000', ItemCount='1'),\n",
       " Row(BibNum=14745, Title='Modern verse from Taiwan. Edited and translated by Angela C. Y. Jung Palandri, with Robert J. Bertholf.', Author='Palandri, Angela C. Y. Jung, 1926-', ISBN='0520017900', PublicationYear='1972.', Publisher='University of California Press,', Subjects='Chinese poetry Translations into English', ItemType='acbk', ItemCollection='canf', FloatingItem='NA', ItemLocation='cen', ReportDate='2017-09-01T00:00:00.000', ItemCount='1'),\n",
       " Row(BibNum=15046, Title='The monetary sin of the West. Translated by Roger Glémet.', Author='Rueff, Jacques', ISBN=None, PublicationYear='[1972]', Publisher='Macmillan,', Subjects='Money, Foreign exchange, Gold standard', ItemType='arbk', ItemCollection='cs6r', FloatingItem='NA', ItemLocation='cen', ReportDate='2017-09-01T00:00:00.000', ItemCount='1'),\n",
       " Row(BibNum=15579, Title='The Sneetches, and other stories. Written and illustrated by Dr. Seuss.', Author='Seuss, Dr.', ISBN='0394800893', PublicationYear='c1961.', Publisher='Random House,', Subjects='Fantasy, Stories in rhyme', ItemType='jcbk', ItemCollection='ncpic', FloatingItem='NA', ItemLocation='fre', ReportDate='2017-09-01T00:00:00.000', ItemCount='1'),\n",
       " Row(BibNum=15891, Title='If I ran the circus, by Dr. Seuss.', Author='Seuss, Dr.', ISBN='9780394800806', PublicationYear='[1956]', Publisher='Random House,', Subjects='Circus Poetry, Stories in rhyme, Fantasy', ItemType='jcbk', ItemCollection='ncpic', FloatingItem='NA', ItemLocation='gwd', ReportDate='2017-09-01T00:00:00.000', ItemCount='2'),\n",
       " Row(BibNum=18496, Title='A history of Winlock, Washington.', Author='Wall, C. C.', ISBN=None, PublicationYear='1952 [i.e. 1957]', Publisher=None, Subjects='Winlock Wash History', ItemType='arbk', ItemCollection='cs9r', FloatingItem='NA', ItemLocation='cen', ReportDate='2017-09-01T00:00:00.000', ItemCount='1'),\n",
       " Row(BibNum=20996, Title='The Raft River Basin, Idaho-Utah as of 1966: a reappraisal of the water resources and effects of ground-water development, by E. H. Walker [and others.', Author='Geological Survey (U.S.)', ISBN=None, PublicationYear='1970.', Publisher='Idaho Dept. of Water Administration,', Subjects='Water resources development Raft River Watershed Utah and Idaho, Groundwater Raft River Watershed Utah and Idaho', ItemType='arbk', ItemCollection='cs7r', FloatingItem='NA', ItemLocation='cen', ReportDate='2017-09-01T00:00:00.000', ItemCount='1'),\n",
       " Row(BibNum=21646, Title='All about H. Hatterr [by] G. V. Desani. Introd. by Anthony Burgess.', Author='Desani, G. V. (Govindas Vishnoodas), 1909-2000', ISBN=None, PublicationYear='[1970]', Publisher='Farrar, Straus and Giroux', Subjects=None, ItemType='acbk', ItemCollection='cs3fic', FloatingItem='NA', ItemLocation='cen', ReportDate='2017-09-01T00:00:00.000', ItemCount='1'),\n",
       " Row(BibNum=21713, Title='The anatomy of an airline.', Author='Williams, Brad', ISBN=None, PublicationYear='1970.', Publisher='Doubleday,', Subjects='National Airlines inc', ItemType='arbk', ItemCollection='caaero', FloatingItem='NA', ItemLocation='cen', ReportDate='2017-09-01T00:00:00.000', ItemCount='1'),\n",
       " Row(BibNum=27292, Title='Knappton : the first 50 years, Pacific County, Washington / Carlton E. Appelo.', Author='Appelo, Carlton E.', ISBN=None, PublicationYear='1975.', Publisher='Appelo,', Subjects='Knappton Wash History', ItemType='arbk', ItemCollection='caref', FloatingItem='NA', ItemLocation='cen', ReportDate='2017-09-01T00:00:00.000', ItemCount='1'),\n",
       " Row(BibNum=28127, Title='Words for all seasons; a collection of narratives and poetry, essays and observations for passing the time with subtle amusement and absorbing thought. Edited by Thomas C. Jones. Illustrated by Kay Lovelace Smith.', Author='Jones, Thomas C.', ISBN=None, PublicationYear='[1971]', Publisher='J. G. Ferguson Pub. Co.', Subjects='English literature, American literature', ItemType='acbk', ItemCollection='canf', FloatingItem='NA', ItemLocation='cen', ReportDate='2017-09-01T00:00:00.000', ItemCount='1'),\n",
       " Row(BibNum=29844, Title='Documents in the political history of the European continent, 1815-1939; selected and edited by G. A. Kertesz.', Author='Kertesz, G. A.', ISBN='0198730020', PublicationYear='1968.', Publisher='Clarendon P.,', Subjects='Europe History 1789 1900 Sources, Europe History 20th century', ItemType='arbk', ItemCollection='caref', FloatingItem='NA', ItemLocation='cen', ReportDate='2017-09-01T00:00:00.000', ItemCount='1'),\n",
       " Row(BibNum=31193, Title='Lamy of Santa Fe, his life and times / Paul Horgan.', Author='Horgan, Paul, 1903-1995', ISBN='0374183007', PublicationYear='1975.', Publisher='Farrar, Straus and Giroux,', Subjects='Lamy John Baptist 1814 1888', ItemType='acbk', ItemCollection='cab', FloatingItem='NA', ItemLocation='cen', ReportDate='2017-09-01T00:00:00.000', ItemCount='1'),\n",
       " Row(BibNum=32889, Title='Theodore Roethke : the garden master / by Rosemary Sullivan.', Author='Sullivan, Rosemary, 1947-', ISBN='0295954299', PublicationYear='c1975.', Publisher='University of Washington Press,', Subjects='Roethke Theodore 1908 1963 Criticism and interpretation', ItemType='acbk', ItemCollection='canf', FloatingItem='NA', ItemLocation='cen', ReportDate='2017-09-01T00:00:00.000', ItemCount='3'),\n",
       " Row(BibNum=33765, Title='Historical dictionary of Bolivia, by Dwight B. Heath.', Author='Heath, Dwight B.', ISBN='0810804514', PublicationYear='1972.', Publisher='Scarecrow Press,', Subjects='Bolivia Dictionaries, Bolivia Encyclopedias', ItemType='arbk', ItemCollection='caref', FloatingItem='NA', ItemLocation='cen', ReportDate='2017-09-01T00:00:00.000', ItemCount='1'),\n",
       " Row(BibNum=39108, Title='Prophets on the right : profiles of conservative critics of American globalism / Ronald Radosh.', Author='Radosh, Ronald', ISBN='0671219014', PublicationYear='[1975]', Publisher='Simon and Schuster,', Subjects='Conservatism United States, United States Foreign relations 1933 1945, United States Foreign relations 1945 1953', ItemType='acbk', ItemCollection='canf', FloatingItem='NA', ItemLocation='cen', ReportDate='2017-09-01T00:00:00.000', ItemCount='1'),\n",
       " Row(BibNum=40307, Title='Black child care : how to bring up a healthy Black child in America : a guide to emotional and psychological development / by James P. Comer and Alvin F. Poussaint.', Author='Comer, James P.', ISBN='0671219022', PublicationYear='[1975]', Publisher='Simon and Schuster,', Subjects='Child rearing, Adolescence, African American children, Education', ItemType='arbk', ItemCollection='naaar', FloatingItem='NA', ItemLocation='dth', ReportDate='2017-09-01T00:00:00.000', ItemCount='1'),\n",
       " Row(BibNum=41068, Title='Modern chinchilla fur farming / by Willis D. Parker.', Author='Parker, Willis D. (Willis Dye), 1908-', ISBN=None, PublicationYear='c1975.', Publisher='Borden Pub. Co.,', Subjects='Chinchillas', ItemType='arbk', ItemCollection='caref', FloatingItem='NA', ItemLocation='cen', ReportDate='2017-09-01T00:00:00.000', ItemCount='1'),\n",
       " Row(BibNum=43493, Title='Economic development of Latin America; a survey from colonial times to the Cuban revolution. Translated by Suzette Macedo.', Author='Furtado, Celso', ISBN='0521078288', PublicationYear='1970.', Publisher='University Press,', Subjects='Latin America Economic conditions, Latin America Social conditions', ItemType='acbk', ItemCollection='canf', FloatingItem='NA', ItemLocation='cen', ReportDate='2017-09-01T00:00:00.000', ItemCount='1'),\n",
       " Row(BibNum=45338, Title='Sun Buddhas, moon Buddhas: a Zen quest by Elsie P. Mitchell. Foreword by Aelred Graham.', Author='Mitchell, Elsie P., 1926-', ISBN='0834800837', PublicationYear='[1973]', Publisher='Weatherhill', Subjects='Mitchell Elsie P 1926, Religious life Zen Buddhism', ItemType='acbk', ItemCollection='canf', FloatingItem='NA', ItemLocation='cen', ReportDate='2017-09-01T00:00:00.000', ItemCount='1'),\n",
       " Row(BibNum=48210, Title=\"Lord Rochester's monkey; being the life of John Wilmot, second Earl of Rochester.\", Author='Greene, Graham, 1904-1991', ISBN='0670440558', PublicationYear='[1974]', Publisher='Viking Press', Subjects='Rochester John Wilmot Earl of 1647 1680, Poets English Early modern 1500 1700 Biography, Great Britain Court and courtiers Biography', ItemType='acbk', ItemCollection='cab', FloatingItem='NA', ItemLocation='cen', ReportDate='2017-09-01T00:00:00.000', ItemCount='1'),\n",
       " Row(BibNum=50403, Title='Good morning: last poems. Foreword by Richard Howard.', Author='Van Doren, Mark, 1894-1972', ISBN='0809050641', PublicationYear='[1973]', Publisher='Hill and Wang', Subjects=None, ItemType='acbk', ItemCollection='canf', FloatingItem='NA', ItemLocation='cen', ReportDate='2017-09-01T00:00:00.000', ItemCount='1'),\n",
       " Row(BibNum=50525, Title='Black engineers in the United States--a directory, [by] James K. K. Ho.', Author='Ho, James K. K.', ISBN='0882580000', PublicationYear='[1974]', Publisher='Howard University Press', Subjects='African American engineers Directories', ItemType='arbk', ItemCollection='cabr', FloatingItem='NA', ItemLocation='cen', ReportDate='2017-09-01T00:00:00.000', ItemCount='1'),\n",
       " Row(BibNum=51582, Title='Woodwind ensemble music guide, compiled by Himie Voxman & Lyle Merriman.', Author='Voxman, Himie', ISBN=None, PublicationYear='[c1973]', Publisher='Instrumentalist Co.', Subjects='Woodwind ensembles Bibliography, Chamber music Bibliography', ItemType='arbk', ItemCollection='cs8r', FloatingItem='NA', ItemLocation='cen', ReportDate='2017-09-01T00:00:00.000', ItemCount='1'),\n",
       " Row(BibNum=51742, Title='A dictionary of ballet / G. B. L. Wilson.', Author='Wilson, George Buckley Laird', ISBN='0878300392', PublicationYear='1974.', Publisher='Theatre Arts Books,', Subjects='Ballet Dictionaries', ItemType='arbk', ItemCollection='caref', FloatingItem='NA', ItemLocation='cen', ReportDate='2017-09-01T00:00:00.000', ItemCount='1'),\n",
       " Row(BibNum=53736, Title='Marcel Proust.', Author='Peyre, Henri, 1901-1988', ISBN='0231034067', PublicationYear='1970.', Publisher='Columbia University Press,', Subjects='Proust Marcel 1871 1922, Novelists French 20th century Biography', ItemType='arbk', ItemCollection='caref', FloatingItem='NA', ItemLocation='cen', ReportDate='2017-09-01T00:00:00.000', ItemCount='1'),\n",
       " Row(BibNum=58524, Title='The cuisines of Mexico. Foreword by Craig Claiborne. Drawings by Sidonie Coryn.', Author='Kennedy, Diana', ISBN='0060123443', PublicationYear='[1972]', Publisher='Harper & Row', Subjects='Cooking Mexican', ItemType='arbk', ItemCollection='caref', FloatingItem='NA', ItemLocation='cen', ReportDate='2017-09-01T00:00:00.000', ItemCount='1'),\n",
       " Row(BibNum=62503, Title='Common and uncommon masks; writings on theatre 1961-1970.', Author='Gilman, Richard, 1925-2006.', ISBN='0394419855', PublicationYear='[1971]', Publisher='Random House', Subjects='Theater United States Reviews', ItemType='acbk', ItemCollection='canf', FloatingItem='NA', ItemLocation='cen', ReportDate='2017-09-01T00:00:00.000', ItemCount='1'),\n",
       " Row(BibNum=64983, Title='Kenneth Lochhead, recent works on paper; an exhibition organized by Gallery 111.', Author='Lochhead, Kenneth, 1926-', ISBN=None, PublicationYear='[1972]', Publisher='[School of Art, University of Manitoba],', Subjects='Lochhead Kenneth 1926', ItemType='arbk', ItemCollection='cs8r', FloatingItem='NA', ItemLocation='cen', ReportDate='2017-09-01T00:00:00.000', ItemCount='1'),\n",
       " Row(BibNum=65795, Title='Mechanization takes command, a contribution to anonymous history.', Author='Giedion, S. (Sigfried), 1888-1968', ISBN=None, PublicationYear='1948.', Publisher='Oxford Univ. Press,', Subjects='Industrial arts History, Mechanization, Inventions History', ItemType='acbk', ItemCollection='canf', FloatingItem='NA', ItemLocation='cen', ReportDate='2017-09-01T00:00:00.000', ItemCount='1'),\n",
       " Row(BibNum=67304, Title='The longest day: June 6, 1944.', Author='Ryan, Cornelius', ISBN=None, PublicationYear='1959.', Publisher='Simon and Schuster,', Subjects='World War 1939 1945 Campaigns France Normandy, Normandy France History', ItemType='acbk', ItemCollection='canf', FloatingItem='NA', ItemLocation='cen', ReportDate='2017-09-01T00:00:00.000', ItemCount='1'),\n",
       " Row(BibNum=69745, Title='The Constitution and the Supreme Court; a documentary history, edited by Louis H. Pollak. Introd. by George F. Scheer.', Author='Pollak, Louis H.', ISBN=None, PublicationYear='[1966]', Publisher='World Pub. Co.', Subjects='United States Supreme Court, United States Constitution, Constitutional law United States', ItemType='acbk', ItemCollection='canf', FloatingItem='NA', ItemLocation='cen', ReportDate='2017-09-01T00:00:00.000', ItemCount='2'),\n",
       " Row(BibNum=69874, Title='Dryden; a collection of critical essays.', Author='Schilling, Bernard Nicholas', ISBN=None, PublicationYear='[1963]', Publisher='Prentice-Hall', Subjects='Dryden John 1631 1700 Criticism and interpretation', ItemType='acbk', ItemCollection='canf', FloatingItem='NA', ItemLocation='cen', ReportDate='2017-09-01T00:00:00.000', ItemCount='1'),\n",
       " Row(BibNum=71853, Title='The timber situation and outlook for northwest Oregon, by Robert W. Cowlin and Robert M. Forster.', Author='Cowlin, Robert William, 1899-', ISBN=None, PublicationYear='1965.', Publisher='Pacific Northwest Forest Service and Range Experiment Station, U.S. Dept. of Agriculture, Forest Service,', Subjects='Forest products industry Oregon, Forests and forestry Oregon', ItemType='arbk', ItemCollection='cs7r', FloatingItem='NA', ItemLocation='cen', ReportDate='2017-09-01T00:00:00.000', ItemCount='1'),\n",
       " Row(BibNum=72089, Title=\"Shakespeare's Southampton, patron of Virginia, by A. L. Rowse.\", Author='Rowse, A. L. (Alfred Leslie), 1903-1997', ISBN=None, PublicationYear='[1965]', Publisher='Harper & Row', Subjects='Southampton Henry Wriothesley Earl of 1573 1624, Shakespeare William 1564 1616 Friends and associates, Virginia Company of London', ItemType='acbk', ItemCollection='cab', FloatingItem='NA', ItemLocation='cen', ReportDate='2017-09-01T00:00:00.000', ItemCount='1'),\n",
       " Row(BibNum=72128, Title='Italian art, 1500-1600; sources and documents [by] Robert Klein [and] Henri Zerner.', Author='Klein, Robert, 1918-1967', ISBN=None, PublicationYear='[1966]', Publisher='Prentice-Hall', Subjects='Art Italian History Sources, Art Renaissance History Sources', ItemType='acbk', ItemCollection='canf', FloatingItem='NA', ItemLocation='cen', ReportDate='2017-09-01T00:00:00.000', ItemCount='1'),\n",
       " Row(BibNum=73040, Title='Shepherds of the night. Translated from the Portuguese by Harriet de Onís.', Author='Amado, Jorge, 1912-2001', ISBN=None, PublicationYear='1967 [c1966]', Publisher='Knopf,', Subjects='Brazil Fiction', ItemType='acbk', ItemCollection='cs3fic', FloatingItem='NA', ItemLocation='cen', ReportDate='2017-09-01T00:00:00.000', ItemCount='1'),\n",
       " Row(BibNum=75218, Title='A dictionary of Canadian artists. Compiled by Colin S. Macdonald.', Author='MacDonald, Colin S., 1925-', ISBN=None, PublicationYear='[1967-<2006>]', Publisher='Canadian Paperbacks', Subjects='Artists Canada Biography Dictionaries, Canada Biography Dictionaries', ItemType='acbk', ItemCollection='cs8r', FloatingItem='NA', ItemLocation='cen', ReportDate='2017-09-01T00:00:00.000', ItemCount='8'),\n",
       " Row(BibNum=76236, Title='Ernest Hemingway, a comprehensive bibliography.', Author='Hanneman, Audre', ISBN=None, PublicationYear='1967.', Publisher='Princeton University Press,', Subjects='Hemingway Ernest 1899 1961 Bibliography', ItemType='arbk', ItemCollection='cs8r', FloatingItem='NA', ItemLocation='cen', ReportDate='2017-09-01T00:00:00.000', ItemCount='1'),\n",
       " Row(BibNum=79765, Title='Aboriginal art from Australia; [bark paintings and sculpture lent by the National Gallery of South Australia, Adelaide. Catalogue by Charles P. Mountford. Exhibition: Worcester Art Museum, February 17-April 3, 1966; Allentown Art Museum, April 14-May 12, 1966.', Author='Mountford, Charles Pearcy, 1890-1977.', ISBN=None, PublicationYear='1966]', Publisher='Printed by Commonwealth Press,', Subjects='Painting Aboriginal Australian Exhibitions, Sculpture Primitive Exhibitions', ItemType='acbk', ItemCollection='canf', FloatingItem='NA', ItemLocation='cen', ReportDate='2017-09-01T00:00:00.000', ItemCount='1'),\n",
       " Row(BibNum=79808, Title='Old Hungarian painted woodwork, 15th-19th centuries [by] Ilona R. Tombor. [Translated by Lili Halápy.', Author='Tombor, Ilona R.', ISBN=None, PublicationYear='[1967]', Publisher='Corvina Press', Subjects='Painted woodwork Hungary, Decoration and ornament Hungarian, Folk art Hungary', ItemType='acbk', ItemCollection='canf', FloatingItem='NA', ItemLocation='cen', ReportDate='2017-09-01T00:00:00.000', ItemCount='1')]"
      ]
     },
     "execution_count": 28,
     "metadata": {},
     "output_type": "execute_result"
    }
   ],
   "source": [
    "df.take(50)"
   ]
  },
  {
   "cell_type": "code",
   "execution_count": 41,
   "id": "junior-absolute",
   "metadata": {},
   "outputs": [
    {
     "name": "stdout",
     "output_type": "stream",
     "text": [
      "+----------------------------------------------------------------------+\n",
      "|count(CASE WHEN (isnan(Subjects) OR (Subjects IS NULL)) THEN true END)|\n",
      "+----------------------------------------------------------------------+\n",
      "|                                                                     0|\n",
      "+----------------------------------------------------------------------+\n",
      "\n",
      "+----------------------------------------------------------------------+\n",
      "|count(CASE WHEN (isnan(ItemType) OR (ItemType IS NULL)) THEN true END)|\n",
      "+----------------------------------------------------------------------+\n",
      "|                                                                   121|\n",
      "+----------------------------------------------------------------------+\n",
      "\n",
      "+----------------------------------------------------------------------------------+\n",
      "|count(CASE WHEN (isnan(ItemCollection) OR (ItemCollection IS NULL)) THEN true END)|\n",
      "+----------------------------------------------------------------------------------+\n",
      "|                                                                               105|\n",
      "+----------------------------------------------------------------------------------+\n",
      "\n"
     ]
    }
   ],
   "source": [
    "#Count nulls\n",
    "df.select([count(when(isnan('Subjects') | col('Subjects').isNull() , True))]).show()\n",
    "df.select([count(when(isnan('ItemType') | col('ItemType').isNull() , True))]).show()\n",
    "df.select([count(when(isnan('ItemCollection') | col('ItemCollection').isNull() , True))]).show()"
   ]
  },
  {
   "cell_type": "code",
   "execution_count": 36,
   "id": "through-antibody",
   "metadata": {},
   "outputs": [],
   "source": [
    "x = df.count()"
   ]
  },
  {
   "cell_type": "code",
   "execution_count": 37,
   "id": "matched-pantyhose",
   "metadata": {},
   "outputs": [
    {
     "data": {
      "text/plain": [
       "347485"
      ]
     },
     "execution_count": 37,
     "metadata": {},
     "output_type": "execute_result"
    }
   ],
   "source": [
    "x - 8322"
   ]
  },
  {
   "cell_type": "code",
   "execution_count": 42,
   "id": "eight-ethiopia",
   "metadata": {},
   "outputs": [],
   "source": [
    "df = df.na.drop(subset=[\"Subjects\"]) ## Drop null values\n",
    "df = df.na.drop(subset=[\"ItemType\"]) ## Drop null values\n",
    "df = df.na.drop(subset=[\"ItemCollection\"]) ## Drop null values"
   ]
  },
  {
   "cell_type": "code",
   "execution_count": 43,
   "id": "secondary-moore",
   "metadata": {},
   "outputs": [
    {
     "data": {
      "text/plain": [
       "347352"
      ]
     },
     "execution_count": 43,
     "metadata": {},
     "output_type": "execute_result"
    }
   ],
   "source": [
    "df.count()"
   ]
  },
  {
   "cell_type": "code",
   "execution_count": 47,
   "id": "advanced-horizontal",
   "metadata": {},
   "outputs": [
    {
     "name": "stdout",
     "output_type": "stream",
     "text": [
      "+------+--------------------+--------------------+-------------+----------------+--------------------+--------------------+--------+--------------+------------+------------+--------------------+---------+-------------------+\n",
      "|BibNum|               Title|              Author|         ISBN| PublicationYear|           Publisher|            Subjects|ItemType|ItemCollection|FloatingItem|ItemLocation|          ReportDate|ItemCount|ItemCollectionIndex|\n",
      "+------+--------------------+--------------------+-------------+----------------+--------------------+--------------------+--------+--------------+------------+------------+--------------------+---------+-------------------+\n",
      "|  4750|My maternal ances...|  Wood, Melba, 1913-|         null|    [1968]-1987.|            M. Wood,|         Hale family|    arbk|         caref|          NA|         cen|2017-09-01T00:00:...|        1|                7.0|\n",
      "|  6845|Autumn of glory; ...|Connelly, Thomas ...|   0807104450|          [1971]|Louisiana State U...|Confederate State...|    acbk|          canf|          NA|         cen|2017-09-01T00:00:...|        1|                0.0|\n",
      "|  7118|Variety music cav...|Mattfeld, Julius,...|   0139407189|          [1971]|       Prentice-Hall|Popular music Uni...|    arbk|         caref|          NA|         cen|2017-09-01T00:00:...|        1|                7.0|\n",
      "|  7886|A bibliography of...|Van Derhoof, Jack...|   087875007X|           1971.|  Whitston Pub. Co.,|Historical fictio...|    arbk|          cs8r|          NA|         cen|2017-09-01T00:00:...|        2|               17.0|\n",
      "|  9922|   Technical report.|United States. Co...|         null|         [1971-]|[For sale by the ...|Erotica, Obscenit...|    acbk|          canf|          NA|         cen|2017-09-01T00:00:...|        9|                0.0|\n",
      "| 11849|English-Spanish, ...|   Freeman, Roger L.|   0521080800|           1972.|Cambridge Univers...|Electronics Dicti...|    arbk|         caref|          NA|         cen|2017-09-01T00:00:...|        1|                7.0|\n",
      "| 12320|August 1914 [by] ...|Solzheni︠t︡syn, A...|   0374106843|         [1972-]|Farrar, Straus an...|Tannenberg Battle...|    acbk|        cs3fic|          NA|         cen|2017-09-01T00:00:...|        1|              103.0|\n",
      "| 13474|The church and sl...|Barnes, Albert, 1...|         null|         [1969?]| Negro History Press|Slavery United St...|    acbk|        naaanf|          NA|         dth|2017-09-01T00:00:...|        1|               55.0|\n",
      "| 13810|Symposium on Paly...|Symposium on Paly...|   081372127X|         [c1970]|Geological Societ...|Palynology United...|    arbk|          cs7r|          NA|         cen|2017-09-01T00:00:...|        1|               15.0|\n",
      "| 14745|Modern verse from...|Palandri, Angela ...|   0520017900|           1972.|University of Cal...|Chinese poetry Tr...|    acbk|          canf|          NA|         cen|2017-09-01T00:00:...|        1|                0.0|\n",
      "| 15046|The monetary sin ...|      Rueff, Jacques|         null|          [1972]|          Macmillan,|Money, Foreign ex...|    arbk|          cs6r|          NA|         cen|2017-09-01T00:00:...|        1|               20.0|\n",
      "| 15579|The Sneetches, an...|          Seuss, Dr.|   0394800893|          c1961.|       Random House,|Fantasy, Stories ...|    jcbk|         ncpic|          NA|         fre|2017-09-01T00:00:...|        1|                2.0|\n",
      "| 15891|If I ran the circ...|          Seuss, Dr.|9780394800806|          [1956]|       Random House,|Circus Poetry, St...|    jcbk|         ncpic|          NA|         gwd|2017-09-01T00:00:...|        2|                2.0|\n",
      "| 18496|A history of Winl...|         Wall, C. C.|         null|1952 [i.e. 1957]|                null|Winlock Wash History|    arbk|          cs9r|          NA|         cen|2017-09-01T00:00:...|        1|               85.0|\n",
      "| 20996|The Raft River Ba...|Geological Survey...|         null|           1970.|Idaho Dept. of Wa...|Water resources d...|    arbk|          cs7r|          NA|         cen|2017-09-01T00:00:...|        1|               15.0|\n",
      "| 21713|The anatomy of an...|      Williams, Brad|         null|           1970.|          Doubleday,|National Airlines...|    arbk|        caaero|          NA|         cen|2017-09-01T00:00:...|        1|               52.0|\n",
      "| 27292|Knappton : the fi...|  Appelo, Carlton E.|         null|           1975.|             Appelo,|Knappton Wash His...|    arbk|         caref|          NA|         cen|2017-09-01T00:00:...|        1|                7.0|\n",
      "| 28127|Words for all sea...|    Jones, Thomas C.|         null|          [1971]|J. G. Ferguson Pu...|English literatur...|    acbk|          canf|          NA|         cen|2017-09-01T00:00:...|        1|                0.0|\n",
      "| 29844|Documents in the ...|      Kertesz, G. A.|   0198730020|           1968.|       Clarendon P.,|Europe History 17...|    arbk|         caref|          NA|         cen|2017-09-01T00:00:...|        1|                7.0|\n",
      "| 31193|Lamy of Santa Fe,...|Horgan, Paul, 190...|   0374183007|           1975.|Farrar, Straus an...|Lamy John Baptist...|    acbk|           cab|          NA|         cen|2017-09-01T00:00:...|        1|               27.0|\n",
      "+------+--------------------+--------------------+-------------+----------------+--------------------+--------------------+--------+--------------+------------+------------+--------------------+---------+-------------------+\n",
      "only showing top 20 rows\n",
      "\n"
     ]
    }
   ],
   "source": [
    "item_collection_indexer = StringIndexer(inputCol=\"ItemCollection\", outputCol=\"ItemCollectionIndex\")#Fits a model to the input dataset with optional parameters.\n",
    "df1 = item_collection_indexer.fit(df).transform(df)\n",
    "df1.show()"
   ]
  },
  {
   "cell_type": "code",
   "execution_count": 45,
   "id": "wicked-practitioner",
   "metadata": {},
   "outputs": [],
   "source": [
    "#encoder = OneHotEncoder()\\\n",
    "#.setInputCol(\"ItemCollection\")\\\n",
    "#.setOutputCol(\"ItemCollection\")\n",
    "#encoder.transform(df.select(\"ItemCollection\")).show()"
   ]
  },
  {
   "cell_type": "code",
   "execution_count": 48,
   "id": "fatty-salon",
   "metadata": {},
   "outputs": [
    {
     "name": "stdout",
     "output_type": "stream",
     "text": [
      "+------+--------------------+--------------------+-------------+----------------+--------------------+--------------------+--------+--------------+------------+------------+--------------------+---------+-------------------+------------------+\n",
      "|BibNum|               Title|              Author|         ISBN| PublicationYear|           Publisher|            Subjects|ItemType|ItemCollection|FloatingItem|ItemLocation|          ReportDate|ItemCount|ItemCollectionIndex|ItemCollection_vec|\n",
      "+------+--------------------+--------------------+-------------+----------------+--------------------+--------------------+--------+--------------+------------+------------+--------------------+---------+-------------------+------------------+\n",
      "|  4750|My maternal ances...|  Wood, Melba, 1913-|         null|    [1968]-1987.|            M. Wood,|         Hale family|    arbk|         caref|          NA|         cen|2017-09-01T00:00:...|        1|                7.0|   (547,[7],[1.0])|\n",
      "|  6845|Autumn of glory; ...|Connelly, Thomas ...|   0807104450|          [1971]|Louisiana State U...|Confederate State...|    acbk|          canf|          NA|         cen|2017-09-01T00:00:...|        1|                0.0|   (547,[0],[1.0])|\n",
      "|  7118|Variety music cav...|Mattfeld, Julius,...|   0139407189|          [1971]|       Prentice-Hall|Popular music Uni...|    arbk|         caref|          NA|         cen|2017-09-01T00:00:...|        1|                7.0|   (547,[7],[1.0])|\n",
      "|  7886|A bibliography of...|Van Derhoof, Jack...|   087875007X|           1971.|  Whitston Pub. Co.,|Historical fictio...|    arbk|          cs8r|          NA|         cen|2017-09-01T00:00:...|        2|               17.0|  (547,[17],[1.0])|\n",
      "|  9922|   Technical report.|United States. Co...|         null|         [1971-]|[For sale by the ...|Erotica, Obscenit...|    acbk|          canf|          NA|         cen|2017-09-01T00:00:...|        9|                0.0|   (547,[0],[1.0])|\n",
      "| 11849|English-Spanish, ...|   Freeman, Roger L.|   0521080800|           1972.|Cambridge Univers...|Electronics Dicti...|    arbk|         caref|          NA|         cen|2017-09-01T00:00:...|        1|                7.0|   (547,[7],[1.0])|\n",
      "| 12320|August 1914 [by] ...|Solzheni︠t︡syn, A...|   0374106843|         [1972-]|Farrar, Straus an...|Tannenberg Battle...|    acbk|        cs3fic|          NA|         cen|2017-09-01T00:00:...|        1|              103.0| (547,[103],[1.0])|\n",
      "| 13474|The church and sl...|Barnes, Albert, 1...|         null|         [1969?]| Negro History Press|Slavery United St...|    acbk|        naaanf|          NA|         dth|2017-09-01T00:00:...|        1|               55.0|  (547,[55],[1.0])|\n",
      "| 13810|Symposium on Paly...|Symposium on Paly...|   081372127X|         [c1970]|Geological Societ...|Palynology United...|    arbk|          cs7r|          NA|         cen|2017-09-01T00:00:...|        1|               15.0|  (547,[15],[1.0])|\n",
      "| 14745|Modern verse from...|Palandri, Angela ...|   0520017900|           1972.|University of Cal...|Chinese poetry Tr...|    acbk|          canf|          NA|         cen|2017-09-01T00:00:...|        1|                0.0|   (547,[0],[1.0])|\n",
      "| 15046|The monetary sin ...|      Rueff, Jacques|         null|          [1972]|          Macmillan,|Money, Foreign ex...|    arbk|          cs6r|          NA|         cen|2017-09-01T00:00:...|        1|               20.0|  (547,[20],[1.0])|\n",
      "| 15579|The Sneetches, an...|          Seuss, Dr.|   0394800893|          c1961.|       Random House,|Fantasy, Stories ...|    jcbk|         ncpic|          NA|         fre|2017-09-01T00:00:...|        1|                2.0|   (547,[2],[1.0])|\n",
      "| 15891|If I ran the circ...|          Seuss, Dr.|9780394800806|          [1956]|       Random House,|Circus Poetry, St...|    jcbk|         ncpic|          NA|         gwd|2017-09-01T00:00:...|        2|                2.0|   (547,[2],[1.0])|\n",
      "| 18496|A history of Winl...|         Wall, C. C.|         null|1952 [i.e. 1957]|                null|Winlock Wash History|    arbk|          cs9r|          NA|         cen|2017-09-01T00:00:...|        1|               85.0|  (547,[85],[1.0])|\n",
      "| 20996|The Raft River Ba...|Geological Survey...|         null|           1970.|Idaho Dept. of Wa...|Water resources d...|    arbk|          cs7r|          NA|         cen|2017-09-01T00:00:...|        1|               15.0|  (547,[15],[1.0])|\n",
      "| 21713|The anatomy of an...|      Williams, Brad|         null|           1970.|          Doubleday,|National Airlines...|    arbk|        caaero|          NA|         cen|2017-09-01T00:00:...|        1|               52.0|  (547,[52],[1.0])|\n",
      "| 27292|Knappton : the fi...|  Appelo, Carlton E.|         null|           1975.|             Appelo,|Knappton Wash His...|    arbk|         caref|          NA|         cen|2017-09-01T00:00:...|        1|                7.0|   (547,[7],[1.0])|\n",
      "| 28127|Words for all sea...|    Jones, Thomas C.|         null|          [1971]|J. G. Ferguson Pu...|English literatur...|    acbk|          canf|          NA|         cen|2017-09-01T00:00:...|        1|                0.0|   (547,[0],[1.0])|\n",
      "| 29844|Documents in the ...|      Kertesz, G. A.|   0198730020|           1968.|       Clarendon P.,|Europe History 17...|    arbk|         caref|          NA|         cen|2017-09-01T00:00:...|        1|                7.0|   (547,[7],[1.0])|\n",
      "| 31193|Lamy of Santa Fe,...|Horgan, Paul, 190...|   0374183007|           1975.|Farrar, Straus an...|Lamy John Baptist...|    acbk|           cab|          NA|         cen|2017-09-01T00:00:...|        1|               27.0|  (547,[27],[1.0])|\n",
      "+------+--------------------+--------------------+-------------+----------------+--------------------+--------------------+--------+--------------+------------+------------+--------------------+---------+-------------------+------------------+\n",
      "only showing top 20 rows\n",
      "\n"
     ]
    }
   ],
   "source": [
    "#onehotencoder to qualificationIndex\n",
    "onehotencoder_item_collection_vector = OneHotEncoder(inputCol=\"ItemCollectionIndex\", outputCol=\"ItemCollection_vec\")\n",
    "df11 = onehotencoder_item_collection_vector.fit(df1).transform(df1)\n",
    "df11.show()"
   ]
  },
  {
   "cell_type": "code",
   "execution_count": 50,
   "id": "bronze-saint",
   "metadata": {},
   "outputs": [],
   "source": [
    "#Create pipeline and pass all stages\n",
    "pipeline = Pipeline(stages=[item_collection_indexer,\n",
    "                            onehotencoder_item_collection_vector\n",
    "                    ])"
   ]
  },
  {
   "cell_type": "code",
   "execution_count": 51,
   "id": "rough-investor",
   "metadata": {},
   "outputs": [
    {
     "name": "stdout",
     "output_type": "stream",
     "text": [
      "+------+--------------------+--------------------+-------------+----------------+--------------------+--------------------+--------+--------------+------------+------------+--------------------+---------+-------------------+------------------+\n",
      "|BibNum|               Title|              Author|         ISBN| PublicationYear|           Publisher|            Subjects|ItemType|ItemCollection|FloatingItem|ItemLocation|          ReportDate|ItemCount|ItemCollectionIndex|ItemCollection_vec|\n",
      "+------+--------------------+--------------------+-------------+----------------+--------------------+--------------------+--------+--------------+------------+------------+--------------------+---------+-------------------+------------------+\n",
      "|  4750|My maternal ances...|  Wood, Melba, 1913-|         null|    [1968]-1987.|            M. Wood,|         Hale family|    arbk|         caref|          NA|         cen|2017-09-01T00:00:...|        1|                7.0|   (547,[7],[1.0])|\n",
      "|  6845|Autumn of glory; ...|Connelly, Thomas ...|   0807104450|          [1971]|Louisiana State U...|Confederate State...|    acbk|          canf|          NA|         cen|2017-09-01T00:00:...|        1|                0.0|   (547,[0],[1.0])|\n",
      "|  7118|Variety music cav...|Mattfeld, Julius,...|   0139407189|          [1971]|       Prentice-Hall|Popular music Uni...|    arbk|         caref|          NA|         cen|2017-09-01T00:00:...|        1|                7.0|   (547,[7],[1.0])|\n",
      "|  7886|A bibliography of...|Van Derhoof, Jack...|   087875007X|           1971.|  Whitston Pub. Co.,|Historical fictio...|    arbk|          cs8r|          NA|         cen|2017-09-01T00:00:...|        2|               17.0|  (547,[17],[1.0])|\n",
      "|  9922|   Technical report.|United States. Co...|         null|         [1971-]|[For sale by the ...|Erotica, Obscenit...|    acbk|          canf|          NA|         cen|2017-09-01T00:00:...|        9|                0.0|   (547,[0],[1.0])|\n",
      "| 11849|English-Spanish, ...|   Freeman, Roger L.|   0521080800|           1972.|Cambridge Univers...|Electronics Dicti...|    arbk|         caref|          NA|         cen|2017-09-01T00:00:...|        1|                7.0|   (547,[7],[1.0])|\n",
      "| 12320|August 1914 [by] ...|Solzheni︠t︡syn, A...|   0374106843|         [1972-]|Farrar, Straus an...|Tannenberg Battle...|    acbk|        cs3fic|          NA|         cen|2017-09-01T00:00:...|        1|              103.0| (547,[103],[1.0])|\n",
      "| 13474|The church and sl...|Barnes, Albert, 1...|         null|         [1969?]| Negro History Press|Slavery United St...|    acbk|        naaanf|          NA|         dth|2017-09-01T00:00:...|        1|               55.0|  (547,[55],[1.0])|\n",
      "| 13810|Symposium on Paly...|Symposium on Paly...|   081372127X|         [c1970]|Geological Societ...|Palynology United...|    arbk|          cs7r|          NA|         cen|2017-09-01T00:00:...|        1|               15.0|  (547,[15],[1.0])|\n",
      "| 14745|Modern verse from...|Palandri, Angela ...|   0520017900|           1972.|University of Cal...|Chinese poetry Tr...|    acbk|          canf|          NA|         cen|2017-09-01T00:00:...|        1|                0.0|   (547,[0],[1.0])|\n",
      "| 15046|The monetary sin ...|      Rueff, Jacques|         null|          [1972]|          Macmillan,|Money, Foreign ex...|    arbk|          cs6r|          NA|         cen|2017-09-01T00:00:...|        1|               20.0|  (547,[20],[1.0])|\n",
      "| 15579|The Sneetches, an...|          Seuss, Dr.|   0394800893|          c1961.|       Random House,|Fantasy, Stories ...|    jcbk|         ncpic|          NA|         fre|2017-09-01T00:00:...|        1|                2.0|   (547,[2],[1.0])|\n",
      "| 15891|If I ran the circ...|          Seuss, Dr.|9780394800806|          [1956]|       Random House,|Circus Poetry, St...|    jcbk|         ncpic|          NA|         gwd|2017-09-01T00:00:...|        2|                2.0|   (547,[2],[1.0])|\n",
      "| 18496|A history of Winl...|         Wall, C. C.|         null|1952 [i.e. 1957]|                null|Winlock Wash History|    arbk|          cs9r|          NA|         cen|2017-09-01T00:00:...|        1|               85.0|  (547,[85],[1.0])|\n",
      "| 20996|The Raft River Ba...|Geological Survey...|         null|           1970.|Idaho Dept. of Wa...|Water resources d...|    arbk|          cs7r|          NA|         cen|2017-09-01T00:00:...|        1|               15.0|  (547,[15],[1.0])|\n",
      "| 21713|The anatomy of an...|      Williams, Brad|         null|           1970.|          Doubleday,|National Airlines...|    arbk|        caaero|          NA|         cen|2017-09-01T00:00:...|        1|               52.0|  (547,[52],[1.0])|\n",
      "| 27292|Knappton : the fi...|  Appelo, Carlton E.|         null|           1975.|             Appelo,|Knappton Wash His...|    arbk|         caref|          NA|         cen|2017-09-01T00:00:...|        1|                7.0|   (547,[7],[1.0])|\n",
      "| 28127|Words for all sea...|    Jones, Thomas C.|         null|          [1971]|J. G. Ferguson Pu...|English literatur...|    acbk|          canf|          NA|         cen|2017-09-01T00:00:...|        1|                0.0|   (547,[0],[1.0])|\n",
      "| 29844|Documents in the ...|      Kertesz, G. A.|   0198730020|           1968.|       Clarendon P.,|Europe History 17...|    arbk|         caref|          NA|         cen|2017-09-01T00:00:...|        1|                7.0|   (547,[7],[1.0])|\n",
      "| 31193|Lamy of Santa Fe,...|Horgan, Paul, 190...|   0374183007|           1975.|Farrar, Straus an...|Lamy John Baptist...|    acbk|           cab|          NA|         cen|2017-09-01T00:00:...|        1|               27.0|  (547,[27],[1.0])|\n",
      "+------+--------------------+--------------------+-------------+----------------+--------------------+--------------------+--------+--------------+------------+------------+--------------------+---------+-------------------+------------------+\n",
      "only showing top 20 rows\n",
      "\n"
     ]
    }
   ],
   "source": [
    "df_transformed = pipeline.fit(df).transform(df)\n",
    "df_transformed.show()"
   ]
  },
  {
   "cell_type": "code",
   "execution_count": 81,
   "id": "practical-swedish",
   "metadata": {},
   "outputs": [
    {
     "data": {
      "text/plain": [
       "548"
      ]
     },
     "execution_count": 81,
     "metadata": {},
     "output_type": "execute_result"
    }
   ],
   "source": [
    "df_transformed.select(\"ItemCollectionIndex\").distinct().count()"
   ]
  },
  {
   "cell_type": "code",
   "execution_count": null,
   "id": "continent-pasta",
   "metadata": {},
   "outputs": [],
   "source": [
    "#from pyspark.ml.feature import RFormula\n",
    "#supervised = RFormula(formula=\"label ~ . + Churn:TotalCharges + Churn:MonthlyCharges + Churn:SeniorCitizen\")"
   ]
  }
 ],
 "metadata": {
  "kernelspec": {
   "display_name": "PySpark",
   "language": "python",
   "name": "pyspark"
  },
  "language_info": {
   "codemirror_mode": {
    "name": "ipython",
    "version": 3
   },
   "file_extension": ".py",
   "mimetype": "text/x-python",
   "name": "python",
   "nbconvert_exporter": "python",
   "pygments_lexer": "ipython3",
   "version": "3.8.5"
  }
 },
 "nbformat": 4,
 "nbformat_minor": 5
}
